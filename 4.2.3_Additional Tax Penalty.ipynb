{
 "cells": [
  {
   "cell_type": "code",
   "execution_count": 3,
   "id": "a7a1879c",
   "metadata": {},
   "outputs": [],
   "source": [
    "import pandas as pd\n",
    "import numpy as np\n",
    "from datetime import datetime\n",
    "from dateutil import relativedelta\n",
    "import math"
   ]
  },
  {
   "cell_type": "code",
   "execution_count": 4,
   "id": "81ec13b0",
   "metadata": {},
   "outputs": [],
   "source": [
    "df = pd.read_excel(r'D:\\UP Vahan\\Files Renamed\\UP Chapter 4 - Results\\4.2.3 Intt. on Addl Tax penalty calculation.xlsx',sheet_name='After tablaue')"
   ]
  },
  {
   "cell_type": "code",
   "execution_count": 5,
   "id": "bee46769",
   "metadata": {},
   "outputs": [
    {
     "data": {
      "text/plain": [
       "Index(['Office Name', 'Registration No.', 'Registration Date', 'Office Name.1',\n",
       "       'Vehicle Class', 'Receipt Date', 'Tax From', 'Tax Upto', 'Purpose',\n",
       "       'Payment Mode', 'Tax in (Rs.)', 'Rebate in (Rs.)', 'Penalty in (Rs.)',\n",
       "       'Total in (Rs.)', 'Difference'],\n",
       "      dtype='object')"
      ]
     },
     "execution_count": 5,
     "metadata": {},
     "output_type": "execute_result"
    }
   ],
   "source": [
    "df.columns"
   ]
  },
  {
   "cell_type": "code",
   "execution_count": 6,
   "id": "16a691d4",
   "metadata": {},
   "outputs": [],
   "source": [
    "df['J-I'] = (df['Tax Upto']- df['Tax From']).dt.days\n",
    "df['K-I'] = (df['Receipt Date']- df['Tax From']).dt.days"
   ]
  },
  {
   "cell_type": "code",
   "execution_count": 7,
   "id": "1dee5c5c",
   "metadata": {},
   "outputs": [
    {
     "data": {
      "text/plain": [
       "Office Name                  object\n",
       "Registration No.             object\n",
       "Registration Date            object\n",
       "Office Name.1                object\n",
       "Vehicle Class                object\n",
       "Receipt Date         datetime64[ns]\n",
       "Tax From             datetime64[ns]\n",
       "Tax Upto             datetime64[ns]\n",
       "Purpose                      object\n",
       "Payment Mode                 object\n",
       "Tax in (Rs.)                  int64\n",
       "Rebate in (Rs.)               int64\n",
       "Penalty in (Rs.)              int64\n",
       "Total in (Rs.)                int64\n",
       "Difference                  float64\n",
       "J-I                         float64\n",
       "K-I                         float64\n",
       "dtype: object"
      ]
     },
     "execution_count": 7,
     "metadata": {},
     "output_type": "execute_result"
    }
   ],
   "source": [
    "df.dtypes"
   ]
  },
  {
   "cell_type": "code",
   "execution_count": 8,
   "id": "04547d1e",
   "metadata": {},
   "outputs": [
    {
     "name": "stdout",
     "output_type": "stream",
     "text": [
      "(20441, 17)\n",
      "(20425, 17)\n",
      "(20143, 17)\n",
      "(19530, 17)\n"
     ]
    }
   ],
   "source": [
    "df1 = df[df['Vehicle Class'] == 'Bus']\n",
    "print(df1.shape)\n",
    "df2 = df1[(df1['Tax From'] > \"2016-04-01\") & (df1['Tax From'] <= \"2021-03-31\")]\n",
    "print(df2.shape)\n",
    "df3 = df2[df2['J-I']>26]\n",
    "print(df3.shape)\n",
    "df4 = df3[(df3['K-I']>15)]\n",
    "df4.reset_index()\n",
    "print(df4.shape)"
   ]
  },
  {
   "cell_type": "code",
   "execution_count": 9,
   "id": "cf550112",
   "metadata": {},
   "outputs": [
    {
     "data": {
      "text/plain": [
       "Office Name                  object\n",
       "Registration No.             object\n",
       "Registration Date            object\n",
       "Office Name.1                object\n",
       "Vehicle Class                object\n",
       "Receipt Date         datetime64[ns]\n",
       "Tax From             datetime64[ns]\n",
       "Tax Upto             datetime64[ns]\n",
       "Purpose                      object\n",
       "Payment Mode                 object\n",
       "Tax in (Rs.)                  int64\n",
       "Rebate in (Rs.)               int64\n",
       "Penalty in (Rs.)              int64\n",
       "Total in (Rs.)                int64\n",
       "Difference                  float64\n",
       "J-I                         float64\n",
       "K-I                         float64\n",
       "dtype: object"
      ]
     },
     "execution_count": 9,
     "metadata": {},
     "output_type": "execute_result"
    }
   ],
   "source": [
    "df4.dtypes"
   ]
  },
  {
   "cell_type": "code",
   "execution_count": 12,
   "id": "88c84136",
   "metadata": {},
   "outputs": [
    {
     "name": "stderr",
     "output_type": "stream",
     "text": [
      "C:\\Users\\CDMA\\AppData\\Local\\Temp/ipykernel_17588/3373346469.py:21: SettingWithCopyWarning: \n",
      "A value is trying to be set on a copy of a slice from a DataFrame.\n",
      "Try using .loc[row_indexer,col_indexer] = value instead\n",
      "\n",
      "See the caveats in the documentation: https://pandas.pydata.org/pandas-docs/stable/user_guide/indexing.html#returning-a-view-versus-a-copy\n",
      "  df4['Duration'] = duration\n",
      "C:\\Users\\CDMA\\AppData\\Local\\Temp/ipykernel_17588/3373346469.py:22: SettingWithCopyWarning: \n",
      "A value is trying to be set on a copy of a slice from a DataFrame.\n",
      "Try using .loc[row_indexer,col_indexer] = value instead\n",
      "\n",
      "See the caveats in the documentation: https://pandas.pydata.org/pandas-docs/stable/user_guide/indexing.html#returning-a-view-versus-a-copy\n",
      "  df4['Delay'] = delay\n"
     ]
    }
   ],
   "source": [
    "delay = []\n",
    "duration = []\n",
    "for i in df4.index:\n",
    "    du = round(df4.loc[i]['J-I']/30)\n",
    "    duration.append(du)\n",
    "    delta = relativedelta.relativedelta(df4.loc[i]['Receipt Date'], df4.loc[i]['Tax From'])\n",
    "    if df4['Tax From'].dt.day[i]>15:\n",
    "        if df4['Receipt Date'].dt.day[i]>15:\n",
    "            de = delta.months + (delta.years*12)+ round(delta.days/30)\n",
    "            delay.append(de)\n",
    "        else:\n",
    "            de = math.ceil(df4.loc[i]['K-I']/30)\n",
    "            delay.append(de)\n",
    "    else:\n",
    "        if df4['Receipt Date'].dt.day[i]>15:\n",
    "            de = delta.months + (delta.years * 12) + 1\n",
    "            delay.append(de)\n",
    "        else:\n",
    "            de = delta.months + (delta.years * 12)+round(delta.days/30)\n",
    "            delay.append(de)\n",
    "df4['Duration'] = duration\n",
    "df4['Delay'] = delay  \n"
   ]
  },
  {
   "cell_type": "code",
   "execution_count": 11,
   "id": "392f8fa1",
   "metadata": {},
   "outputs": [
    {
     "data": {
      "text/html": [
       "<div>\n",
       "<style scoped>\n",
       "    .dataframe tbody tr th:only-of-type {\n",
       "        vertical-align: middle;\n",
       "    }\n",
       "\n",
       "    .dataframe tbody tr th {\n",
       "        vertical-align: top;\n",
       "    }\n",
       "\n",
       "    .dataframe thead th {\n",
       "        text-align: right;\n",
       "    }\n",
       "</style>\n",
       "<table border=\"1\" class=\"dataframe\">\n",
       "  <thead>\n",
       "    <tr style=\"text-align: right;\">\n",
       "      <th></th>\n",
       "      <th>Office Name</th>\n",
       "      <th>Registration No.</th>\n",
       "      <th>Registration Date</th>\n",
       "      <th>Office Name.1</th>\n",
       "      <th>Vehicle Class</th>\n",
       "      <th>Receipt Date</th>\n",
       "      <th>Tax From</th>\n",
       "      <th>Tax Upto</th>\n",
       "      <th>Purpose</th>\n",
       "      <th>Payment Mode</th>\n",
       "      <th>Tax in (Rs.)</th>\n",
       "      <th>Rebate in (Rs.)</th>\n",
       "      <th>Penalty in (Rs.)</th>\n",
       "      <th>Total in (Rs.)</th>\n",
       "      <th>Difference</th>\n",
       "      <th>J-I</th>\n",
       "      <th>K-I</th>\n",
       "      <th>Duration</th>\n",
       "      <th>Delay</th>\n",
       "    </tr>\n",
       "  </thead>\n",
       "  <tbody>\n",
       "    <tr>\n",
       "      <th>12429</th>\n",
       "      <td>KANPUR NAGAR(UP-78)</td>\n",
       "      <td>UP78FT8958</td>\n",
       "      <td>2020-mar-11</td>\n",
       "      <td>KANPUR NAGAR(UP-78)</td>\n",
       "      <td>Bus</td>\n",
       "      <td>2020-03-07</td>\n",
       "      <td>2020-02-10</td>\n",
       "      <td>2020-03-31</td>\n",
       "      <td>Additional MV Tax</td>\n",
       "      <td>RTO</td>\n",
       "      <td>70200</td>\n",
       "      <td>0</td>\n",
       "      <td>0</td>\n",
       "      <td>70200</td>\n",
       "      <td>26.0</td>\n",
       "      <td>50.0</td>\n",
       "      <td>26.0</td>\n",
       "      <td>2</td>\n",
       "      <td>1</td>\n",
       "    </tr>\n",
       "  </tbody>\n",
       "</table>\n",
       "</div>"
      ],
      "text/plain": [
       "               Office Name Registration No. Registration Date  \\\n",
       "12429  KANPUR NAGAR(UP-78)       UP78FT8958       2020-mar-11   \n",
       "\n",
       "             Office Name.1 Vehicle Class Receipt Date   Tax From   Tax Upto  \\\n",
       "12429  KANPUR NAGAR(UP-78)           Bus   2020-03-07 2020-02-10 2020-03-31   \n",
       "\n",
       "                 Purpose Payment Mode  Tax in (Rs.)  Rebate in (Rs.)  \\\n",
       "12429  Additional MV Tax          RTO         70200                0   \n",
       "\n",
       "       Penalty in (Rs.)  Total in (Rs.)  Difference   J-I   K-I  Duration  \\\n",
       "12429                 0           70200        26.0  50.0  26.0         2   \n",
       "\n",
       "       Delay  \n",
       "12429      1  "
      ]
     },
     "execution_count": 11,
     "metadata": {},
     "output_type": "execute_result"
    }
   ],
   "source": [
    "k=12429\n",
    "df4.loc[[k]]"
   ]
  },
  {
   "cell_type": "code",
   "execution_count": 69,
   "id": "28844514",
   "metadata": {},
   "outputs": [
    {
     "name": "stdout",
     "output_type": "stream",
     "text": [
      "2018-06-01 00:00:00 2018-06-27 00:00:00\n",
      "Total Months between two dates is: 1\n"
     ]
    }
   ],
   "source": [
    "k=1519\n",
    "#k=12633\n",
    "d1 = df4.loc[k]['Tax From']\n",
    "d2 = df4.loc[k]['Receipt Date']\n",
    "\n",
    "print(d1,d2)\n",
    "# convert string to date object\n",
    "start_date =d1\n",
    "end_date = d2\n",
    "\n",
    "# Get the relativedelta between two dates\n",
    "delta = relativedelta.relativedelta(end_date, start_date)\n",
    "\n",
    "# get months difference\n",
    "res_months = delta.months + (delta.years * 12) + 1\n",
    "print('Total Months between two dates is:', res_months)"
   ]
  },
  {
   "cell_type": "code",
   "execution_count": 16,
   "id": "2243839a",
   "metadata": {},
   "outputs": [
    {
     "data": {
      "text/html": [
       "<div>\n",
       "<style scoped>\n",
       "    .dataframe tbody tr th:only-of-type {\n",
       "        vertical-align: middle;\n",
       "    }\n",
       "\n",
       "    .dataframe tbody tr th {\n",
       "        vertical-align: top;\n",
       "    }\n",
       "\n",
       "    .dataframe thead th {\n",
       "        text-align: right;\n",
       "    }\n",
       "</style>\n",
       "<table border=\"1\" class=\"dataframe\">\n",
       "  <thead>\n",
       "    <tr style=\"text-align: right;\">\n",
       "      <th></th>\n",
       "      <th>Office Name</th>\n",
       "      <th>Registration No.</th>\n",
       "      <th>Registration Date</th>\n",
       "      <th>Office Name.1</th>\n",
       "      <th>Vehicle Class</th>\n",
       "      <th>Receipt Date</th>\n",
       "      <th>Tax From</th>\n",
       "      <th>Tax Upto</th>\n",
       "      <th>Purpose</th>\n",
       "      <th>Payment Mode</th>\n",
       "      <th>...</th>\n",
       "      <th>Rebate in (Rs.)</th>\n",
       "      <th>Penalty in (Rs.)</th>\n",
       "      <th>Total in (Rs.)</th>\n",
       "      <th>Difference</th>\n",
       "      <th>J-I</th>\n",
       "      <th>K-I</th>\n",
       "      <th>Duration</th>\n",
       "      <th>Delay</th>\n",
       "      <th>Interest</th>\n",
       "      <th>Penalty to be imposed</th>\n",
       "    </tr>\n",
       "  </thead>\n",
       "  <tbody>\n",
       "    <tr>\n",
       "      <th>12429</th>\n",
       "      <td>KANPUR NAGAR(UP-78)</td>\n",
       "      <td>UP78FT8958</td>\n",
       "      <td>2020-mar-11</td>\n",
       "      <td>KANPUR NAGAR(UP-78)</td>\n",
       "      <td>Bus</td>\n",
       "      <td>2020-03-07</td>\n",
       "      <td>2020-02-10</td>\n",
       "      <td>2020-03-31</td>\n",
       "      <td>Additional MV Tax</td>\n",
       "      <td>RTO</td>\n",
       "      <td>...</td>\n",
       "      <td>0</td>\n",
       "      <td>0</td>\n",
       "      <td>70200</td>\n",
       "      <td>26.0</td>\n",
       "      <td>50.0</td>\n",
       "      <td>26.0</td>\n",
       "      <td>2</td>\n",
       "      <td>0</td>\n",
       "      <td>-15</td>\n",
       "      <td>-5265.0</td>\n",
       "    </tr>\n",
       "  </tbody>\n",
       "</table>\n",
       "<p>1 rows × 21 columns</p>\n",
       "</div>"
      ],
      "text/plain": [
       "               Office Name Registration No. Registration Date  \\\n",
       "12429  KANPUR NAGAR(UP-78)       UP78FT8958       2020-mar-11   \n",
       "\n",
       "             Office Name.1 Vehicle Class Receipt Date   Tax From   Tax Upto  \\\n",
       "12429  KANPUR NAGAR(UP-78)           Bus   2020-03-07 2020-02-10 2020-03-31   \n",
       "\n",
       "                 Purpose Payment Mode  ...  Rebate in (Rs.)  Penalty in (Rs.)  \\\n",
       "12429  Additional MV Tax          RTO  ...                0                 0   \n",
       "\n",
       "       Total in (Rs.)  Difference   J-I   K-I  Duration  Delay  Interest  \\\n",
       "12429           70200        26.0  50.0  26.0         2      0       -15   \n",
       "\n",
       "       Penalty to be imposed  \n",
       "12429                -5265.0  \n",
       "\n",
       "[1 rows x 21 columns]"
      ]
     },
     "execution_count": 16,
     "metadata": {},
     "output_type": "execute_result"
    }
   ],
   "source": [
    "df4.at[12429, 'Delay']=1\n",
    "df4.loc[[12429]]"
   ]
  },
  {
   "cell_type": "code",
   "execution_count": 20,
   "id": "df673df9",
   "metadata": {},
   "outputs": [
    {
     "data": {
      "text/plain": [
       "29"
      ]
     },
     "execution_count": 20,
     "metadata": {},
     "output_type": "execute_result"
    }
   ],
   "source": [
    "df4[df4['Registration No.']=='UP14AT8189']\n",
    "df4.at[7135,'Delay']"
   ]
  },
  {
   "cell_type": "code",
   "execution_count": 30,
   "id": "17ce2f2b",
   "metadata": {},
   "outputs": [
    {
     "name": "stderr",
     "output_type": "stream",
     "text": [
      "C:\\Users\\CDMA\\AppData\\Local\\Temp/ipykernel_17588/120384801.py:22: SettingWithCopyWarning: \n",
      "A value is trying to be set on a copy of a slice from a DataFrame.\n",
      "Try using .loc[row_indexer,col_indexer] = value instead\n",
      "\n",
      "See the caveats in the documentation: https://pandas.pydata.org/pandas-docs/stable/user_guide/indexing.html#returning-a-view-versus-a-copy\n",
      "  df4['Interest'] = interest\n",
      "C:\\Users\\CDMA\\AppData\\Local\\Temp/ipykernel_17588/120384801.py:23: SettingWithCopyWarning: \n",
      "A value is trying to be set on a copy of a slice from a DataFrame.\n",
      "Try using .loc[row_indexer,col_indexer] = value instead\n",
      "\n",
      "See the caveats in the documentation: https://pandas.pydata.org/pandas-docs/stable/user_guide/indexing.html#returning-a-view-versus-a-copy\n",
      "  df4['Penalty to be imposed'] = ((df4['Total in (Rs.)']-df4['Penalty in (Rs.)'])/df4['Duration'])*(df4['Interest']/100)\n"
     ]
    }
   ],
   "source": [
    "interest = []\n",
    "for i in df4.index:\n",
    "    de = df4.at[i,'Delay']\n",
    "    du = df4.at[i,'Duration']\n",
    "    \n",
    "\n",
    "    if de>du:\n",
    "        intst = 0\n",
    "        k=de\n",
    "        while(k>de-du): \n",
    "            intst = 5*k+intst\n",
    "            k=k-1\n",
    "    else:\n",
    "        intst = 0\n",
    "        k=de\n",
    "        while(k>=1): \n",
    "            intst = 5*k+intst\n",
    "            k=k-1\n",
    "    if de>20: \n",
    "        intst = 1050 + ((de-20)*100)\n",
    "    interest.append(intst)    \n",
    "df4['Interest'] = interest\n",
    "df4['Penalty to be imposed'] = ((df4['Total in (Rs.)']-df4['Penalty in (Rs.)'])/df4['Duration'])*(df4['Interest']/100)"
   ]
  },
  {
   "cell_type": "code",
   "execution_count": 31,
   "id": "67aff7a8",
   "metadata": {},
   "outputs": [
    {
     "data": {
      "text/html": [
       "<div>\n",
       "<style scoped>\n",
       "    .dataframe tbody tr th:only-of-type {\n",
       "        vertical-align: middle;\n",
       "    }\n",
       "\n",
       "    .dataframe tbody tr th {\n",
       "        vertical-align: top;\n",
       "    }\n",
       "\n",
       "    .dataframe thead th {\n",
       "        text-align: right;\n",
       "    }\n",
       "</style>\n",
       "<table border=\"1\" class=\"dataframe\">\n",
       "  <thead>\n",
       "    <tr style=\"text-align: right;\">\n",
       "      <th></th>\n",
       "      <th>Office Name</th>\n",
       "      <th>Registration No.</th>\n",
       "      <th>Registration Date</th>\n",
       "      <th>Office Name.1</th>\n",
       "      <th>Vehicle Class</th>\n",
       "      <th>Receipt Date</th>\n",
       "      <th>Tax From</th>\n",
       "      <th>Tax Upto</th>\n",
       "      <th>Purpose</th>\n",
       "      <th>Payment Mode</th>\n",
       "      <th>...</th>\n",
       "      <th>Rebate in (Rs.)</th>\n",
       "      <th>Penalty in (Rs.)</th>\n",
       "      <th>Total in (Rs.)</th>\n",
       "      <th>Difference</th>\n",
       "      <th>J-I</th>\n",
       "      <th>K-I</th>\n",
       "      <th>Duration</th>\n",
       "      <th>Delay</th>\n",
       "      <th>Interest</th>\n",
       "      <th>Penalty to be imposed</th>\n",
       "    </tr>\n",
       "  </thead>\n",
       "  <tbody>\n",
       "  </tbody>\n",
       "</table>\n",
       "<p>0 rows × 21 columns</p>\n",
       "</div>"
      ],
      "text/plain": [
       "Empty DataFrame\n",
       "Columns: [Office Name, Registration No., Registration Date, Office Name.1, Vehicle Class, Receipt Date, Tax From, Tax Upto, Purpose, Payment Mode, Tax in (Rs.), Rebate in (Rs.), Penalty in (Rs.), Total in (Rs.), Difference, J-I, K-I, Duration, Delay, Interest, Penalty to be imposed]\n",
       "Index: []\n",
       "\n",
       "[0 rows x 21 columns]"
      ]
     },
     "execution_count": 31,
     "metadata": {},
     "output_type": "execute_result"
    }
   ],
   "source": [
    "df4[df4['Penalty to be imposed']==0]"
   ]
  },
  {
   "cell_type": "code",
   "execution_count": 34,
   "id": "6dc9a3ba",
   "metadata": {},
   "outputs": [],
   "source": [
    "df4.to_csv(r'D:\\UP Vahan\\CDMA Results\\4.2.3_Additional Tax Penalty_1.csv',index=False)"
   ]
  }
 ],
 "metadata": {
  "kernelspec": {
   "display_name": "Python 3 (ipykernel)",
   "language": "python",
   "name": "python3"
  },
  "language_info": {
   "codemirror_mode": {
    "name": "ipython",
    "version": 3
   },
   "file_extension": ".py",
   "mimetype": "text/x-python",
   "name": "python",
   "nbconvert_exporter": "python",
   "pygments_lexer": "ipython3",
   "version": "3.9.7"
  }
 },
 "nbformat": 4,
 "nbformat_minor": 5
}
