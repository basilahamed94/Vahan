{
 "cells": [
  {
   "cell_type": "code",
   "execution_count": 1,
   "metadata": {},
   "outputs": [],
   "source": [
    "import pandas as pd\n",
    "import math\n",
    "from dateutil.relativedelta import relativedelta\n",
    "from datetime import datetime\n",
    "import re\n",
    "import copy\n",
    "from sqlalchemy import create_engine\n",
    "import calendar"
   ]
  },
  {
   "cell_type": "code",
   "execution_count": 2,
   "metadata": {},
   "outputs": [],
   "source": [
    "conn_string = 'postgresql://{user}:{pwd}@{host}:{port}/{db}'.format(user='postgres',\n",
    "                                                                     pwd='123',\n",
    "                                                                     host='localhost',\n",
    "                                                                     port='5432',\n",
    "                                                                     db='postgres'\n",
    "                                                                     )\n",
    "engine = create_engine(conn_string, paramstyle='format', isolation_level=\"READ UNCOMMITTED\")"
   ]
  },
  {
   "cell_type": "code",
   "execution_count": null,
   "metadata": {},
   "outputs": [],
   "source": [
    "conn_string_cloud = conn_string = 'postgresql://{user}:{pwd}@{host}:{port}/{db}'.format(user='postgres',\n",
    "                                                                     pwd='',\n",
    "                                                                     host='10.247.204.254',\n",
    "                                                                     port='5433',\n",
    "                                                                     db='test_vow4'\n",
    "                                                                     )\n",
    "engine2 = create_engine(conn_string_cloud, paramstyle='format', isolation_level=\"READ UNCOMMITTED\")\n",
    "con_test_qry = pd.read_sql_query('Select * from vm_vh_class',con=engine2)\n",
    "if con_test_qry.shape == (70,5):\n",
    "    print(\"Connection Established\")\n",
    "else:\n",
    "    print(\"Error in Connection\")"
   ]
  },
  {
   "cell_type": "code",
   "execution_count": 3,
   "metadata": {},
   "outputs": [],
   "source": [
    "path = 'D:/BR/'\n",
    "state = 'BR'"
   ]
  },
  {
   "cell_type": "code",
   "execution_count": 288,
   "metadata": {},
   "outputs": [],
   "source": [
    "slab_fields = pd.read_excel(r'C:\\Users\\CDMA\\Downloads\\slab_fields_prep_v2.xlsx',sheet_name = 'slab_fields_prep')"
   ]
  },
  {
   "cell_type": "code",
   "execution_count": 5,
   "metadata": {},
   "outputs": [],
   "source": [
    "slab_new = pd.read_csv(r'C:\\Users\\CDMA\\Downloads\\vm_tax_slab_new_transformed.csv')\n",
    "slab_new = slab_new[slab_new['state_cd']==state]\n",
    "slab_new = slab_new[slab_new['vh_class'].notnull()]"
   ]
  },
  {
   "cell_type": "code",
   "execution_count": 6,
   "metadata": {},
   "outputs": [],
   "source": [
    "slab_new['date_from'] = slab_new['date_from'].astype('datetime64[ns]')\n",
    "slab_new['date_to'] = slab_new['date_to'].astype('datetime64[ns]')\n",
    "slab_new.reset_index(drop=True, inplace=True)"
   ]
  },
  {
   "cell_type": "code",
   "execution_count": 179,
   "metadata": {},
   "outputs": [
    {
     "data": {
      "text/plain": [
       "<bound method NDFrame.head of      class_type  date_from    date_to             descr  emp_cd  \\\n",
       "0             1 2019-01-04 2099-12-31     GOODS Y5 2019  200110   \n",
       "1             1 2019-01-04 2099-12-31     GOODS Y5 2019  200110   \n",
       "2             2 2018-08-09 2099-12-31  ELECTRIC VEHICLE  200110   \n",
       "3             2 2018-08-09 2099-12-31  ELECTRIC VEHICLE  200110   \n",
       "4             2 2018-08-09 2099-12-31  ELECTRIC VEHICLE  200110   \n",
       "..          ...        ...        ...               ...     ...   \n",
       "492           1 2018-08-09 2019-03-31        BUS YEARLY  200110   \n",
       "493           1 2018-08-09 2019-03-31        BUS YEARLY  200110   \n",
       "494           1 2019-01-04 2099-12-31          BUS 2019  200110   \n",
       "495           1 2019-01-04 2099-12-31          BUS 2019  200110   \n",
       "496           2 2000-01-01 2016-08-15         MOTOR CAR  200110   \n",
       "\n",
       "                op_dt  pur_cd  slab_code state_cd tax_mode  vh_class  \n",
       "0    05-08-2019 17:48      58        208       BR       Y5      59.0  \n",
       "1    05-08-2019 17:48      58        208       BR       Y5      58.0  \n",
       "2    19-08-2019 11:59      58        229       BR      ANY       1.0  \n",
       "3    19-08-2019 11:59      58        229       BR      ANY       2.0  \n",
       "4    19-08-2019 11:59      58        229       BR      ANY       3.0  \n",
       "..                ...     ...        ...      ...      ...       ...  \n",
       "492  04-04-2019 13:05      69        189       BR        Y      73.0  \n",
       "493  04-04-2019 13:05      69        189       BR        Y      86.0  \n",
       "494  04-04-2019 13:05      69        227       BR        Y      73.0  \n",
       "495  04-04-2019 13:05      69        227       BR        Y      86.0  \n",
       "496  04-04-2019 15:49      70        228       BR       Y5       7.0  \n",
       "\n",
       "[497 rows x 11 columns]>"
      ]
     },
     "execution_count": 179,
     "metadata": {},
     "output_type": "execute_result"
    }
   ],
   "source": [
    "slab_new.reset_index(drop=True, inplace=True)\n",
    "#slab_new.loc[:4,'date_from']\n",
    "slab_new.head"
   ]
  },
  {
   "cell_type": "code",
   "execution_count": 7,
   "metadata": {},
   "outputs": [],
   "source": [
    "slab_add_new = pd.read_csv(r'D:\\Jharkhand python\\vm_tax_slab_add_new.csv')\n",
    "slab_add_new = slab_add_new[slab_add_new['state_cd']==state]"
   ]
  },
  {
   "cell_type": "code",
   "execution_count": 8,
   "metadata": {},
   "outputs": [],
   "source": [
    "vt_tax_based_on = pd.read_csv(path+'/vt_tax_based_on.csv')\n",
    "#vt_tax_based_on_permit_info = pd.read_csv(r'D:\\AS\\vt_tax_based_on_permit_info.csv')\n",
    "#vt_tax_based_on = pd.read_sql_query('Select * from vt_tax_based_on where state_cd ='+\"'{}'\".format(state),con=engine2)"
   ]
  },
  {
   "cell_type": "code",
   "execution_count": 9,
   "metadata": {},
   "outputs": [],
   "source": [
    "vm_vh_class=pd.read_csv(r'D:\\Jharkhand python\\vm_vh_class.csv')\n"
   ]
  },
  {
   "cell_type": "code",
   "execution_count": 10,
   "metadata": {},
   "outputs": [
    {
     "name": "stderr",
     "output_type": "stream",
     "text": [
      "C:\\Users\\CDMA\\anaconda3\\lib\\site-packages\\IPython\\core\\interactiveshell.py:3063: DtypeWarning: Columns (20,25) have mixed types.Specify dtype option on import or set low_memory=False.\n",
      "  interactivity=interactivity, compiler=compiler, result=result)\n"
     ]
    }
   ],
   "source": [
    "vt_owner = pd.read_csv(path+'/vt_owner.csv')\n",
    "#vt_owner = pd.read_sql_query('Select * from vt_owner where state_cd ='+\"'{}'\".format(state),con=engine2)"
   ]
  },
  {
   "cell_type": "code",
   "execution_count": 12,
   "metadata": {},
   "outputs": [],
   "source": [
    "vt_permit = pd.read_csv(path+'/vt_permit.csv')\n",
    "#vt_owner = pd.read_sql_query('Select * from vt_owner where state_cd ='+\"'{}'\".format(state),con=engine2)"
   ]
  },
  {
   "cell_type": "code",
   "execution_count": 187,
   "metadata": {},
   "outputs": [],
   "source": [
    "f_dt = slab_new1.loc[slab_new['slab_code']==173]['date_from']\n",
    "t_dt = slab_new1.loc[slab_new['slab_code']==173]['date_to']"
   ]
  },
  {
   "cell_type": "code",
   "execution_count": 210,
   "metadata": {},
   "outputs": [
    {
     "data": {
      "text/plain": [
       "170"
      ]
     },
     "execution_count": 210,
     "metadata": {},
     "output_type": "execute_result"
    }
   ],
   "source": [
    "#slab_new1.reset_index(drop=True, inplace=True)\n",
    "x = slab_new1.loc[2,'slab_code']\n",
    "x - 3"
   ]
  },
  {
   "cell_type": "code",
   "execution_count": 203,
   "metadata": {},
   "outputs": [
    {
     "data": {
      "text/plain": [
       "412   2018-08-09\n",
       "Name: date_from, dtype: datetime64[ns]"
      ]
     },
     "execution_count": 203,
     "metadata": {},
     "output_type": "execute_result"
    }
   ],
   "source": [
    "x = [f_dt.item(),tax_from]\n",
    "max(x)\n",
    "f_dt"
   ]
  },
  {
   "cell_type": "code",
   "execution_count": 199,
   "metadata": {},
   "outputs": [
    {
     "data": {
      "text/plain": [
       "datetime.datetime(2019, 2, 19, 0, 0)"
      ]
     },
     "execution_count": 199,
     "metadata": {},
     "output_type": "execute_result"
    }
   ],
   "source": [
    "tax_from"
   ]
  },
  {
   "cell_type": "code",
   "execution_count": 15,
   "metadata": {},
   "outputs": [],
   "source": [
    "tm_office = pd.read_csv(path+'/tm_office.csv')\n",
    "#tm_office.head()\n",
    "tm_office = tm_office[tm_office['state_cd']==state]"
   ]
  },
  {
   "cell_type": "code",
   "execution_count": 20,
   "metadata": {},
   "outputs": [],
   "source": [
    "vt_tax = pd.read_csv(path+'vt_tax.csv')\n",
    "#vt_tax = pd.read_sql_query('Select * from vt_tax where state_cd ='+\"'{}'\".format(state),con=engine2)\n",
    "vt_tax = vt_tax[vt_tax['pur_cd']==58]\n",
    "vt_tax = vt_tax[vt_tax['tax_mode']!='B']\n",
    "vt_tax=vt_tax[vt_tax['collected_by']!='VAHAN2']\n",
    "vt_tax.reset_index(drop=True, inplace=True)\n"
   ]
  },
  {
   "cell_type": "code",
   "execution_count": 15,
   "metadata": {},
   "outputs": [],
   "source": [
    "#Turn into first letter capital in each word\n",
    "def change_col_names(cols):\n",
    "    pp=[]\n",
    "    for j in cols :\n",
    "        p= j.replace('_',' ').title()\n",
    "        pp.append(p)\n",
    "        #df.rename(columns={j: p},inplace=True)\n",
    "    return pp"
   ]
  },
  {
   "cell_type": "code",
   "execution_count": 431,
   "metadata": {},
   "outputs": [
    {
     "data": {
      "text/plain": [
       "Index(['S. No', 'Select Demand Notice', 'Regn No', 'Office', 'Regn Date',\n",
       "       'Vehicle Class', 'Vehicle Category', 'purpose Code', 'Tax Type',\n",
       "       'Owner Name', 'Father Name', 'Complete Present Address', 'Mobile No',\n",
       "       'Laden Wt.', 'UnLaden Wt.', 'Seating Capacity', 'Standing Capacity',\n",
       "       'Fuel Type', 'Tax From', 'Tax Upto', 'Tax Cleared Upto',\n",
       "       'Tax Arrear From', 'Tax Arrear UpTo', 'Permit Valid From',\n",
       "       'Permit Valid Upto', 'Tax Amount in (Rs)', 'Tax Fine in (Rs)',\n",
       "       'Total Tax Amount in (Rs)', 'Fitness Validity', 'Financer Name',\n",
       "       'Blacklist Status'],\n",
       "      dtype='object')"
      ]
     },
     "execution_count": 431,
     "metadata": {},
     "output_type": "execute_result"
    }
   ],
   "source": [
    "def_list = pd.read_excel(r'C:\\Users\\CDMA\\Downloads\\Bihar tax defaulters - Aurangabad - Bus.xls')\n",
    "#def_list = def_list[def_list['Tax Arrear From'].notnull()]\n",
    "def_list.columns"
   ]
  },
  {
   "cell_type": "code",
   "execution_count": 434,
   "metadata": {},
   "outputs": [
    {
     "data": {
      "text/plain": [
       "(2271, 31)"
      ]
     },
     "execution_count": 434,
     "metadata": {},
     "output_type": "execute_result"
    }
   ],
   "source": [
    "def_list.shape"
   ]
  },
  {
   "cell_type": "code",
   "execution_count": 433,
   "metadata": {},
   "outputs": [],
   "source": [
    "def_list = def_list[def_list['Tax Amount in (Rs)'].notnull()]\n",
    "#def_list = def_list[def_list['Vehicle Class']=='Motor Cab']\n",
    "def_list = def_list[def_list['Tax Arrear From'].notnull()]\n",
    "def_list = def_list[def_list['Tax Amount in (Rs)'].notnull()]\n",
    "def_list = def_list[def_list['Tax Type']=='MV Tax']\n",
    "def_list.reset_index(drop=True, inplace=True)"
   ]
  },
  {
   "cell_type": "code",
   "execution_count": 408,
   "metadata": {},
   "outputs": [
    {
     "data": {
      "text/plain": [
       "Bus         2270\n",
       "Maxi Cab       1\n",
       "Name: Vehicle Class, dtype: int64"
      ]
     },
     "execution_count": 408,
     "metadata": {},
     "output_type": "execute_result"
    }
   ],
   "source": [
    "def_list['Vehicle Class'].value_counts()"
   ]
  },
  {
   "cell_type": "code",
   "execution_count": 41,
   "metadata": {},
   "outputs": [],
   "source": [
    "def calculate_formula(formula_df,params_info):\n",
    "    #Calculate the Formula one by one\n",
    "    ind=[]\n",
    "    cff_formula = []\n",
    "    cc_formula=[]\n",
    "    ccf_result=[]\n",
    "    cr_rate=[]\n",
    "    #c_add_code=[]\n",
    "    #reb_df = formula_df[formula_df['type_flag']=='R']\n",
    "    for l in range(len(formula_df)):\n",
    "        #print('l',l)\n",
    "        condition_formula = formula_df['condition_formula'].to_list()[l]\n",
    "        if '\\r' in condition_formula:\n",
    "            condition_formula = condition_formula.replace('\\r','')\n",
    "        if '\\n' in condition_formula:\n",
    "            condition_formula = condition_formula.replace('\\n','')\n",
    "\n",
    "        cf_params = []\n",
    "        for k in re.split(r'[()\\*\\s]\\s*',condition_formula):\n",
    "            if '<' in k and '>' in k:\n",
    "                cf_params.append(k[k.find('<'):(k.find('>')+1)])\n",
    "        cf_params = list(set(cf_params))\n",
    "        c_formula = condition_formula\n",
    "        c_formula = condition_form_convert(cf_params,params_info, c_formula)\n",
    "        #print(c_formula)\n",
    "        for m in cf_params:\n",
    "            if m != '<>':\n",
    "                val = str(params_info[params_info['code']==m]['P_value'].to_list()[0])                \n",
    "                c_formula = c_formula.replace(str(m),val)\n",
    "                #print(c_formula,str(m),val)\n",
    "        c_formula = c_formula.replace(repr('nan'),'-100')\n",
    "        #print(c_formula)\n",
    "        if c_formula.lower() != 'false' and formula_df['type_flag'].to_list()[l] != 'R' and 'nan' not in c_formula.lower():\n",
    "            cf_result = pd.read_sql_query(repr('select '+c_formula)[1:-1],con=engine)\n",
    "            cf_result = cf_result.loc[0,'?column?']\n",
    "        else:\n",
    "            cf_result = False\n",
    "        if cf_result==True:\n",
    "            #print('Ind',ind,l)\n",
    "            ind.append(l)\n",
    "        cff_formula.append(condition_formula)\n",
    "        cc_formula.append(c_formula)\n",
    "        ccf_result.append(cf_result)\n",
    "        cr_rate.append(formula_df.loc[:,'rate_formula'].to_list()[l])\n",
    "        \n",
    "    formula_df.reset_index(drop=True, inplace=True)\n",
    "    summary_df = pd.DataFrame(list(zip(cff_formula,cc_formula, ccf_result,cr_rate)), columns =['Condition Formula', 'Condition Result','Result','Rate Formula']) \n",
    "    return [ind,summary_df]"
   ]
  },
  {
   "cell_type": "code",
   "execution_count": 40,
   "metadata": {},
   "outputs": [
    {
     "data": {
      "text/plain": [
       "\"\\n        else:\\n            c_formula = c_formula.replace('<>','!=')\\n\\n    # Change '=' to '=='\\n    if '<=' in c_formula:\\n        c_formula=c_formula.replace('<=','@')\\n    if '>=' in c_formula:\\n        c_formula=c_formula.replace('>=',';')\\n    if '!=' in c_formula:\\n        c_formula=c_formula.replace('!=','?')\\n    if '=' in c_formula:\\n        c_formula = c_formula.replace('=','==')\\n    if '@' in c_formula:\\n        c_formula=c_formula.replace('@','<=')\\n    if ';' in c_formula:\\n        c_formula=c_formula.replace(';','>=')\\n    if '?' in c_formula:\\n        c_formula = c_formula.replace('?','!=')\\n    return c_formula\\n\""
      ]
     },
     "execution_count": 40,
     "metadata": {},
     "output_type": "execute_result"
    }
   ],
   "source": [
    "def condition_form_convert(cf_params,params_info, c_formula):\n",
    "    for m in cf_params:\n",
    "        if m != '<>':\n",
    "            val = str(params_info[params_info['code']==m]['P_value'].to_list()[0])\n",
    "            # Change '' to \\'\\' in case of string val\n",
    "            if val.isdigit()==False:\n",
    "                if '.' in val:\n",
    "                    v = val.replace('.','')\n",
    "                    if '-' in v:\n",
    "                        v = v.replace('-','')\n",
    "                    if v.isdigit():\n",
    "                        val=val\n",
    "                    else:\n",
    "                        val=repr(val)\n",
    "                else:\n",
    "                    val=repr(val)\n",
    "            else:\n",
    "                val=val\n",
    "            c_formula = c_formula.replace(str(m),val)\n",
    "    return c_formula\n",
    "'''\n",
    "        else:\n",
    "            c_formula = c_formula.replace('<>','!=')\n",
    "\n",
    "    # Change '=' to '=='\n",
    "    if '<=' in c_formula:\n",
    "        c_formula=c_formula.replace('<=','@')\n",
    "    if '>=' in c_formula:\n",
    "        c_formula=c_formula.replace('>=',';')\n",
    "    if '!=' in c_formula:\n",
    "        c_formula=c_formula.replace('!=','?')\n",
    "    if '=' in c_formula:\n",
    "        c_formula = c_formula.replace('=','==')\n",
    "    if '@' in c_formula:\n",
    "        c_formula=c_formula.replace('@','<=')\n",
    "    if ';' in c_formula:\n",
    "        c_formula=c_formula.replace(';','>=')\n",
    "    if '?' in c_formula:\n",
    "        c_formula = c_formula.replace('?','!=')\n",
    "    return c_formula\n",
    "'''"
   ]
  },
  {
   "cell_type": "code",
   "execution_count": 39,
   "metadata": {},
   "outputs": [],
   "source": [
    "def calculate_rates(true_df,params_info):\n",
    "    t_params = []\n",
    "    for q in range(len(true_df)):\n",
    "        r_formula = true_df['rate_formula'].to_list()[q]\n",
    "        for k in re.split(r'[()\\*\\s]\\s*',r_formula):\n",
    "            if '<' in k and '>' in k:\n",
    "                t_params.append(k[k.find('<'):(k.find('>')+1)])\n",
    "\n",
    "    t_params = list(set(t_params))\n",
    "    #print('t_params',t_params)\n",
    "    rates=[]\n",
    "    for q in range(len(true_df)):\n",
    "        r_formula = true_df['rate_formula'].to_list()[q]\n",
    "        for m in t_params:\n",
    "            r_formula = r_formula.replace(str(m),str(params_info[params_info['code']==m]['P_value'].to_list()[0]))\n",
    "        \n",
    "        #print('r_formula',r_formula)\n",
    "            \n",
    "        #rate = eval(r_formula.lower())\n",
    "        rate = pd.read_sql_query(repr('select '+r_formula)[1:-1],con=engine)\n",
    "        rate = rate.loc[0,'?column?']\n",
    "        #print(rate)\n",
    "        rates.append(rate)        \n",
    "    true_df['Rate']=rates\n",
    "    return true_df"
   ]
  },
  {
   "cell_type": "code",
   "execution_count": 38,
   "metadata": {},
   "outputs": [],
   "source": [
    "def tbo_last_rcpt(regn_no,before):\n",
    "    tbo_df = vt_tax_based_on.loc[vt_tax_based_on['regn_no']==regn_no]\n",
    "    tbo_df= copy.deepcopy(tbo_df)\n",
    "    #print('TBO shape',tbo_df.shape)\n",
    "    #print(tbo_df.shape)\n",
    "    #tbo_df = tbo_df.reset_index(drop=True, inplace=True)\n",
    "    tbo_df['op_dt'] = tbo_df.loc[:,'op_dt'].apply(lambda x: datetime.strptime(x[:10], '%d-%m-%Y'))\n",
    "    tbo_df = tbo_df.sort_values(by='op_dt', ascending=False)\n",
    "    #tbo_df = tbo_df.reset_index(drop=True, inplace=True)\n",
    "    if len(tbo_df)>0:#print(tbo_df.shape)\n",
    "        for n in tbo_df.index:\n",
    "            x = before-tbo_df.loc[n,'op_dt']\n",
    "            #x = x.years*365 + x.months*30 + x.days\n",
    "            if x.days>=0:\n",
    "                last_rcpt = tbo_df.loc[n,'rcpt_no']\n",
    "                break\n",
    "            last_rcpt=''\n",
    "        if last_rcpt=='':\n",
    "            print('No prior receipt info!!! Rcpt:',' Regn No:',regn_no)\n",
    "            return 0\n",
    "        else:\n",
    "            return last_rcpt\n",
    "    else:\n",
    "        return 0"
   ]
  },
  {
   "cell_type": "code",
   "execution_count": 365,
   "metadata": {},
   "outputs": [],
   "source": [
    "def owner_or_tbo(regn_no,params_info,param_info_owner,ot_df,tab,new_vch,rcpt_dt,tax_mode):\n",
    "    for pi in range(len(param_info_owner)):\n",
    "        col = param_info_owner['column_name'].to_list()[pi][1:-2]\n",
    "        par = param_info_owner['column - slab_field'].to_list()[pi]\n",
    "        code = param_info_owner['code'].to_list()[pi]\n",
    "        #col= col.replace('_',' ').title()\n",
    "        p_value = ''\n",
    "        #print(par,code,tab)\n",
    "        #if tab=='own':\n",
    "        #    p_date = 'Purchase Dt'\n",
    "        #else:\n",
    "        p_date= 'purchase_dt'\n",
    "        purchase_dt = ot_df[p_date].to_list()[0]\n",
    "        \n",
    "        p_valid_date = purchase_dt[:2].isdigit()\n",
    "        if p_valid_date==False and tab=='tbo':\n",
    "            #print(p_valid_date,tab)\n",
    "            purchase_dt = vt_owner.loc[vt_owner['regn_no']==regn_no][p_date].to_list()[0]\n",
    "        p_valid_date = purchase_dt[:2].isdigit()\n",
    "        #print(purchase_dt)\n",
    "        if purchase_dt[:4].isdigit() and p_valid_date==True:\n",
    "            purchase_dt =datetime.strptime(purchase_dt,'%Y-%m-%d')\n",
    "        elif purchase_dt[3:6].isalpha() and p_valid_date==True:\n",
    "            purchase_dt =datetime.strptime(purchase_dt,'%d-%b-%Y')\n",
    "        elif p_valid_date==True:\n",
    "            purchase_dt =datetime.strptime(purchase_dt,'%d-%m-%Y')\n",
    "        if par=='vch_age' and p_valid_date==True:\n",
    "            p_value = relativedelta(rcpt_dt, purchase_dt)\n",
    "            #print('p_value',p_value)\n",
    "            p_value = p_value.years\n",
    "        elif par=='vch_age_months'and p_valid_date==True:\n",
    "            p_value = relativedelta(rcpt_dt, purchase_dt)\n",
    "            p_value = (p_value.years *12) + p_value.months\n",
    "        elif par=='purchase_dt_vch_age'and p_valid_date==True:\n",
    "            p_value = relativedelta(rcpt_dt, purchase_dt)\n",
    "            p_value = p_value.years\n",
    "        elif par=='fin_vch_age'and p_valid_date==True:\n",
    "            #print(datetime.strptime(ot_df['purchase_dt'].to_list()[0],'%d-%m-%Y'))\n",
    "            p_value = relativedelta(rcpt_dt, purchase_dt)\n",
    "            p_value = p_value.years\n",
    "        elif par=='tax_month_duration':\n",
    "            p_value = relativedelta(tax_upto, tax_from)\n",
    "            p_value = p_value.years *12 + p_value.months\n",
    "        elif par=='payment_date':\n",
    "            p_value = rcpt_dt\n",
    "        #elif par=='distance_run_in_month':\n",
    "        #    p_value = vt_tax_based_on['distance_run_in_quarter']/4\n",
    "        #elif par=='transaction_pur_cd':\n",
    "        #    appl_no = vp_appl_rcpt_mapping[vp_appl_rcpt_mapping['rcpt_no']==rcpt_no]['appl_no'].to_list()[0]\n",
    "        #    if len(va_details[va_details['appl_no']==appl_no][col].to_list())==0:\n",
    "        #        print(i,'No pur_cd available in va_details')\n",
    "        #        print('Appl no',appl_no,' !!! Rcpt:',rcpt_no,' Regn No:',regn_no,'vh_class',vh_class)\n",
    "        #        continue\n",
    "        #    else:\n",
    "        #        p_value = va_details[va_details['appl_no']==appl_no][col].to_list()[0]\n",
    "        #print(p_value)\n",
    "        elif par=='vch_type':\n",
    "            p_value = vm_vh_class[vm_vh_class['Vh Class']==vh_class]['Class Type'].to_list()[0]\n",
    "        elif par=='new_vch':\n",
    "            p_value = new_vch\n",
    "        elif par=='tax_mode':\n",
    "            p_value = tax_mode\n",
    "        elif par=='permit_sub_catg':\n",
    "            if 'pmt_catg' in ot_df.columns:\n",
    "                p_value = ot_df['pmt_catg'].to_list()[0]\n",
    "            else:\n",
    "                p_value = float(\"nan\")\n",
    "        elif par=='delay_days':\n",
    "            #print(rcpt_dt[:10],' ',tax_from)\n",
    "            p_value = rcpt_dt-tax_from\n",
    "            #p_value = p_value.years * 365 + p_value.months * 30 + p_value.days\n",
    "            if p_value.days > 0:\n",
    "                p_value = p_value.days\n",
    "            elif p_value == 0:\n",
    "                p_value = 1\n",
    "            else:\n",
    "                p_value = 0\n",
    "            #print('delayed',p_value)\n",
    "        elif par == 'delay_months':\n",
    "            p_value = relativedelta(rcpt_dt, tax_from)\n",
    "            #print('delayed months',p_value)\n",
    "            if p_value.days>0:\n",
    "                bal_m = 1\n",
    "            p_value = p_value.years * 12 + p_value.months + bal_m\n",
    "            #print(p_value)\n",
    "        elif p_valid_date==True:\n",
    "            #if tab=='own':\n",
    "            #    col= col.replace('_',' ').title()\n",
    "            p_value= ot_df[col].to_list()[0]\n",
    "            #print(p_value)\n",
    "        else:\n",
    "            p_value=0\n",
    "        #print(col,' ',par,' ',code,' ',p_value)\n",
    "        params_info.loc[params_info.index[params_info['code'] == code].tolist()[0],'P_value']=p_value\n",
    "        #print(code,p_value)\n",
    "    return params_info"
   ]
  },
  {
   "cell_type": "code",
   "execution_count": 284,
   "metadata": {},
   "outputs": [],
   "source": [
    "def extract_parameters(regn_no,tax_from,rcpt_dt,params_info,param_info_tbo,param_info_owner,param_info_other,new_vch,pur_cd,tax_mode,final_rate):\n",
    "    if len(param_info_owner)>0:\n",
    "        owner_df = vt_owner.loc[vt_owner['regn_no']==regn_no]\n",
    "        owner_df= copy.deepcopy(owner_df)\n",
    "    if len(param_info_tbo)>0:\n",
    "        last_rcpt = tbo_last_rcpt(regn_no,rcpt_dt)\n",
    "        #print(last_rcpt)\n",
    "        if last_rcpt !=0:\n",
    "            tbo_df = vt_tax_based_on.loc[vt_tax_based_on['rcpt_no']==last_rcpt]\n",
    "            c = tbo_df.columns\n",
    "            #for j in c :\n",
    "                #p= j.replace('_',' ').title()\n",
    "                #tbo_df.rename(columns={j: p},inplace=True)\n",
    "            tbo_df= copy.deepcopy(tbo_df)\n",
    "        else:\n",
    "            tbo_df=[]\n",
    "    #print(tbo_df)\n",
    "    # Extract parameters from the TBO table\n",
    "    if len(tbo_df)>0 :\n",
    "        #print('TBO')\n",
    "        tab = 'tbo'\n",
    "        #print(tab)\n",
    "        params_info = owner_or_tbo(regn_no,params_info,param_info_tbo,tbo_df,tab,new_vch,rcpt_dt,tax_mode)\n",
    "        #print('TBO',params_info['P_value'].to_list())\n",
    "    else:\n",
    "        #print('Owner')\n",
    "        tab='own'\n",
    "        params_info = owner_or_tbo(regn_no,params_info,param_info_owner,owner_df,tab,new_vch,rcpt_dt,tax_mode)\n",
    "    #print('Shape',params_info)\n",
    "    if len(param_info_other)>0:  \n",
    "        #print('Other')\n",
    "        #print(param_info_other.shape)\n",
    "        for pi in range(len(param_info_other)):\n",
    "            col = param_info_other['column_name'].to_list()[pi][1:-2]\n",
    "            par = param_info_other['column - slab_field'].to_list()[pi]\n",
    "            code = param_info_other['code'].to_list()[pi]\n",
    "            \n",
    "            #print(null_df)\n",
    "            #print('Yes!',)\n",
    "            #print('Other',code,col,par)\n",
    "            #if math.isnan(params_info[params_info['code']==code]['P_value'].to_list()[0]):\n",
    "            if pd.isnull(params_info.loc[params_info['code']==code]['P_value']).to_list()[0]==True:\n",
    "                if col == 'domain_cd':\n",
    "                    p_value = vt_permit[vt_permit['Regn No']==regn_no]['Domain Cd'].to_list()\n",
    "                    if len(p_value)!=0:\n",
    "                        p_value = p_value[0]\n",
    "                    #elif len(vt_tax_based_on[vt_tax_based_on['rcpt_no']==tbo_last_rcpt(regn_no,rcpt_dt)]['domain_cd'].to_list())>0:\n",
    "                    #    p_value = vt_tax_based_on[vt_tax_based_on['rcpt_no']==tbo_last_rcpt(regn_no,rcpt_dt)]['domain_cd'].to_list()[0]\n",
    "                    else:\n",
    "                        p_value = None\n",
    "                        #print('No Domain Cd Available')\n",
    "                elif col == 'pmt_type':\n",
    "                    p_value = vt_permit[vt_permit['Regn No']==regn_no]['Pmt Type'].to_list()\n",
    "                    if len(p_value)!=0:\n",
    "                        p_value = p_value[0]\n",
    "                    #elif len(vt_tax_based_on[vt_tax_based_on['rcpt_no']==tbo_last_rcpt(regn_no,rcpt_dt)]['pmt_type'].to_list())>0:\n",
    "                    #    p_value = vt_tax_based_on[vt_tax_based_on['rcpt_no']==tbo_last_rcpt(regn_no,rcpt_dt)]['pmt_type'].to_list()[0]\n",
    "                    else:\n",
    "                        p_value = None\n",
    "                        #print('No Permit Type Available')\n",
    "                elif col== 'pur_cd':\n",
    "                    if pur_cd==57 or pur_cd == 58:\n",
    "                        p_value=58\n",
    "                elif col=='tax_amt':\n",
    "                    p_value = final_rate\n",
    "                #print('Other',code,col,par)\n",
    "                params_info.loc[params_info.index[params_info['code'] == code].tolist()[0],'P_value']=p_value  \n",
    "    return params_info"
   ]
  },
  {
   "cell_type": "code",
   "execution_count": 428,
   "metadata": {
    "scrolled": false
   },
   "outputs": [],
   "source": [
    "date_format = \"%d-%b-%Y\"\n",
    "def calculate_tax(regn_no,tax_from,tax_upto='2019-10-03', pur_cd = 58,final_rate=0,tax_mode='Q' ,state_cd='AS',off_cd=141,tm='n'):\n",
    "    rcpt_dt = tax_upto\n",
    "    #tm='Q'\n",
    "    if len(vt_owner[vt_owner['regn_no']==regn_no])>0:\n",
    "        vh_class = vt_owner[vt_owner['regn_no']==regn_no]['vh_class'].to_list()[0]\n",
    "        new_vch = 'N'\n",
    "        #print(vh_class)\n",
    "    else:\n",
    "        print(i,'NO INFO IN VT_OWNER',regn_no)\n",
    "        return 0\n",
    "        \n",
    "    #slab_codes = slab_new[(slab_new['vh_class']==vh_class) & (slab_new['pur_cd']==pur_cd) & (slab_new['tax_mode']==tax_mode) & (slab_new['state_cd']==state_cd) & (slab_new['date_from']<tax_from) & (slab_new['date_to']>tax_from) ]['slab_code'].to_list()\n",
    "    #tax_from = datetime.strptime(tax_from,'%d-%b-%Y')\n",
    "    #print(vh_class, pur_cd, state_cd,tax_mode, tax_from)\n",
    "    slab_new1 = slab_new[(slab_new['vh_class']==vh_class) & (slab_new['pur_cd']==pur_cd) & (slab_new['tax_mode']==tax_mode) &(slab_new['state_cd']==state_cd) & (slab_new['date_to'] > tax_from)]\n",
    "    #slab_new2 = slab_new[(slab_new['vh_class']==vh_class) & (slab_new['pur_cd']==pur_cd) & (slab_new['tax_mode']==tax_mode) &(slab_new['state_cd']==state_cd) & (slab_new['date_to'] > tax_upto)] # (slab_new['date_from'] < tax_from) & \n",
    "    #print(slab_new1)\n",
    "    slab_codes = slab_new1['slab_code'].to_list()\n",
    "    #print(pur_cd,'Slab Codes Applicable:',slab_codes)\n",
    "    if len(slab_codes)==0:\n",
    "        print(i,'Missed',regn_no,'vh_class',vh_class)\n",
    "        return 0\n",
    "\n",
    "    formula_df = slab_add_new.loc[(slab_add_new['slab_code'].isin(slab_codes)) & (slab_add_new['state_cd']==state_cd)]\n",
    "    formula_df = formula_df[formula_df['condition_formula']!='0=0']\n",
    "    #formula_df = formula_df[formula_df['condition_formula']!='1=1']\n",
    "    #formula_df.columns\n",
    "    \n",
    "    #print('formula_df',formula_df)\n",
    "        \n",
    "    #Identify the parameters required for calculating the formulas\n",
    "    params = []\n",
    "    for j in range(len(formula_df)):\n",
    "        formula = formula_df['condition_formula'].to_list()[j] +' '+formula_df['rate_formula'].to_list()[j]\n",
    "        for k in re.split(r'[()\\*\\s]\\s*',formula):\n",
    "            if '<' in k and '>' in k:\n",
    "                params.append(k[k.find('<'):(k.find('>')+1)])\n",
    "    params = list(set(params))\n",
    "    #print('Required Parameters :',params)\n",
    "    params_info = slab_fields.loc[slab_fields['code'].isin(params)]\n",
    "    params_info = params_info.reindex(columns = params_info.columns.tolist() + ['P_value'])\n",
    "    #print(params_info)\n",
    "    param_info_owner = params_info[params_info['def_table']=='vt_owner']\n",
    "    #print('Owner',param_info_owner['column - slab_field'].to_list())\n",
    "    param_info_other = params_info[params_info['def_table']!='vt_owner']\n",
    "    #print('Other',param_info_other['column - slab_field'].to_list())\n",
    "    #param_info_tbopi = params_info[params_info['table - slab_field']=='vt_tax_based_on_permit_info']\n",
    "    param_info_tbo =  params_info[params_info['table - slab_field']=='vt_tax_based_on']\n",
    "    #print('TBO',param_info_tbo['column - slab_field'].to_list())\n",
    "    #print('Initial Shape',params_info.shape)\n",
    "    params_info = extract_parameters(regn_no,tax_from,rcpt_dt,params_info,param_info_tbo,param_info_owner,param_info_other,new_vch,pur_cd,tax_mode,final_rate)\n",
    "    #print('Final Shape',params_info.shape)                                                                        \n",
    "    #if pur_cd ==58:        \n",
    "    #print(params_info)\n",
    "    ind = calculate_formula(formula_df,params_info)[0]\n",
    "    summary_df = calculate_formula(formula_df,params_info)[1]\n",
    "    #if pur_cd==57:\n",
    "    #print(summary_df)\n",
    "    if len(ind)==0:\n",
    "        print('No True Condition')\n",
    "        return 0\n",
    "    #Module for calculation of rates for true conditions\n",
    "    true_df = formula_df.loc[ind,:]\n",
    "    true_df.reset_index(drop=True, inplace=True)\n",
    "    #print('True_df',true_df)\n",
    "\n",
    "    #print(t_params)\n",
    "    true_df_t = true_df[(true_df['type_flag']=='T') | (true_df['type_flag']=='M') | (true_df['type_flag']=='X') ]\n",
    "    \n",
    "    true_df_r = true_df[true_df['type_flag']=='R']\n",
    "    true_df_s = true_df[true_df['type_flag']=='S']\n",
    "    \n",
    "    true_df_t = calculate_rates(true_df_t,params_info)\n",
    "    #print('T',true_df_t)\n",
    "    #print('S',true_df_s)\n",
    "    #print(rates)\n",
    "    #print('True_df',true_df_t)\n",
    "\n",
    "    t_df = true_df_t[(true_df_t['type_flag']=='T')]\n",
    "    t_df.reset_index(drop=True, inplace=True)               \n",
    "    #print(t_df)\n",
    "    if len(t_df)>0:\n",
    "        #t_rate = true_df_t[true_df_t['type_flag']=='T']['Rate'].to_list()[0]\n",
    "        #print('t_rate',t_rate)\n",
    "        #if len(t_df)>1:\n",
    "        t_rate = 0\n",
    "        upt = datetime.strptime('01-Jan-1900','%d-%b-%Y')\n",
    "        #until = max(slab_new1[slab_new1['slab_code'] in t_df['slab_code'].to_list() ]['date_to'].to_list())\n",
    "        for t in range(len(t_df)):\n",
    "            sc = t_df.loc[t,'slab_code']\n",
    "            f_dt = slab_new1.loc[slab_new['slab_code']==sc]['date_from']\n",
    "            t_dt = slab_new1.loc[slab_new['slab_code']==sc]['date_to']\n",
    "            fro = max(f_dt.item(),tax_from,upt)   \n",
    "            upt = min(t_dt.item(),tax_upto)\n",
    "            n_days = (upt - fro).days + 1\n",
    "            if calendar.isleap(fro.year):\n",
    "               days_in_year = 366\n",
    "            else:\n",
    "               days_in_year = 365  \n",
    "            per_day_rate = t_df.loc[t,'Rate'] /days_in_year\n",
    "            t_rate = t_rate + per_day_rate *n_days\n",
    "            #print(pur_cd,t_rate,fro,upt, days_in_year,t_df.loc[t,'Rate'],per_day_rate,n_days)\n",
    "    #Module for dealing Minimum M and Amount T \n",
    "    if len(set(true_df_t['condition_formula'].to_list()))>0:\n",
    "        #true_df_t = true_df_t[true_df_t['condition_formula']!='1=1']\n",
    "        if len({'T','M'} - set(true_df_t['type_flag'].to_list()))==0:\n",
    "            if true_df_t[true_df_t['type_flag']=='T']['Rate'].to_list()[0]> true_df_t[true_df_t['type_flag']=='M']['Rate'].to_list()[0]:\n",
    "                final_rate = t_rate\n",
    "            else:\n",
    "                final_rate = true_df_t[true_df_t['type_flag']=='M']['Rate'].to_list()\n",
    "        elif len({'T','X'} - set(true_df_t['type_flag'].to_list()))==0:\n",
    "            #print('Here')\n",
    "            final_rate = true_df_t[true_df_t['type_flag']=='X']['Rate'].to_list()\n",
    "        else:\n",
    "            final_rate = t_rate\n",
    "    #else:       \n",
    "    #    final_rate = true_df['Rate'].to_list()\n",
    "    #else:\n",
    "    #    final_rate = 0\n",
    "    #print(final_rate)\n",
    "    #tax_mode== 'Q'\n",
    "    #Module for Surcharge\n",
    "    if len(true_df_s) > 0 :\n",
    "        params_info.loc[params_info['code'] == '<58>','P_value']=final_rate\n",
    "        true_df_s = calculate_rates(true_df_s,params_info)\n",
    "        #print(true_df_s)\n",
    "        surcharge = true_df_s[true_df_s['type_flag']=='S']['Rate'].to_list()\n",
    "        #print(final_rate,surcharge)\n",
    "        final_rate = final_rate + surcharge[0]\n",
    "    return final_rate\n",
    "    '''\n",
    "    if len(true_df_r) > 0:\n",
    "        rr_formula = true_df_r[true_df_r['condition_formula']==f]['rate_formula'].to_list()[0]\n",
    "        ra_formula = condition_form_convert(reb_params,params_info,rr_formula)\n",
    "        reb_rate_result = eval(ra_formula.lower())              \n",
    "        final_rate = final_rate - reb_rate_result\n",
    "         \n",
    "    #Module for Tax Mode Remaining years\n",
    "    if tax_mode in ['Y15','Y10','Y12','Y20']:\n",
    "        tax_period = relativedelta(datetime.strptime(tax_upto, date_format), datetime.strptime(tax_from, date_format))\n",
    "        tax_period = tax_period.years*365 + tax_period.months*30 + tax_period.days\n",
    "        #print('Tax Upto - Tax From =',tax_period,'days')\n",
    "        veh_age = relativedelta(datetime.strptime(tax_from, date_format), datetime.strptime(vt_owner[vt_owner['Regn No']==regn_no]['Purchase Dt'].to_list()[0],'%Y-%m-%d'))\n",
    "        #print(((veh_age.years * 365) + (veh_age.months * 30) + veh_age.days))\n",
    "        if tax_mode=='Y10':\n",
    "            days_rem = 3652 - ((veh_age.years * 365) + (veh_age.months * 30) + veh_age.days)\n",
    "            final_rate = (final_rate/3652)*days_rem\n",
    "        if tax_mode=='Y12':\n",
    "            days_rem = 4383 - ((veh_age.years * 365) + (veh_age.months * 30) + veh_age.days)\n",
    "            #print('Days remaining in ',tax_mode,'=',days_rem,'days')\n",
    "            final_rate = (final_rate/4383)*days_rem\n",
    "        if tax_mode=='Y15':\n",
    "            days_rem = 5478 - ((veh_age.years * 365) + (veh_age.months * 30) + veh_age.days)\n",
    "            final_rate = (final_rate/5478)*days_rem\n",
    "    '''                            \n",
    "    #Module for Quarterly Mode\n",
    "    '''\n",
    "    if tax_mode== 'Q':\n",
    "        #print(tax_upto,' ',tax_from)\n",
    "        tax_period = relativedelta(tax_upto, tax_from)\n",
    "        #print(tax_period)\n",
    "        years_q = tax_period.years * 4 \n",
    "        #tax_period = tax_period.years*12 + tax_period.months\n",
    "        if tax_period.months <=3:\n",
    "            months_q = 1\n",
    "        elif tax_period.months <=6:\n",
    "            months_q = 2\n",
    "        elif tax_period.months <=9:\n",
    "            months_q = 3\n",
    "        else:\n",
    "            months_q = 4\n",
    "        n_quart = years_q + months_q\n",
    "        #print('n_quart',n_quart,final_rate,final_rate*n_quart)\n",
    "        final_rate = final_rate * n_quart\n",
    "    elif tax_mode == 'Y':\n",
    "        tax_period = relativedelta(tax_upto, tax_from)\n",
    "        years_y = tax_period.years * 12 \n",
    "        months_y = math.ceil(tax_period.months + years_y)\n",
    "        if tax_period.days > 0:\n",
    "            months_y = months_y+1\n",
    "        #print((final_rate / 12),months_y)\n",
    "        if tm == 'y2q':\n",
    "            months_to_quart = math.ceil(months_y/3)\n",
    "            final_rate = (final_rate / 4) * months_to_quart\n",
    "        else:\n",
    "            final_rate = (final_rate / 12) * months_y\n",
    "    '''\n",
    "    "
   ]
  },
  {
   "cell_type": "code",
   "execution_count": 436,
   "metadata": {
    "scrolled": false
   },
   "outputs": [
    {
     "name": "stdout",
     "output_type": "stream",
     "text": [
      "Mismatch 0 BR535570 Bus 2018-03-14  2020-06-13  62813 60940.0 274814.0 111346.0\n",
      "Mismatch 1 JH12A1367 Bus 2018-01-27  2020-07-26  89068 86166.0 430594.0 159564.0\n",
      "Mismatch 2 AS01S2555 Bus 2019-05-25  2020-08-24  35032 34941.0 87688.0 nan\n",
      "Mismatch 3 BPK9825 Bus 2019-06-12  2020-06-11  18360 18410.0 36921.0 27540.0\n",
      "Mismatch 4 BR01PA6073 Bus 2019-02-16  2020-08-15  33315 33179.0 99446.0 nan\n",
      "Mismatch 5 BR01PA7821 Bus 2018-06-23  2020-06-22  43712 42198.0 169023.0 76356.0\n",
      "Mismatch 6 BR01PA8139 Bus 2019-07-27  2020-07-26  25211 25058.0 50253.0 37676.0\n",
      "Mismatch 7 BR01PA8216 Bus 2019-07-21  2020-07-20  22312 22195.0 44512.0 33334.0\n",
      "Mismatch 8 BR01PC7210 Bus 2019-06-26  2020-06-25  28560 28638.0 57433.0 42840.0\n",
      "Mismatch 9 BR01PC7430 Bus 2019-07-20  2020-07-19  6786 6750.0 13537.0 10138.0\n",
      "Mismatch 10 BR01PD6477 Bus 2019-01-06  2020-07-05  54681 54505.0 163366.0 90790.0\n",
      "Mismatch 11 BR01PD8012 Bus 2019-09-08  2020-06-07  9678 9686.0 14542.0 12904.0\n",
      "Mismatch 12 BR01PF7826 Bus 2019-10-02  2020-07-01  5085 5054.0 7588.0 6736.0\n",
      "Mismatch 13 BR01PH6379 Bus 2019-09-30  2020-06-29  20886 20904.0 31385.0 27848.0\n",
      "Mismatch 14 BR01PJ2160 Bus 2018-06-02  2020-06-01  35985 34886.0 139735.0 62790.0\n",
      "Mismatch 15 BR01PJ2161 Bus 2018-06-02  2020-06-01  35985 34886.0 139735.0 62790.0\n",
      "Mismatch 16 BR01PJ2517 Bus 2018-06-29  2020-06-28  35045 33856.0 135610.0 61216.0\n",
      "Mismatch 17 BR01PJ2776 Bus 2019-07-10  2020-07-09  22491 25058.0 50253.0 nan\n",
      "Mismatch 18 BR01PJ2801 Bus 2019-07-10  2020-07-09  22491 25058.0 50253.0 nan\n",
      "Mismatch 19 BR01PJ2802 Bus 2019-07-10  2020-07-09  22491 25058.0 50253.0 nan\n"
     ]
    }
   ],
   "source": [
    "nc_regn_no_list = []\n",
    "for i in range(0,20):   \n",
    "    regn_no = def_list['Regn No'].to_list()[i]\n",
    "    \n",
    "    state_cd = state\n",
    "    #print(regn_no,state)\n",
    "    #off_cd = 1\n",
    "    vh_class = def_list['Vehicle Class'].to_list()[i]\n",
    "    #rcpt_no = def_list['Rcpt No'].to_list()[i]\n",
    "    #print(regn_no,rcpt_no)\n",
    "    #tax_amt = def_list['Tax Amt'].to_list()[i]\n",
    "    #rcpt_dt = def_list['Rcpt Dt'].to_list()[i]\n",
    "    \n",
    "    #tax_from = def_list['latest_tax_paid_upto'] + 1\n",
    "    tax_from = def_list['Tax Arrear From'].to_list()[i]\n",
    "    #print(tax_from)\n",
    "    tax_from = datetime.strptime(tax_from, date_format)\n",
    "    \n",
    "    tax_upto = def_list['Tax Arrear UpTo'].to_list()[i]\n",
    "    tax_upto = datetime.strptime(tax_upto,'%d-%b-%Y')\n",
    "    #tax_upto = datetime.strptime('04-May-2020','%d-%b-%Y')\n",
    "    #print('Delayed',tax_upto-tax_from)\n",
    "    c_tax_amt = round(calculate_tax(regn_no,tax_from,tax_upto,tax_mode='Y',state_cd=state))\n",
    "    #print(c_tax_amt)\n",
    "    if c_tax_amt == 0:\n",
    "        #print('Unable to calculate tax')\n",
    "        nc_regn_no_list.append(regn_no)\n",
    "    tax_amt = pd.to_numeric(def_list['Tax Amount in (Rs)'].str.replace(',',''),errors='coerce').to_list()[i]\n",
    "    \n",
    "    tax_fine = pd.to_numeric(def_list['Tax Fine in (Rs)'].str.replace(',',''),errors='coerce').to_list()[i]\n",
    "    if c_tax_amt !=0:\n",
    "        c_tax_fine = round(calculate_tax(regn_no,tax_from,tax_upto, pur_cd = 57, final_rate = c_tax_amt,tax_mode='Y',state_cd=state))\n",
    "    #print(tax_fine)\n",
    "    if tax_amt!=c_tax_amt: \n",
    "        print('Mismatch',i,regn_no, vh_class,str(tax_from)[:11],str(tax_upto)[:11],tax_amt,c_tax_amt,c_tax_fine,tax_fine)\n",
    "    else:\n",
    "        print(i, regn_no,vh_class,str(tax_from)[:11],str(tax_upto)[:11], tax_amt, c_tax_amt,c_tax_fine,tax_fine)\n",
    "    #summary_df = c_tax_amt[1]\n",
    "    "
   ]
  },
  {
   "cell_type": "code",
   "execution_count": 392,
   "metadata": {},
   "outputs": [
    {
     "data": {
      "text/html": [
       "<div>\n",
       "<style scoped>\n",
       "    .dataframe tbody tr th:only-of-type {\n",
       "        vertical-align: middle;\n",
       "    }\n",
       "\n",
       "    .dataframe tbody tr th {\n",
       "        vertical-align: top;\n",
       "    }\n",
       "\n",
       "    .dataframe thead th {\n",
       "        text-align: right;\n",
       "    }\n",
       "</style>\n",
       "<table border=\"1\" class=\"dataframe\">\n",
       "  <thead>\n",
       "    <tr style=\"text-align: right;\">\n",
       "      <th></th>\n",
       "      <th>?column?</th>\n",
       "    </tr>\n",
       "  </thead>\n",
       "  <tbody>\n",
       "    <tr>\n",
       "      <th>0</th>\n",
       "      <td>6000.0</td>\n",
       "    </tr>\n",
       "  </tbody>\n",
       "</table>\n",
       "</div>"
      ],
      "text/plain": [
       "   ?column?\n",
       "0    6000.0"
      ]
     },
     "execution_count": 392,
     "metadata": {},
     "output_type": "execute_result"
    }
   ],
   "source": [
    "c_formula = '750+(CEIL((7520-1000) / 1000.00) * 750)'\n",
    "pd.read_sql_query(repr('select '+c_formula)[1:-1],con=engine)"
   ]
  },
  {
   "cell_type": "code",
   "execution_count": 182,
   "metadata": {},
   "outputs": [],
   "source": [
    "slab_new1 = slab_new[(slab_new['vh_class']==86) & (slab_new['pur_cd']==58) & (slab_new['tax_mode']=='Y') &(slab_new['state_cd']=='BR') & (slab_new['date_from'] < tax_from) & (slab_new['date_to'] > tax_from)]"
   ]
  },
  {
   "cell_type": "code",
   "execution_count": 242,
   "metadata": {},
   "outputs": [
    {
     "data": {
      "text/plain": [
       "234"
      ]
     },
     "execution_count": 242,
     "metadata": {},
     "output_type": "execute_result"
    }
   ],
   "source": [
    "(t_dt - f_dt).item().days"
   ]
  },
  {
   "cell_type": "code",
   "execution_count": null,
   "metadata": {},
   "outputs": [],
   "source": []
  },
  {
   "cell_type": "code",
   "execution_count": 346,
   "metadata": {},
   "outputs": [
    {
     "data": {
      "text/plain": [
       "246180    02-10-2009\n",
       "Name: purchase_dt, dtype: object"
      ]
     },
     "execution_count": 346,
     "metadata": {},
     "output_type": "execute_result"
    }
   ],
   "source": [
    "vt_owner[vt_owner['regn_no']=='BR01PA6073']['purchase_dt']"
   ]
  },
  {
   "cell_type": "code",
   "execution_count": 151,
   "metadata": {},
   "outputs": [
    {
     "data": {
      "text/html": [
       "<div>\n",
       "<style scoped>\n",
       "    .dataframe tbody tr th:only-of-type {\n",
       "        vertical-align: middle;\n",
       "    }\n",
       "\n",
       "    .dataframe tbody tr th {\n",
       "        vertical-align: top;\n",
       "    }\n",
       "\n",
       "    .dataframe thead th {\n",
       "        text-align: right;\n",
       "    }\n",
       "</style>\n",
       "<table border=\"1\" class=\"dataframe\">\n",
       "  <thead>\n",
       "    <tr style=\"text-align: right;\">\n",
       "      <th></th>\n",
       "      <th>S. No</th>\n",
       "      <th>Select Demand Notice</th>\n",
       "      <th>Regn No</th>\n",
       "      <th>Office</th>\n",
       "      <th>Regn Date</th>\n",
       "      <th>Vehicle Class</th>\n",
       "      <th>Vehicle Category</th>\n",
       "      <th>purpose Code</th>\n",
       "      <th>Tax Type</th>\n",
       "      <th>Owner Name</th>\n",
       "      <th>...</th>\n",
       "      <th>Tax Arrear From</th>\n",
       "      <th>Tax Arrear UpTo</th>\n",
       "      <th>Permit Valid From</th>\n",
       "      <th>Permit Valid Upto</th>\n",
       "      <th>Tax Amount in (Rs)</th>\n",
       "      <th>Tax Fine in (Rs)</th>\n",
       "      <th>Total Tax Amount in (Rs)</th>\n",
       "      <th>Fitness Validity</th>\n",
       "      <th>Financer Name</th>\n",
       "      <th>Blacklist Status</th>\n",
       "    </tr>\n",
       "  </thead>\n",
       "  <tbody>\n",
       "  </tbody>\n",
       "</table>\n",
       "<p>0 rows × 31 columns</p>\n",
       "</div>"
      ],
      "text/plain": [
       "Empty DataFrame\n",
       "Columns: [S. No, Select Demand Notice, Regn No, Office, Regn Date, Vehicle Class, Vehicle Category, purpose Code, Tax Type, Owner Name, Father Name, Complete Present Address, Mobile No, Laden Wt., UnLaden Wt., Seating Capacity, Standing Capacity, Fuel Type, Tax From, Tax Upto, Tax Cleared Upto, Tax Arrear From, Tax Arrear UpTo, Permit Valid From, Permit Valid Upto, Tax Amount in (Rs), Tax Fine in (Rs), Total Tax Amount in (Rs), Fitness Validity, Financer Name, Blacklist Status]\n",
       "Index: []\n",
       "\n",
       "[0 rows x 31 columns]"
      ]
     },
     "execution_count": 151,
     "metadata": {},
     "output_type": "execute_result"
    }
   ],
   "source": [
    "def_list[def_list['Regn No']=='BR01PH4681']"
   ]
  },
  {
   "cell_type": "code",
   "execution_count": 343,
   "metadata": {},
   "outputs": [
    {
     "data": {
      "text/plain": [
       "310514     33\n",
       "1119669    33\n",
       "1236883    33\n",
       "1903849    33\n",
       "Name: seat_cap, dtype: int64"
      ]
     },
     "execution_count": 343,
     "metadata": {},
     "output_type": "execute_result"
    }
   ],
   "source": [
    "vt_tax_based_on[vt_tax_based_on['regn_no']=='BR01PA6073']['seat_cap']"
   ]
  },
  {
   "cell_type": "code",
   "execution_count": 243,
   "metadata": {},
   "outputs": [
    {
     "data": {
      "text/html": [
       "<div>\n",
       "<style scoped>\n",
       "    .dataframe tbody tr th:only-of-type {\n",
       "        vertical-align: middle;\n",
       "    }\n",
       "\n",
       "    .dataframe tbody tr th {\n",
       "        vertical-align: top;\n",
       "    }\n",
       "\n",
       "    .dataframe thead th {\n",
       "        text-align: right;\n",
       "    }\n",
       "</style>\n",
       "<table border=\"1\" class=\"dataframe\">\n",
       "  <thead>\n",
       "    <tr style=\"text-align: right;\">\n",
       "      <th></th>\n",
       "      <th>formula</th>\n",
       "      <th>result</th>\n",
       "    </tr>\n",
       "  </thead>\n",
       "  <tbody>\n",
       "    <tr>\n",
       "      <th>0</th>\n",
       "      <td>&lt;0&gt; &gt;10 AND &lt;0&gt; &lt;=13 AND (&lt;21&gt;!=1) AND(&lt;25&gt;!=102)</td>\n",
       "      <td>True</td>\n",
       "    </tr>\n",
       "  </tbody>\n",
       "</table>\n",
       "</div>"
      ],
      "text/plain": [
       "                                             formula  result\n",
       "0  <0> >10 AND <0> <=13 AND (<21>!=1) AND(<25>!=102)    True"
      ]
     },
     "execution_count": 243,
     "metadata": {},
     "output_type": "execute_result"
    }
   ],
   "source": [
    "ft = pd.read_excel(r'C:\\Users\\CDMA\\Documents\\formula test.xlsx',sheet_name = 'Sheet1')\n",
    "ft\n",
    "#pd.read_sql_query(repr('Select '+ft['formula'].to_list()[0])[1:-1],con=engine)"
   ]
  },
  {
   "cell_type": "code",
   "execution_count": 199,
   "metadata": {},
   "outputs": [
    {
     "data": {
      "text/plain": [
       "\"Select (10.0 >= 7 AND 10.0 <= 10 AND 2.0 != 1 AND 'nan' != 102) OR (10.0 >= 7 AND 10.0 <= 10 AND 0.0 IN(9,20))\""
      ]
     },
     "execution_count": 199,
     "metadata": {},
     "output_type": "execute_result"
    }
   ],
   "source": [
    "x = repr('Select '+ft['formula'].to_list()[0])[1:-1]\n",
    "x.replace('')"
   ]
  },
  {
   "cell_type": "code",
   "execution_count": 85,
   "metadata": {},
   "outputs": [
    {
     "data": {
      "text/html": [
       "<div>\n",
       "<style scoped>\n",
       "    .dataframe tbody tr th:only-of-type {\n",
       "        vertical-align: middle;\n",
       "    }\n",
       "\n",
       "    .dataframe tbody tr th {\n",
       "        vertical-align: top;\n",
       "    }\n",
       "\n",
       "    .dataframe thead th {\n",
       "        text-align: right;\n",
       "    }\n",
       "</style>\n",
       "<table border=\"1\" class=\"dataframe\">\n",
       "  <thead>\n",
       "    <tr style=\"text-align: right;\">\n",
       "      <th></th>\n",
       "      <th>Regn No</th>\n",
       "      <th>Tax Mode</th>\n",
       "      <th>Payment Mode</th>\n",
       "      <th>Tax Amt</th>\n",
       "      <th>Tax Fine</th>\n",
       "      <th>Rcpt No</th>\n",
       "      <th>Rcpt Dt</th>\n",
       "      <th>Tax From</th>\n",
       "      <th>Tax Upto</th>\n",
       "      <th>Pur Cd</th>\n",
       "      <th>Flag</th>\n",
       "      <th>Collected By</th>\n",
       "      <th>State Cd</th>\n",
       "      <th>Off Cd</th>\n",
       "    </tr>\n",
       "  </thead>\n",
       "  <tbody>\n",
       "    <tr>\n",
       "      <th>7699575</th>\n",
       "      <td>GJ06AX5483</td>\n",
       "      <td>Y</td>\n",
       "      <td>M</td>\n",
       "      <td>13527</td>\n",
       "      <td>399</td>\n",
       "      <td>RJ141R1804003371</td>\n",
       "      <td>2018-04-11 15:47:51.647</td>\n",
       "      <td>2018-03-26</td>\n",
       "      <td>2019-03-31</td>\n",
       "      <td>58</td>\n",
       "      <td>NaN</td>\n",
       "      <td>1612007479</td>\n",
       "      <td>RJ</td>\n",
       "      <td>141</td>\n",
       "    </tr>\n",
       "  </tbody>\n",
       "</table>\n",
       "</div>"
      ],
      "text/plain": [
       "            Regn No Tax Mode Payment Mode  Tax Amt  Tax Fine  \\\n",
       "7699575  GJ06AX5483        Y            M    13527       399   \n",
       "\n",
       "                  Rcpt No                  Rcpt Dt    Tax From    Tax Upto  \\\n",
       "7699575  RJ141R1804003371  2018-04-11 15:47:51.647  2018-03-26  2019-03-31   \n",
       "\n",
       "         Pur Cd Flag Collected By State Cd  Off Cd  \n",
       "7699575      58  NaN   1612007479       RJ     141  "
      ]
     },
     "execution_count": 85,
     "metadata": {},
     "output_type": "execute_result"
    }
   ],
   "source": [
    "vt_tax[vt_tax['Regn No']=='GJ06AX5483']"
   ]
  },
  {
   "cell_type": "code",
   "execution_count": 269,
   "metadata": {},
   "outputs": [
    {
     "data": {
      "text/plain": [
       "False"
      ]
     },
     "execution_count": 269,
     "metadata": {},
     "output_type": "execute_result"
    }
   ],
   "source": [
    "calendar.isleap(2019)"
   ]
  }
 ],
 "metadata": {
  "kernelspec": {
   "display_name": "Python 3",
   "language": "python",
   "name": "python3"
  },
  "language_info": {
   "codemirror_mode": {
    "name": "ipython",
    "version": 3
   },
   "file_extension": ".py",
   "mimetype": "text/x-python",
   "name": "python",
   "nbconvert_exporter": "python",
   "pygments_lexer": "ipython3",
   "version": "3.7.6"
  }
 },
 "nbformat": 4,
 "nbformat_minor": 4
}
