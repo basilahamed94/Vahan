{
 "cells": [
  {
   "cell_type": "code",
   "execution_count": 1,
   "metadata": {},
   "outputs": [],
   "source": [
    "import pandas as pd\n",
    "import math\n",
    "from dateutil.relativedelta import relativedelta\n",
    "from datetime import datetime\n",
    "import re\n",
    "import copy\n",
    "from sqlalchemy import create_engine"
   ]
  },
  {
   "cell_type": "code",
   "execution_count": 2,
   "metadata": {},
   "outputs": [],
   "source": [
    "conn_string = 'postgresql://{user}:{pwd}@{host}:{port}/{db}'.format(user='postgres',\n",
    "                                                                     pwd='123',\n",
    "                                                                     host='localhost',\n",
    "                                                                     port='5432',\n",
    "                                                                     db='postgres'\n",
    "                                                                     )\n",
    "engine = create_engine(conn_string, paramstyle='format', isolation_level=\"READ UNCOMMITTED\")"
   ]
  },
  {
   "cell_type": "code",
   "execution_count": null,
   "metadata": {},
   "outputs": [],
   "source": [
    "conn_string_cloud = conn_string = 'postgresql://{user}:{pwd}@{host}:{port}/{db}'.format(user='postgres',\n",
    "                                                                     pwd='',\n",
    "                                                                     host='10.247.204.254',\n",
    "                                                                     port='5433',\n",
    "                                                                     db='test_vow4'\n",
    "                                                                     )\n",
    "engine2 = create_engine(conn_string_cloud, paramstyle='format', isolation_level=\"READ UNCOMMITTED\")\n",
    "con_test_qry = pd.read_sql_query('Select * from vm_vh_class',con=engine2)\n",
    "if con_test_qry.shape == (70,5):\n",
    "    print(\"Connection Established\")\n",
    "else:\n",
    "    print(\"Error in Connection\")"
   ]
  },
  {
   "cell_type": "code",
   "execution_count": 3,
   "metadata": {},
   "outputs": [],
   "source": [
    "path = 'D:/RJ/'\n",
    "state = 'RJ'"
   ]
  },
  {
   "cell_type": "code",
   "execution_count": 4,
   "metadata": {},
   "outputs": [],
   "source": [
    "slab_fields = pd.read_excel(r'C:\\Users\\CDMA\\Downloads\\slab_fields_prep_v2.xlsx',sheet_name = 'slab_fields_prep')"
   ]
  },
  {
   "cell_type": "code",
   "execution_count": 5,
   "metadata": {},
   "outputs": [],
   "source": [
    "slab_new = pd.read_csv(r'C:\\Users\\CDMA\\Downloads\\vm_tax_slab_new_transformed.csv')\n",
    "slab_new = slab_new[slab_new['state_cd']==state]\n",
    "slab_new = slab_new[slab_new['vh_class'].notnull()]"
   ]
  },
  {
   "cell_type": "code",
   "execution_count": 6,
   "metadata": {},
   "outputs": [],
   "source": [
    "slab_new['date_from'] = slab_new['date_from'].astype('datetime64[ns]')\n",
    "slab_new['date_to'] = slab_new['date_to'].astype('datetime64[ns]')"
   ]
  },
  {
   "cell_type": "code",
   "execution_count": 7,
   "metadata": {},
   "outputs": [],
   "source": [
    "slab_add_new = pd.read_csv(r'D:\\Jharkhand python\\vm_tax_slab_add_new.csv')\n",
    "slab_add_new = slab_add_new[slab_add_new['state_cd']==state]"
   ]
  },
  {
   "cell_type": "code",
   "execution_count": 8,
   "metadata": {},
   "outputs": [],
   "source": [
    "vt_tax_based_on = pd.read_csv(path+'/vt_tax_based_on.csv')\n",
    "#vt_tax_based_on_permit_info = pd.read_csv(r'D:\\AS\\vt_tax_based_on_permit_info.csv')\n",
    "#vt_tax_based_on = pd.read_sql_query('Select * from vt_tax_based_on where state_cd ='+\"'{}'\".format(state),con=engine2)"
   ]
  },
  {
   "cell_type": "code",
   "execution_count": 9,
   "metadata": {},
   "outputs": [],
   "source": [
    "vm_vh_class=pd.read_csv(r'D:\\Jharkhand python\\vm_vh_class.csv')\n"
   ]
  },
  {
   "cell_type": "code",
   "execution_count": 10,
   "metadata": {},
   "outputs": [
    {
     "name": "stderr",
     "output_type": "stream",
     "text": [
      "C:\\Users\\CDMA\\anaconda3\\lib\\site-packages\\IPython\\core\\interactiveshell.py:3063: DtypeWarning: Columns (52) have mixed types.Specify dtype option on import or set low_memory=False.\n",
      "  interactivity=interactivity, compiler=compiler, result=result)\n"
     ]
    }
   ],
   "source": [
    "vt_owner = pd.read_csv(path+'/vt_owner.csv')\n",
    "#vt_owner = pd.read_sql_query('Select * from vt_owner where state_cd ='+\"'{}'\".format(state),con=engine2)"
   ]
  },
  {
   "cell_type": "code",
   "execution_count": 11,
   "metadata": {},
   "outputs": [],
   "source": [
    "vt_permit = pd.read_csv(path+'/vt_permit.csv')\n",
    "#vt_owner = pd.read_sql_query('Select * from vt_owner where state_cd ='+\"'{}'\".format(state),con=engine2)"
   ]
  },
  {
   "cell_type": "code",
   "execution_count": 12,
   "metadata": {},
   "outputs": [],
   "source": [
    "tm_office = pd.read_csv(path+'/tm_office.csv')\n",
    "tm_office = tm_office[tm_office['state_cd']==state]"
   ]
  },
  {
   "cell_type": "code",
   "execution_count": 82,
   "metadata": {},
   "outputs": [
    {
     "name": "stderr",
     "output_type": "stream",
     "text": [
      "C:\\Users\\CDMA\\anaconda3\\lib\\site-packages\\IPython\\core\\interactiveshell.py:3063: DtypeWarning: Columns (10) have mixed types.Specify dtype option on import or set low_memory=False.\n",
      "  interactivity=interactivity, compiler=compiler, result=result)\n"
     ]
    }
   ],
   "source": [
    "vt_tax = pd.read_csv(path+'vt_tax.csv')\n",
    "#vt_tax = pd.read_sql_query('Select * from vt_tax where state_cd ='+\"'{}'\".format(state),con=engine2)\n",
    "vt_tax = vt_tax[vt_tax['Pur Cd']==58]\n",
    "vt_tax = vt_tax[vt_tax['Tax Mode']!='B']\n",
    "#vt_tax=vt_tax[vt_tax['Collected By']!='VAHAN2']\n",
    "vt_tax.reset_index(drop=True, inplace=True)\n"
   ]
  },
  {
   "cell_type": "code",
   "execution_count": 13,
   "metadata": {},
   "outputs": [],
   "source": [
    "#Turn into first letter capital in each word\n",
    "def change_col_names(cols):\n",
    "    pp=[]\n",
    "    for j in cols :\n",
    "        p= j.replace('_',' ').title()\n",
    "        pp.append(p)\n",
    "        #df.rename(columns={j: p},inplace=True)\n",
    "    return pp"
   ]
  },
  {
   "cell_type": "code",
   "execution_count": 13,
   "metadata": {},
   "outputs": [
    {
     "data": {
      "text/plain": [
       "Index(['S. No', 'Select Demand Notice', 'Regn No', 'Office', 'Regn Date',\n",
       "       'Vehicle Class', 'Vehicle Category', 'purpose Code', 'Tax Type',\n",
       "       'Owner Name', 'Father Name', 'Complete Present Address', 'Mobile No',\n",
       "       'Laden Wt.', 'UnLaden Wt.', 'Seating Capacity', 'Standing Capacity',\n",
       "       'Fuel Type', 'Tax From', 'Tax Upto', 'Tax Cleared Upto',\n",
       "       'Tax Arrear From', 'Tax Arrear UpTo', 'Permit Valid From',\n",
       "       'Permit Valid Upto', 'Tax Amount in (Rs)', 'Tax Fine in (Rs)',\n",
       "       'Total Tax Amount in (Rs)', 'Fitness Validity', 'Financer Name',\n",
       "       'Blacklist Status'],\n",
       "      dtype='object')"
      ]
     },
     "execution_count": 13,
     "metadata": {},
     "output_type": "execute_result"
    }
   ],
   "source": [
    "def_list = pd.read_excel(r'C:\\Users\\CDMA\\Downloads\\Tax Defaulter Report jagatpura jaipur.xls')\n",
    "def_list = def_list[def_list['Tax Arrear From'].notnull()]\n",
    "def_list.columns"
   ]
  },
  {
   "cell_type": "code",
   "execution_count": 14,
   "metadata": {},
   "outputs": [
    {
     "data": {
      "text/plain": [
       "array(['Three Wheeler (Passenger)', 'Three Wheeler (Goods)',\n",
       "       'Goods Carrier', 'Articulated Vehicle', 'Dumper', 'Bus',\n",
       "       'Educational Institution Bus', 'Omni Bus'], dtype=object)"
      ]
     },
     "execution_count": 14,
     "metadata": {},
     "output_type": "execute_result"
    }
   ],
   "source": [
    "def_list['Vehicle Class'].unique()"
   ]
  },
  {
   "cell_type": "code",
   "execution_count": 15,
   "metadata": {},
   "outputs": [],
   "source": [
    "def_list = def_list[def_list['Vehicle Class']=='Goods Carrier']"
   ]
  },
  {
   "cell_type": "code",
   "execution_count": 67,
   "metadata": {},
   "outputs": [],
   "source": [
    "def calculate_formula(formula_df,params_info):\n",
    "    #Calculate the Formula one by one\n",
    "    ind=[]\n",
    "    cff_formula = []\n",
    "    cc_formula=[]\n",
    "    ccf_result=[]\n",
    "    cr_rate=[]\n",
    "    #c_add_code=[]\n",
    "    #reb_df = formula_df[formula_df['type_flag']=='R']\n",
    "    for l in range(len(formula_df)):\n",
    "        #print('l',l)\n",
    "        condition_formula = formula_df['condition_formula'].to_list()[l]\n",
    "        if '\\r' in condition_formula:\n",
    "            condition_formula = condition_formula.replace('\\r','')\n",
    "        if '\\n' in condition_formula:\n",
    "            condition_formula = condition_formula.replace('\\n','')\n",
    "\n",
    "        cf_params = []\n",
    "        for k in re.split(r'[()\\*\\s]\\s*',condition_formula):\n",
    "            if '<' in k and '>' in k:\n",
    "                cf_params.append(k[k.find('<'):(k.find('>')+1)])\n",
    "        cf_params = list(set(cf_params))\n",
    "        c_formula = condition_formula\n",
    "        c_formula = condition_form_convert(cf_params,params_info, c_formula)\n",
    "        #print(c_formula)\n",
    "        for m in cf_params:\n",
    "            if m != '<>':\n",
    "                val = str(params_info[params_info['code']==m]['P_value'].to_list()[0])\n",
    "                c_formula = c_formula.replace(str(m),val)\n",
    "        \n",
    "        if c_formula.lower() != 'false' and formula_df['type_flag'].to_list()[l] != 'R' and 'nan' not in c_formula.lower():\n",
    "            cf_result = pd.read_sql_query(repr('select '+c_formula)[1:-1],con=engine)\n",
    "            cf_result = cf_result.loc[0,'?column?']\n",
    "        else:\n",
    "            cf_result = False\n",
    "        if cf_result==True:\n",
    "            #print('Ind',ind,l)\n",
    "            ind.append(l)\n",
    "        cff_formula.append(condition_formula)\n",
    "        cc_formula.append(c_formula)\n",
    "        ccf_result.append(cf_result)\n",
    "        cr_rate.append(formula_df.loc[:,'rate_formula'].to_list()[l])\n",
    "        \n",
    "    formula_df.reset_index(drop=True, inplace=True)\n",
    "    summary_df = pd.DataFrame(list(zip(cff_formula,cc_formula, ccf_result,cr_rate)), columns =['Condition Formula', 'Condition Result','Result','Rate Formula']) \n",
    "    return [ind,summary_df]"
   ]
  },
  {
   "cell_type": "code",
   "execution_count": 17,
   "metadata": {},
   "outputs": [
    {
     "data": {
      "text/plain": [
       "\"\\n        else:\\n            c_formula = c_formula.replace('<>','!=')\\n\\n    # Change '=' to '=='\\n    if '<=' in c_formula:\\n        c_formula=c_formula.replace('<=','@')\\n    if '>=' in c_formula:\\n        c_formula=c_formula.replace('>=',';')\\n    if '!=' in c_formula:\\n        c_formula=c_formula.replace('!=','?')\\n    if '=' in c_formula:\\n        c_formula = c_formula.replace('=','==')\\n    if '@' in c_formula:\\n        c_formula=c_formula.replace('@','<=')\\n    if ';' in c_formula:\\n        c_formula=c_formula.replace(';','>=')\\n    if '?' in c_formula:\\n        c_formula = c_formula.replace('?','!=')\\n    return c_formula\\n\""
      ]
     },
     "execution_count": 17,
     "metadata": {},
     "output_type": "execute_result"
    }
   ],
   "source": [
    "def condition_form_convert(cf_params,params_info, c_formula):\n",
    "    for m in cf_params:\n",
    "        if m != '<>':\n",
    "            val = str(params_info[params_info['code']==m]['P_value'].to_list()[0])\n",
    "            # Change '' to \\'\\' in case of string val\n",
    "            if val.isdigit()==False:\n",
    "                if '.' in val:\n",
    "                    v = val.replace('.','')\n",
    "                    if v.isdigit():\n",
    "                        val=val\n",
    "                    else:\n",
    "                        val=repr(val)\n",
    "                else:\n",
    "                    val=repr(val)\n",
    "            else:\n",
    "                val=val\n",
    "            c_formula = c_formula.replace(str(m),val)\n",
    "    return c_formula\n",
    "'''\n",
    "        else:\n",
    "            c_formula = c_formula.replace('<>','!=')\n",
    "\n",
    "    # Change '=' to '=='\n",
    "    if '<=' in c_formula:\n",
    "        c_formula=c_formula.replace('<=','@')\n",
    "    if '>=' in c_formula:\n",
    "        c_formula=c_formula.replace('>=',';')\n",
    "    if '!=' in c_formula:\n",
    "        c_formula=c_formula.replace('!=','?')\n",
    "    if '=' in c_formula:\n",
    "        c_formula = c_formula.replace('=','==')\n",
    "    if '@' in c_formula:\n",
    "        c_formula=c_formula.replace('@','<=')\n",
    "    if ';' in c_formula:\n",
    "        c_formula=c_formula.replace(';','>=')\n",
    "    if '?' in c_formula:\n",
    "        c_formula = c_formula.replace('?','!=')\n",
    "    return c_formula\n",
    "'''"
   ]
  },
  {
   "cell_type": "code",
   "execution_count": 72,
   "metadata": {},
   "outputs": [],
   "source": [
    "def calculate_rates(true_df,params_info):\n",
    "    t_params = []\n",
    "    for q in range(len(true_df)):\n",
    "        r_formula = true_df['rate_formula'].to_list()[q]\n",
    "        for k in re.split(r'[()\\*\\s]\\s*',r_formula):\n",
    "            if '<' in k and '>' in k:\n",
    "                t_params.append(k[k.find('<'):(k.find('>')+1)])\n",
    "\n",
    "    t_params = list(set(t_params))\n",
    "    #print('t_params',t_params)\n",
    "    rates=[]\n",
    "    for q in range(len(true_df)):\n",
    "        r_formula = true_df['rate_formula'].to_list()[q]\n",
    "        for m in t_params:\n",
    "            r_formula = r_formula.replace(str(m),str(params_info[params_info['code']==m]['P_value'].to_list()[0]))\n",
    "        \n",
    "        #print('r_formula',r_formula)\n",
    "            \n",
    "        #rate = eval(r_formula.lower())\n",
    "        rate = pd.read_sql_query(repr('select '+r_formula)[1:-1],con=engine)\n",
    "        rate = rate.loc[0,'?column?']\n",
    "        #print(rate)\n",
    "        rates.append(rate)        \n",
    "    true_df['Rate']=rates\n",
    "    return true_df"
   ]
  },
  {
   "cell_type": "code",
   "execution_count": 19,
   "metadata": {},
   "outputs": [],
   "source": [
    "def tbo_last_rcpt(regn_no,before):\n",
    "    tbo_df = vt_tax_based_on.loc[vt_tax_based_on['regn_no']==regn_no]\n",
    "    tbo_df= copy.deepcopy(tbo_df)\n",
    "    #print(tbo_df.shape)\n",
    "    #tbo_df = tbo_df.reset_index(drop=True, inplace=True)\n",
    "    tbo_df['op_dt'] = tbo_df.loc[:,'op_dt'].apply(lambda x: datetime.strptime(x[:10], '%d-%m-%Y'))\n",
    "    tbo_df = tbo_df.sort_values(by='op_dt', ascending=False)\n",
    "    #tbo_df = tbo_df.reset_index(drop=True, inplace=True)\n",
    "    if len(tbo_df)>0:#print(tbo_df.shape)\n",
    "        for n in tbo_df.index:\n",
    "            x = before-tbo_df.loc[n,'op_dt']\n",
    "            #x = x.years*365 + x.months*30 + x.days\n",
    "            if x.days>=0:\n",
    "                last_rcpt = tbo_df.loc[n,'rcpt_no']\n",
    "                break\n",
    "            last_rcpt=''\n",
    "        if last_rcpt=='':\n",
    "            print('No prior receipt info!!! Rcpt:',' Regn No:',regn_no)\n",
    "            return 0\n",
    "        else:\n",
    "            return last_rcpt\n",
    "    else:\n",
    "        return 0"
   ]
  },
  {
   "cell_type": "code",
   "execution_count": 20,
   "metadata": {},
   "outputs": [],
   "source": [
    "def owner_or_tbo(regn_no,params_info,param_info_owner,ot_df,tab,new_vch,rcpt_dt,tax_mode):\n",
    "    for pi in range(len(param_info_owner)):\n",
    "        col = param_info_owner['column_name'].to_list()[pi][1:-2]\n",
    "        par = param_info_owner['column - slab_field'].to_list()[pi]\n",
    "        code = param_info_owner['code'].to_list()[pi]\n",
    "        #col= col.replace('_',' ').title()\n",
    "        p_value = ''\n",
    "        #print(col,par,code,tab)\n",
    "        purchase_dt = ot_df['purchase_dt'].to_list()[0]\n",
    "        if purchase_dt[:4].isdigit():\n",
    "            purchase_dt =datetime.strptime(ot_df['purchase_dt'].to_list()[0],'%Y-%m-%d')\n",
    "        else:\n",
    "            purchase_dt =datetime.strptime(ot_df['purchase_dt'].to_list()[0],'%d-%m-%Y')\n",
    "        if par=='vch_age':\n",
    "            p_value = relativedelta(rcpt_dt, purchase_dt)\n",
    "            p_value = p_value.years\n",
    "        elif par=='vch_age_months':\n",
    "            p_value = relativedelta(rcpt_dt, purchase_dt)\n",
    "            p_value = (p_value.years *12) + p_value.months\n",
    "        elif par=='purchase_dt_vch_age':\n",
    "            p_value = relativedelta(rcpt_dt, purchase_dt)\n",
    "            p_value = p_value.years\n",
    "        elif par=='fin_vch_age':\n",
    "            #print(datetime.strptime(ot_df['purchase_dt'].to_list()[0],'%d-%m-%Y'))\n",
    "            p_value = relativedelta(rcpt_dt, purchase_dt)\n",
    "            p_value = p_value.years\n",
    "        elif par=='tax_month_duration':\n",
    "            p_value = relativedelta(tax_upto, tax_from)\n",
    "            p_value = p_value.years *12 + p_value.months\n",
    "        elif par=='payment_date':\n",
    "            p_value = rcpt_dt\n",
    "        #elif par=='distance_run_in_month':\n",
    "        #    p_value = vt_tax_based_on['distance_run_in_quarter']/4\n",
    "        #elif par=='transaction_pur_cd':\n",
    "        #    appl_no = vp_appl_rcpt_mapping[vp_appl_rcpt_mapping['rcpt_no']==rcpt_no]['appl_no'].to_list()[0]\n",
    "        #    if len(va_details[va_details['appl_no']==appl_no][col].to_list())==0:\n",
    "        #        print(i,'No pur_cd available in va_details')\n",
    "        #        print('Appl no',appl_no,' !!! Rcpt:',rcpt_no,' Regn No:',regn_no,'vh_class',vh_class)\n",
    "        #        continue\n",
    "        #    else:\n",
    "        #        p_value = va_details[va_details['appl_no']==appl_no][col].to_list()[0]\n",
    "        #print(p_value)\n",
    "        elif par=='vch_type':\n",
    "            p_value = vm_vh_class[vm_vh_class['vh_class']==vh_class]['Class Type'].to_list()[0]\n",
    "        elif par=='new_vch':\n",
    "            p_value = new_vch\n",
    "        elif par=='tax_mode':\n",
    "            p_value = tax_mode\n",
    "        elif par=='permit_sub_catg':\n",
    "            if 'pmt_catg' in ot_df.columns:\n",
    "                p_value = ot_df['pmt_catg'].to_list()[0]\n",
    "            else:\n",
    "                p_value = float(\"nan\")\n",
    "        elif par=='delay_days':\n",
    "            #print(rcpt_dt[:10],' ',tax_from)\n",
    "            p_value = rcpt_dt-tax_from\n",
    "            #p_value = p_value.years * 365 + p_value.months * 30 + p_value.days\n",
    "            if p_value.days > 0:\n",
    "                p_value = p_value.days\n",
    "            elif p_value == 0:\n",
    "                p_value = 1\n",
    "            else:\n",
    "                p_value = 0\n",
    "            #print(p_value)\n",
    "        else:\n",
    "            #if tab=='own':\n",
    "                #col= col.replace('_',' ').title()\n",
    "            p_value= ot_df[col].to_list()[0]\n",
    "            #print(p_value)\n",
    "        #print(col,' ',par,' ',code,' ',p_value)\n",
    "        params_info.loc[params_info.index[params_info['code'] == code].tolist()[0],'P_value']=p_value\n",
    "        #print(code,p_value)\n",
    "    return params_info"
   ]
  },
  {
   "cell_type": "code",
   "execution_count": 21,
   "metadata": {},
   "outputs": [],
   "source": [
    "def extract_parameters(regn_no,tax_from,rcpt_dt,params_info,param_info_tbo,param_info_owner,param_info_other,new_vch,pur_cd,tax_mode,final_rate):\n",
    "    if len(param_info_owner)>0:\n",
    "        owner_df = vt_owner.loc[vt_owner['regn_no']==regn_no]\n",
    "        owner_df= copy.deepcopy(owner_df)\n",
    "    if len(param_info_tbo)>0:\n",
    "        last_rcpt = tbo_last_rcpt(regn_no,rcpt_dt)\n",
    "        if last_rcpt !=0:\n",
    "            tbo_df = vt_tax_based_on.loc[vt_tax_based_on['rcpt_no']==last_rcpt]\n",
    "            c = tbo_df.columns\n",
    "            #for j in c :\n",
    "                #p= j.replace('_',' ').title()\n",
    "                #tbo_df.rename(columns={j: p},inplace=True)\n",
    "            tbo_df= copy.deepcopy(tbo_df)\n",
    "        else:\n",
    "            tbo_df=[]\n",
    "\n",
    "    # Extract parameters from the TBO table\n",
    "    if len(tbo_df)>0 :\n",
    "        #print('TBO')\n",
    "        tab = 'tbo'\n",
    "        #print(tbo_df.columns)\n",
    "        params_info = owner_or_tbo(regn_no,params_info,param_info_tbo,tbo_df,tab,new_vch,rcpt_dt,tax_mode)\n",
    "        #print('TBO',params_info['P_value'].to_list())\n",
    "    else:\n",
    "        #print('Owner')\n",
    "        tab='own'\n",
    "        params_info = owner_or_tbo(regn_no,params_info,param_info_owner,owner_df,tab,new_vch,rcpt_dt,tax_mode)\n",
    "    #print('Shape',params_info)\n",
    "    if len(param_info_other)>0:  \n",
    "        #print('Other')\n",
    "        #print(param_info_other.shape)\n",
    "        for pi in range(len(param_info_other)):\n",
    "            col = param_info_other['column_name'].to_list()[pi][1:-2]\n",
    "            par = param_info_other['column - slab_field'].to_list()[pi]\n",
    "            code = param_info_other['code'].to_list()[pi]\n",
    "            \n",
    "            #print(null_df)\n",
    "            #print('Yes!',)\n",
    "            #print('Other',code,col,par)\n",
    "            #if math.isnan(params_info[params_info['code']==code]['P_value'].to_list()[0]):\n",
    "            if pd.isnull(params_info.loc[params_info['code']==code]['P_value']).to_list()[0]==True:\n",
    "                if col == 'domain_cd':\n",
    "                    p_value = vt_permit[vt_permit['Regn No']==regn_no]['Domain Cd'].to_list()\n",
    "                    if len(p_value)!=0:\n",
    "                        p_value = p_value[0]\n",
    "                    #elif len(vt_tax_based_on[vt_tax_based_on['rcpt_no']==tbo_last_rcpt(regn_no,rcpt_dt)]['domain_cd'].to_list())>0:\n",
    "                    #    p_value = vt_tax_based_on[vt_tax_based_on['rcpt_no']==tbo_last_rcpt(regn_no,rcpt_dt)]['domain_cd'].to_list()[0]\n",
    "                    else:\n",
    "                        p_value = None\n",
    "                        print('No Domain Cd Available')\n",
    "                elif col == 'pmt_type':\n",
    "                    p_value = vt_permit[vt_permit['Regn No']==regn_no]['Pmt Type'].to_list()\n",
    "                    if len(p_value)!=0:\n",
    "                        p_value = p_value[0]\n",
    "                    #elif len(vt_tax_based_on[vt_tax_based_on['rcpt_no']==tbo_last_rcpt(regn_no,rcpt_dt)]['pmt_type'].to_list())>0:\n",
    "                    #    p_value = vt_tax_based_on[vt_tax_based_on['rcpt_no']==tbo_last_rcpt(regn_no,rcpt_dt)]['pmt_type'].to_list()[0]\n",
    "                    else:\n",
    "                        p_value = None\n",
    "                        print('No Permit Type Available')\n",
    "                elif col== 'pur_cd':\n",
    "                    if pur_cd==57 or pur_cd == 58:\n",
    "                        p_value=58\n",
    "                elif col=='tax_amt':\n",
    "                    p_value = final_rate\n",
    "                #print('Other',code,col,par)\n",
    "                params_info.loc[params_info.index[params_info['code'] == code].tolist()[0],'P_value']=p_value  \n",
    "    return params_info"
   ]
  },
  {
   "cell_type": "code",
   "execution_count": 79,
   "metadata": {
    "scrolled": false
   },
   "outputs": [],
   "source": [
    "date_format = \"%d-%b-%Y\"\n",
    "def calculate_tax(regn_no,tax_from,tax_upto='2019-10-03', pur_cd = 58,final_rate=0,tax_mode='Q' ,state_cd='RJ',off_cd=141):\n",
    "    rcpt_dt = tax_upto\n",
    "    \n",
    "    if len(vt_owner[vt_owner['regn_no']==regn_no])>0:\n",
    "        vh_class = vt_owner[vt_owner['regn_no']==regn_no]['vh_class'].to_list()[0]\n",
    "        new_vch = 'N'\n",
    "        #print(vh_class)\n",
    "    else:\n",
    "        print(i,'NO INFO IN VT_OWNER',regn_no)\n",
    "        return 0\n",
    "        \n",
    "    #slab_codes = slab_new[(slab_new['vh_class']==vh_class) & (slab_new['pur_cd']==pur_cd) & (slab_new['tax_mode']==tax_mode) & (slab_new['state_cd']==state_cd) & (slab_new['date_from']<tax_from) & (slab_new['date_to']>tax_from) ]['slab_code'].to_list()\n",
    "    #tax_from = datetime.strptime(tax_from,'%d-%b-%Y')\n",
    "    #print(vh_class, pur_cd, tax_mode, tax_from)\n",
    "    slab_new1 = slab_new[(slab_new['vh_class']==vh_class) & (slab_new['pur_cd']==pur_cd) & (slab_new['tax_mode']==tax_mode) &(slab_new['state_cd']==state_cd) & (slab_new['date_from'] < tax_from) & (slab_new['date_to'] > tax_from)]\n",
    "    #print(slab_new1)\n",
    "    slab_codes = slab_new1['slab_code'].to_list()\n",
    "    #print(pur_cd,'Slab Codes Applicable:',slab_codes)\n",
    "    if len(slab_codes)==0:\n",
    "        print(i,'Missed',regn_no,'vh_class',vh_class)\n",
    "        return 0\n",
    "\n",
    "    formula_df = slab_add_new.loc[(slab_add_new['slab_code'].isin(slab_codes)) & (slab_add_new['state_cd']==state_cd)]\n",
    "    formula_df = formula_df[formula_df['condition_formula']!='0=0']\n",
    "    #formula_df = formula_df[formula_df['condition_formula']!='1=1']\n",
    "    #formula_df.columns\n",
    "    \n",
    "    #print(formula_df)\n",
    "        \n",
    "    #Identify the parameters required for calculating the formulas\n",
    "    params = []\n",
    "    for j in range(len(formula_df)):\n",
    "        formula = formula_df['condition_formula'].to_list()[j] +' '+formula_df['rate_formula'].to_list()[j]\n",
    "        for k in re.split(r'[()\\*\\s]\\s*',formula):\n",
    "            if '<' in k and '>' in k:\n",
    "                params.append(k[k.find('<'):(k.find('>')+1)])\n",
    "    params = list(set(params))\n",
    "    #print('Required Parameters :',params)\n",
    "    params_info = slab_fields.loc[slab_fields['code'].isin(params)]\n",
    "    params_info = params_info.reindex(columns = params_info.columns.tolist() + ['P_value'])\n",
    "    #print(params_info)\n",
    "    param_info_owner = params_info[params_info['def_table']=='vt_owner']\n",
    "    #print('Owner',param_info_owner['column - slab_field'].to_list())\n",
    "    param_info_other = params_info[params_info['def_table']!='vt_owner']\n",
    "    #print('Other',param_info_other['column - slab_field'].to_list())\n",
    "    #param_info_tbopi = params_info[params_info['table - slab_field']=='vt_tax_based_on_permit_info']\n",
    "    #param_info_misc = params_info[(params_info['table - slab_field']!='vt_tax_based_on_permit_info') & (params_info['table - slab_field']!='vt_tax_based_on')]\n",
    "    param_info_tbo =  params_info[params_info['table - slab_field']=='vt_tax_based_on']\n",
    "    #print('TBO',param_info_tbo['code'].to_list)\n",
    "    #print('TBO',param_info_tbo['column - slab_field'].to_list())\n",
    "    #print('Initial Shape',params_info.shape)\n",
    "    params_info = extract_parameters(regn_no,tax_from,rcpt_dt,params_info,param_info_tbo,param_info_owner,param_info_other,new_vch,pur_cd,tax_mode,final_rate)\n",
    "    #print('Final Shape',params_info.shape)                                                                        \n",
    "    #if pur_cd ==57:        \n",
    "    #print(params_info)\n",
    "    ind = calculate_formula(formula_df,params_info)[0]\n",
    "    summary_df = calculate_formula(formula_df,params_info)[1]\n",
    "    print(summary_df)\n",
    "    if len(ind)==0:\n",
    "        print('No True Condition')\n",
    "        return \n",
    "    #Module for calculation of rates for true conditions\n",
    "    true_df = formula_df.loc[ind,:]\n",
    "    true_df.reset_index(drop=True, inplace=True)\n",
    "    #print('True_df',true_df)\n",
    "\n",
    "    #print(t_params)\n",
    "    true_df_t = true_df[(true_df['type_flag']=='T') | (true_df['type_flag']=='M') | (true_df['type_flag']=='X') ]\n",
    "    \n",
    "    true_df_r = true_df[true_df['type_flag']=='R']\n",
    "    true_df_s = true_df[true_df['type_flag']=='S']\n",
    "    \n",
    "    true_df_t = calculate_rates(true_df_t,params_info)\n",
    "    #print('T',true_df_t)\n",
    "    #print('S',true_df_s)\n",
    "    #print(rates)\n",
    "    #print(true_df)\n",
    "    #Module for dealing Minimum M and Amount T \n",
    "    if len(set(true_df_t['condition_formula'].to_list()))>0:\n",
    "        #true_df_t = true_df_t[true_df_t['condition_formula']!='1=1']\n",
    "        if len({'T','M'} - set(true_df_t['type_flag'].to_list()))==0:\n",
    "            if true_df_t[true_df_t['type_flag']=='T']['Rate'].to_list()[0]> true_df_t[true_df_t['type_flag']=='M']['Rate'].to_list()[0]:\n",
    "                final_rate = true_df_t[true_df_t['type_flag']=='T']['Rate'].to_list()\n",
    "            else:\n",
    "                final_rate = true_df_t[true_df_t['type_flag']=='M']['Rate'].to_list()\n",
    "        elif len({'T','X'} - set(true_df_t['type_flag'].to_list()))==0:\n",
    "            #print('Here')\n",
    "            final_rate = true_df_t[true_df_t['type_flag']=='X']['Rate'].to_list()\n",
    "        else:\n",
    "            final_rate = true_df_t[true_df_t['type_flag']=='T']['Rate'].to_list()\n",
    "    #else:       \n",
    "    #    final_rate = true_df['Rate'].to_list()\n",
    "    if type(final_rate)==list:\n",
    "        final_rate = final_rate[0]\n",
    "    #else:\n",
    "    #    final_rate = 0\n",
    "    #print(final_rate)\n",
    "    \n",
    "    #Module for Surcharge\n",
    "    if len(true_df_s) > 0 :\n",
    "        params_info.loc[params_info['code'] == '<58>','P_value']=final_rate\n",
    "        true_df_s = calculate_rates(true_df_s,params_info)\n",
    "        #print(true_df_s)\n",
    "        surcharge = true_df_s[true_df_s['type_flag']=='S']['Rate'].to_list()\n",
    "        #print(final_rate,surcharge)\n",
    "        final_rate = final_rate + surcharge[0]\n",
    "    '''\n",
    "    if len(true_df_r) > 0:\n",
    "        rr_formula = true_df_r[true_df_r['condition_formula']==f]['rate_formula'].to_list()[0]\n",
    "        ra_formula = condition_form_convert(reb_params,params_info,rr_formula)\n",
    "        reb_rate_result = eval(ra_formula.lower())              \n",
    "        final_rate = final_rate - reb_rate_result\n",
    "         \n",
    "    #Module for Tax Mode Remaining years\n",
    "    if tax_mode in ['Y15','Y10','Y12','Y20']:\n",
    "        tax_period = relativedelta(datetime.strptime(tax_upto, date_format), datetime.strptime(tax_from, date_format))\n",
    "        tax_period = tax_period.years*365 + tax_period.months*30 + tax_period.days\n",
    "        #print('Tax Upto - Tax From =',tax_period,'days')\n",
    "        veh_age = relativedelta(datetime.strptime(tax_from, date_format), datetime.strptime(vt_owner[vt_owner['Regn No']==regn_no]['Purchase Dt'].to_list()[0],'%Y-%m-%d'))\n",
    "        #print(((veh_age.years * 365) + (veh_age.months * 30) + veh_age.days))\n",
    "        if tax_mode=='Y10':\n",
    "            days_rem = 3652 - ((veh_age.years * 365) + (veh_age.months * 30) + veh_age.days)\n",
    "            final_rate = (final_rate/3652)*days_rem\n",
    "        if tax_mode=='Y12':\n",
    "            days_rem = 4383 - ((veh_age.years * 365) + (veh_age.months * 30) + veh_age.days)\n",
    "            #print('Days remaining in ',tax_mode,'=',days_rem,'days')\n",
    "            final_rate = (final_rate/4383)*days_rem\n",
    "        if tax_mode=='Y15':\n",
    "            days_rem = 5478 - ((veh_age.years * 365) + (veh_age.months * 30) + veh_age.days)\n",
    "            final_rate = (final_rate/5478)*days_rem\n",
    "    '''                            \n",
    "    #Module for Quarterly Mode    \n",
    "    if tax_mode== 'Q':\n",
    "        #print(tax_upto,' ',tax_from)\n",
    "        tax_period = relativedelta(tax_upto, tax_from)\n",
    "        #print(tax_period)\n",
    "        years_q = tax_period.years * 4 \n",
    "        #tax_period = tax_period.years*12 + tax_period.months\n",
    "        if tax_period.months <=3:\n",
    "            months_q = 1\n",
    "        elif tax_period.months <=6:\n",
    "            months_q = 2\n",
    "        elif tax_period.months <=9:\n",
    "            months_q = 3\n",
    "        else:\n",
    "            months_q = 4\n",
    "        n_quart = years_q + months_q\n",
    "        #print(n_quart)\n",
    "        final_rate = final_rate * n_quart\n",
    "    elif tax_mode == 'Y':\n",
    "        tax_period = relativedelta(tax_upto, tax_from)\n",
    "        years_y = tax_period.years * 12 \n",
    "        months_y = math.ceil(tax_period.months + years_y)\n",
    "        if tax_period.days > 0:\n",
    "            months_y = months_y+1\n",
    "        #print((final_rate / 12),months_y)\n",
    "        final_rate = (final_rate / 12) * months_y\n",
    "\n",
    "    #Display Calculated Amount\n",
    "    return final_rate"
   ]
  },
  {
   "cell_type": "code",
   "execution_count": 80,
   "metadata": {
    "scrolled": true
   },
   "outputs": [
    {
     "name": "stdout",
     "output_type": "stream",
     "text": [
      "GJ06AX5483\n",
      "                  Condition Formula  \\\n",
      "0        <5> >= 300000 AND <36> > 5   \n",
      "1       <5> >= 300000 AND <36> <= 5   \n",
      "2                     <5> <= 300000   \n",
      "3   <5> >= 300001 AND <5> <= 600000   \n",
      "4  <5> >= 600001 AND <5> <= 1000000   \n",
      "5                    <5> >= 1000001   \n",
      "6                     <5> <= 300000   \n",
      "\n",
      "                               Condition Result  Result  \\\n",
      "0               3300000.0 >= 300000 AND 4.0 > 5   False   \n",
      "1              3300000.0 >= 300000 AND 4.0 <= 5    True   \n",
      "2                           3300000.0 <= 300000   False   \n",
      "3   3300000.0 >= 300001 AND 3300000.0 <= 600000   False   \n",
      "4  3300000.0 >= 600001 AND 3300000.0 <= 1000000   False   \n",
      "5                          3300000.0 >= 1000001    True   \n",
      "6                           3300000.0 <= 300000   False   \n",
      "\n",
      "                                        Rate Formula  \n",
      "0                                      <58> * 0.0625  \n",
      "1                                      <58> * 0.0625  \n",
      "2         (FLOOR((<5> + 999) / 1000) * 1000) * 0.015  \n",
      "3  2250 + (((FLOOR((<5> + 999) / 1000) * 1000)  -...  \n",
      "4  4500 + ((((FLOOR((<5> + 999) / 1000) * 1000)) ...  \n",
      "5  8300 + ((((FLOOR((<5> + 999) / 1000) * 1000)) ...  \n",
      "6                                               2250  \n"
     ]
    },
    {
     "name": "stderr",
     "output_type": "stream",
     "text": [
      "C:\\Users\\CDMA\\anaconda3\\lib\\site-packages\\ipykernel_launcher.py:24: SettingWithCopyWarning: \n",
      "A value is trying to be set on a copy of a slice from a DataFrame.\n",
      "Try using .loc[row_indexer,col_indexer] = value instead\n",
      "\n",
      "See the caveats in the documentation: https://pandas.pydata.org/pandas-docs/stable/user_guide/indexing.html#returning-a-view-versus-a-copy\n"
     ]
    },
    {
     "name": "stdout",
     "output_type": "stream",
     "text": [
      "                                   Condition Formula  \\\n",
      "0  (<57> BETWEEN (CASE WHEN <59> = 'M' THEN 8 ELS...   \n",
      "1  (<57> BETWEEN (CASE WHEN <59> = 'M' THEN 30 EL...   \n",
      "2  (<57> BETWEEN (CASE WHEN <59> = 'M' THEN 8 ELS...   \n",
      "3  (<57> BETWEEN (CASE WHEN <59> = 'M' THEN 30 EL...   \n",
      "4  (<57> BETWEEN (CASE WHEN <59> = 'M' THEN 8 ELS...   \n",
      "5  <59>='Y' AND <60>='N' AND  <38> IN ('HGV','MGV...   \n",
      "\n",
      "                                    Condition Result  Result  \\\n",
      "0  (730 BETWEEN (CASE WHEN 'M' = 'M' THEN 8 ELSE ...    True   \n",
      "1  (730 BETWEEN (CASE WHEN 'M' = 'M' THEN 30 ELSE...   False   \n",
      "2  (730 BETWEEN (CASE WHEN 'M' = 'M' THEN 8 ELSE ...   False   \n",
      "3  (730 BETWEEN (CASE WHEN 'M' = 'M' THEN 30 ELSE...   False   \n",
      "4  (730 BETWEEN (CASE WHEN 'M' = 'M' THEN 8 ELSE ...   False   \n",
      "5  'M'='Y' AND 'N'='N' AND  'HGV' IN ('HGV','MGV'...   False   \n",
      "\n",
      "                           Rate Formula  \n",
      "0    (<58>*0.015) * (CEIL(<57> / 30.0))  \n",
      "1  (<58>*0.015) * ((CEIL(<57> / 30.0)))  \n",
      "2  (<58>*0.015) * ((CEIL(<57> / 30.0)))  \n",
      "3    (<58>*0.015) * (CEIL(<57> / 30.0))  \n",
      "4  (<58>*0.015) * ((CEIL(<57> / 30.0)))  \n",
      "5                         <581> * 0.015  \n",
      "Mismatch 4 GJ06AX5483 Goods Carrier 2019-04-01  2021-03-31  53069.0 24969 9363 5552.0\n"
     ]
    }
   ],
   "source": [
    "nc_regn_no_list = []\n",
    "for i in range(4,5):   \n",
    "    regn_no = def_list['Regn No'].to_list()[i]\n",
    "    print(regn_no)\n",
    "    #state_cd = 'AS'\n",
    "    #off_cd = 1\n",
    "    vh_class = def_list['Vehicle Class'].to_list()[i]\n",
    "    #rcpt_no = def_list['Rcpt No'].to_list()[i]\n",
    "    #print(regn_no,rcpt_no)\n",
    "    #tax_amt = def_list['Tax Amt'].to_list()[i]\n",
    "    #rcpt_dt = def_list['Rcpt Dt'].to_list()[i]\n",
    "    \n",
    "    #tax_from = def_list['latest_tax_paid_upto'] + 1\n",
    "    tax_from = def_list['Tax Arrear From'].to_list()[i]\n",
    "    #print(tax_from)\n",
    "    tax_from = datetime.strptime(tax_from, date_format)\n",
    "    \n",
    "    tax_upto = def_list['Tax Arrear UpTo'].to_list()[i]\n",
    "    tax_upto = datetime.strptime(tax_upto,'%d-%b-%Y')\n",
    "    #tax_upto = datetime.strptime('04-May-2020','%d-%b-%Y')\n",
    "    #print('Delayed',tax_upto-tax_from)\n",
    "    c_tax_amt = round(calculate_tax(regn_no,tax_from,tax_upto,tax_mode='Y'))\n",
    "    #print(c_tax_amt)\n",
    "    if c_tax_amt == 0:\n",
    "        print('Unable to calculate tax')\n",
    "        nc_regn_no_list.append(regn_no)\n",
    "    tax_amt = pd.to_numeric(def_list['Tax Amount in (Rs)'].str.replace(',',''),errors='coerce').to_list()[i]\n",
    "    \n",
    "    tax_fine = pd.to_numeric(def_list['Tax Fine in (Rs)'].str.replace(',',''),errors='coerce').to_list()[i]\n",
    "    if c_tax_amt !=0:\n",
    "        c_tax_fine = round(calculate_tax(regn_no,tax_from,tax_upto, pur_cd = 57, final_rate = c_tax_amt,tax_mode ='M'))\n",
    "    else:\n",
    "        c_tax_fine = 0\n",
    "    #print(tax_fine)\n",
    "    if tax_amt!=c_tax_amt: \n",
    "        print('Mismatch',i,regn_no, vh_class,str(tax_from)[:11],str(tax_upto)[:11],tax_amt,c_tax_amt,c_tax_fine,tax_fine)\n",
    "    else:\n",
    "        print(i, regn_no,vh_class,str(tax_from)[:11],str(tax_upto)[:11], tax_amt, c_tax_amt,c_tax_fine,tax_fine)\n",
    "    #summary_df = c_tax_amt[1]\n",
    "    "
   ]
  },
  {
   "cell_type": "code",
   "execution_count": 78,
   "metadata": {},
   "outputs": [
    {
     "data": {
      "text/plain": [
       "12876552    2020000\n",
       "Name: sale_amt, dtype: int64"
      ]
     },
     "execution_count": 78,
     "metadata": {},
     "output_type": "execute_result"
    }
   ],
   "source": [
    "vt_owner[vt_owner['regn_no']=='GJ06AX5483']['sale_amt']"
   ]
  },
  {
   "cell_type": "code",
   "execution_count": 100,
   "metadata": {},
   "outputs": [
    {
     "data": {
      "text/plain": [
       "True"
      ]
     },
     "execution_count": 100,
     "metadata": {},
     "output_type": "execute_result"
    }
   ],
   "source": [
    "datetime.strptime(vt_owner[vt_owner['regn_no']=='GJ06AX5483']['op_dt'].to_list()[0][:10],'%Y-%m-%d') > datetime.strptime(vt_tax_based_on[vt_tax_based_on['regn_no']=='GJ06AX5483']['op_dt'].to_list()[0][:10],'%d-%m-%Y')"
   ]
  },
  {
   "cell_type": "code",
   "execution_count": 87,
   "metadata": {},
   "outputs": [
    {
     "data": {
      "text/plain": [
       "790194    11-04-2018 15:47:52\n",
       "Name: op_dt, dtype: object"
      ]
     },
     "execution_count": 87,
     "metadata": {},
     "output_type": "execute_result"
    }
   ],
   "source": [
    "vt_tax_based_on[vt_tax_based_on['regn_no']=='GJ06AX5483']['op_dt']"
   ]
  },
  {
   "cell_type": "code",
   "execution_count": 81,
   "metadata": {},
   "outputs": [
    {
     "data": {
      "text/html": [
       "<div>\n",
       "<style scoped>\n",
       "    .dataframe tbody tr th:only-of-type {\n",
       "        vertical-align: middle;\n",
       "    }\n",
       "\n",
       "    .dataframe tbody tr th {\n",
       "        vertical-align: top;\n",
       "    }\n",
       "\n",
       "    .dataframe thead th {\n",
       "        text-align: right;\n",
       "    }\n",
       "</style>\n",
       "<table border=\"1\" class=\"dataframe\">\n",
       "  <thead>\n",
       "    <tr style=\"text-align: right;\">\n",
       "      <th></th>\n",
       "      <th>S. No</th>\n",
       "      <th>Select Demand Notice</th>\n",
       "      <th>Regn No</th>\n",
       "      <th>Office</th>\n",
       "      <th>Regn Date</th>\n",
       "      <th>Vehicle Class</th>\n",
       "      <th>Vehicle Category</th>\n",
       "      <th>purpose Code</th>\n",
       "      <th>Tax Type</th>\n",
       "      <th>Owner Name</th>\n",
       "      <th>...</th>\n",
       "      <th>Tax Arrear From</th>\n",
       "      <th>Tax Arrear UpTo</th>\n",
       "      <th>Permit Valid From</th>\n",
       "      <th>Permit Valid Upto</th>\n",
       "      <th>Tax Amount in (Rs)</th>\n",
       "      <th>Tax Fine in (Rs)</th>\n",
       "      <th>Total Tax Amount in (Rs)</th>\n",
       "      <th>Fitness Validity</th>\n",
       "      <th>Financer Name</th>\n",
       "      <th>Blacklist Status</th>\n",
       "    </tr>\n",
       "  </thead>\n",
       "  <tbody>\n",
       "    <tr>\n",
       "      <th>1869</th>\n",
       "      <td>1870</td>\n",
       "      <td>False</td>\n",
       "      <td>GJ06AX5483</td>\n",
       "      <td>JAGATPURA, JAIPUR ARTO(RJ-141)</td>\n",
       "      <td>31-Mar-2017</td>\n",
       "      <td>Goods Carrier</td>\n",
       "      <td>HGV</td>\n",
       "      <td>58</td>\n",
       "      <td>MV Tax</td>\n",
       "      <td>SUN FLAMES PETRO</td>\n",
       "      <td>...</td>\n",
       "      <td>01-Apr-2019</td>\n",
       "      <td>31-Mar-2021</td>\n",
       "      <td>NaN</td>\n",
       "      <td>NaN</td>\n",
       "      <td>53,069</td>\n",
       "      <td>5,552</td>\n",
       "      <td>58,621</td>\n",
       "      <td>30-Mar-2021</td>\n",
       "      <td>HDFC BANK LTD</td>\n",
       "      <td>No</td>\n",
       "    </tr>\n",
       "    <tr>\n",
       "      <th>25221</th>\n",
       "      <td>25222</td>\n",
       "      <td>False</td>\n",
       "      <td>GJ06AX5483</td>\n",
       "      <td>JAGATPURA, JAIPUR ARTO(RJ-141)</td>\n",
       "      <td>31-Mar-2017</td>\n",
       "      <td>Goods Carrier</td>\n",
       "      <td>HGV</td>\n",
       "      <td>97</td>\n",
       "      <td>Special Tax</td>\n",
       "      <td>SUN FLAMES PETRO</td>\n",
       "      <td>...</td>\n",
       "      <td>01-Apr-2019</td>\n",
       "      <td>31-Mar-2021</td>\n",
       "      <td>NaN</td>\n",
       "      <td>NaN</td>\n",
       "      <td>13,984</td>\n",
       "      <td>1,574</td>\n",
       "      <td>15,558</td>\n",
       "      <td>30-Mar-2021</td>\n",
       "      <td>HDFC BANK LTD</td>\n",
       "      <td>No</td>\n",
       "    </tr>\n",
       "  </tbody>\n",
       "</table>\n",
       "<p>2 rows × 31 columns</p>\n",
       "</div>"
      ],
      "text/plain": [
       "       S. No  Select Demand Notice     Regn No  \\\n",
       "1869    1870                 False  GJ06AX5483   \n",
       "25221  25222                 False  GJ06AX5483   \n",
       "\n",
       "                               Office    Regn Date  Vehicle Class  \\\n",
       "1869   JAGATPURA, JAIPUR ARTO(RJ-141)  31-Mar-2017  Goods Carrier   \n",
       "25221  JAGATPURA, JAIPUR ARTO(RJ-141)  31-Mar-2017  Goods Carrier   \n",
       "\n",
       "      Vehicle Category  purpose Code     Tax Type        Owner Name  ...  \\\n",
       "1869               HGV            58       MV Tax  SUN FLAMES PETRO  ...   \n",
       "25221              HGV            97  Special Tax  SUN FLAMES PETRO  ...   \n",
       "\n",
       "      Tax Arrear From Tax Arrear UpTo Permit Valid From  Permit Valid Upto  \\\n",
       "1869      01-Apr-2019     31-Mar-2021               NaN                NaN   \n",
       "25221     01-Apr-2019     31-Mar-2021               NaN                NaN   \n",
       "\n",
       "       Tax Amount in (Rs)  Tax Fine in (Rs)  Total Tax Amount in (Rs)  \\\n",
       "1869               53,069             5,552                    58,621   \n",
       "25221              13,984             1,574                    15,558   \n",
       "\n",
       "      Fitness Validity  Financer Name Blacklist Status  \n",
       "1869       30-Mar-2021  HDFC BANK LTD               No  \n",
       "25221      30-Mar-2021  HDFC BANK LTD               No  \n",
       "\n",
       "[2 rows x 31 columns]"
      ]
     },
     "execution_count": 81,
     "metadata": {},
     "output_type": "execute_result"
    }
   ],
   "source": [
    "def_list[def_list['Regn No']=='GJ06AX5483']"
   ]
  },
  {
   "cell_type": "code",
   "execution_count": 85,
   "metadata": {},
   "outputs": [
    {
     "data": {
      "text/html": [
       "<div>\n",
       "<style scoped>\n",
       "    .dataframe tbody tr th:only-of-type {\n",
       "        vertical-align: middle;\n",
       "    }\n",
       "\n",
       "    .dataframe tbody tr th {\n",
       "        vertical-align: top;\n",
       "    }\n",
       "\n",
       "    .dataframe thead th {\n",
       "        text-align: right;\n",
       "    }\n",
       "</style>\n",
       "<table border=\"1\" class=\"dataframe\">\n",
       "  <thead>\n",
       "    <tr style=\"text-align: right;\">\n",
       "      <th></th>\n",
       "      <th>Regn No</th>\n",
       "      <th>Tax Mode</th>\n",
       "      <th>Payment Mode</th>\n",
       "      <th>Tax Amt</th>\n",
       "      <th>Tax Fine</th>\n",
       "      <th>Rcpt No</th>\n",
       "      <th>Rcpt Dt</th>\n",
       "      <th>Tax From</th>\n",
       "      <th>Tax Upto</th>\n",
       "      <th>Pur Cd</th>\n",
       "      <th>Flag</th>\n",
       "      <th>Collected By</th>\n",
       "      <th>State Cd</th>\n",
       "      <th>Off Cd</th>\n",
       "    </tr>\n",
       "  </thead>\n",
       "  <tbody>\n",
       "    <tr>\n",
       "      <th>7699575</th>\n",
       "      <td>GJ06AX5483</td>\n",
       "      <td>Y</td>\n",
       "      <td>M</td>\n",
       "      <td>13527</td>\n",
       "      <td>399</td>\n",
       "      <td>RJ141R1804003371</td>\n",
       "      <td>2018-04-11 15:47:51.647</td>\n",
       "      <td>2018-03-26</td>\n",
       "      <td>2019-03-31</td>\n",
       "      <td>58</td>\n",
       "      <td>NaN</td>\n",
       "      <td>1612007479</td>\n",
       "      <td>RJ</td>\n",
       "      <td>141</td>\n",
       "    </tr>\n",
       "  </tbody>\n",
       "</table>\n",
       "</div>"
      ],
      "text/plain": [
       "            Regn No Tax Mode Payment Mode  Tax Amt  Tax Fine  \\\n",
       "7699575  GJ06AX5483        Y            M    13527       399   \n",
       "\n",
       "                  Rcpt No                  Rcpt Dt    Tax From    Tax Upto  \\\n",
       "7699575  RJ141R1804003371  2018-04-11 15:47:51.647  2018-03-26  2019-03-31   \n",
       "\n",
       "         Pur Cd Flag Collected By State Cd  Off Cd  \n",
       "7699575      58  NaN   1612007479       RJ     141  "
      ]
     },
     "execution_count": 85,
     "metadata": {},
     "output_type": "execute_result"
    }
   ],
   "source": [
    "vt_tax[vt_tax['Regn No']=='GJ06AX5483']"
   ]
  },
  {
   "cell_type": "code",
   "execution_count": 371,
   "metadata": {},
   "outputs": [
    {
     "data": {
      "text/plain": [
       "Index(['Number of Records', 'ac_fitted', 'audio_fitted', 'cubic_cap',\n",
       "       'distance_run_in_quarter', 'domain_cd', 'fin_yr_sale_amt', 'floor_area',\n",
       "       'fuel', 'gcw', 'height', 'hp', 'imported_vch', 'ld_wt', 'length',\n",
       "       'no_adv_units', 'no_cyl', 'no_of_trips', 'off_cd', 'op_dt',\n",
       "       'other_criteria', 'pmt_catg', 'pmt_type', 'purchase_dt', 'rcpt_no',\n",
       "       'regn_no', 'regn_type', 'route_class', 'route_length', 'sale_amt',\n",
       "       'seat_cap', 'service_type', 'sleeper_cap', 'stand_cap', 'state_cd',\n",
       "       'unld_wt', 'vch_catg', 'vch_purchase_as', 'vh_class', 'video_fitted',\n",
       "       'wheelbase', 'width'],\n",
       "      dtype='object')"
      ]
     },
     "execution_count": 371,
     "metadata": {},
     "output_type": "execute_result"
    }
   ],
   "source": [
    "vt_tax_based_on.columns"
   ]
  }
 ],
 "metadata": {
  "kernelspec": {
   "display_name": "Python 3",
   "language": "python",
   "name": "python3"
  },
  "language_info": {
   "codemirror_mode": {
    "name": "ipython",
    "version": 3
   },
   "file_extension": ".py",
   "mimetype": "text/x-python",
   "name": "python",
   "nbconvert_exporter": "python",
   "pygments_lexer": "ipython3",
   "version": "3.7.6"
  }
 },
 "nbformat": 4,
 "nbformat_minor": 4
}
