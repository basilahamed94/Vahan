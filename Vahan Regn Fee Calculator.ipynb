{
 "cells": [
  {
   "cell_type": "code",
   "execution_count": 82,
   "metadata": {},
   "outputs": [],
   "source": [
    "import pandas as pd\n",
    "import re\n",
    "from sqlalchemy import create_engine\n",
    "from datetime import datetime , timedelta\n",
    "from dateutil.relativedelta import relativedelta"
   ]
  },
  {
   "cell_type": "code",
   "execution_count": 2,
   "metadata": {},
   "outputs": [],
   "source": [
    "path = 'D:/AS/'\n",
    "state = 'AS'"
   ]
  },
  {
   "cell_type": "code",
   "execution_count": 4,
   "metadata": {},
   "outputs": [],
   "source": [
    "vt_owner = pd.read_csv(path+'/vt_owner.csv')\n",
    "vt_owner = vt_owner[vt_owner['State Cd']==state]"
   ]
  },
  {
   "cell_type": "code",
   "execution_count": 142,
   "metadata": {},
   "outputs": [],
   "source": [
    "vt_fee = pd.read_csv(path+'/vt_fee.csv')\n",
    "vt_fee = vt_fee[vt_fee['Pur Cd']==1]\n",
    "vt_fee_1 = vt_fee[vt_fee['Off Cd']==1]\n",
    "vt_fee_1.reset_index(drop=True, inplace=True)"
   ]
  },
  {
   "cell_type": "code",
   "execution_count": 145,
   "metadata": {},
   "outputs": [
    {
     "name": "stderr",
     "output_type": "stream",
     "text": [
      "C:\\Users\\CDMA\\anaconda3\\lib\\site-packages\\ipykernel_launcher.py:1: SettingWithCopyWarning: \n",
      "A value is trying to be set on a copy of a slice from a DataFrame.\n",
      "Try using .loc[row_indexer,col_indexer] = value instead\n",
      "\n",
      "See the caveats in the documentation: https://pandas.pydata.org/pandas-docs/stable/user_guide/indexing.html#returning-a-view-versus-a-copy\n",
      "  \"\"\"Entry point for launching an IPython kernel.\n"
     ]
    }
   ],
   "source": [
    "vt_fee_1['Rcpt Dt2'] = vt_fee_1.loc[:,'Rcpt Dt'].apply(lambda x: datetime.strptime(x[:11], '%d-%b-%Y'))"
   ]
  },
  {
   "cell_type": "code",
   "execution_count": 149,
   "metadata": {},
   "outputs": [],
   "source": [
    "df1 = vt_fee_1[vt_fee_1['Rcpt Dt2'] > dt]\n",
    "df2 = vt_fee_1[vt_fee_1['Rcpt Dt2'] < dt]\n",
    "#vt_fee_1 = pd.concat([df1,df2])\n",
    "vt_fee_1 = df1"
   ]
  },
  {
   "cell_type": "code",
   "execution_count": 110,
   "metadata": {},
   "outputs": [
    {
     "data": {
      "text/html": [
       "<div>\n",
       "<style scoped>\n",
       "    .dataframe tbody tr th:only-of-type {\n",
       "        vertical-align: middle;\n",
       "    }\n",
       "\n",
       "    .dataframe tbody tr th {\n",
       "        vertical-align: top;\n",
       "    }\n",
       "\n",
       "    .dataframe thead th {\n",
       "        text-align: right;\n",
       "    }\n",
       "</style>\n",
       "<table border=\"1\" class=\"dataframe\">\n",
       "  <thead>\n",
       "    <tr style=\"text-align: right;\">\n",
       "      <th></th>\n",
       "      <th>pur_cd</th>\n",
       "      <th>fees</th>\n",
       "      <th>vh_class</th>\n",
       "      <th>service_charge</th>\n",
       "      <th>state_cd</th>\n",
       "    </tr>\n",
       "  </thead>\n",
       "  <tbody>\n",
       "    <tr>\n",
       "      <th>0</th>\n",
       "      <td>7</td>\n",
       "      <td>0</td>\n",
       "      <td>0</td>\n",
       "      <td>0</td>\n",
       "      <td>PY</td>\n",
       "    </tr>\n",
       "    <tr>\n",
       "      <th>1</th>\n",
       "      <td>2</td>\n",
       "      <td>300</td>\n",
       "      <td>57</td>\n",
       "      <td>0</td>\n",
       "      <td>DL</td>\n",
       "    </tr>\n",
       "    <tr>\n",
       "      <th>2</th>\n",
       "      <td>15</td>\n",
       "      <td>300</td>\n",
       "      <td>57</td>\n",
       "      <td>0</td>\n",
       "      <td>DL</td>\n",
       "    </tr>\n",
       "    <tr>\n",
       "      <th>3</th>\n",
       "      <td>6</td>\n",
       "      <td>500</td>\n",
       "      <td>57</td>\n",
       "      <td>0</td>\n",
       "      <td>DL</td>\n",
       "    </tr>\n",
       "    <tr>\n",
       "      <th>4</th>\n",
       "      <td>3</td>\n",
       "      <td>150</td>\n",
       "      <td>57</td>\n",
       "      <td>0</td>\n",
       "      <td>DL</td>\n",
       "    </tr>\n",
       "  </tbody>\n",
       "</table>\n",
       "</div>"
      ],
      "text/plain": [
       "   pur_cd  fees  vh_class  service_charge state_cd\n",
       "0       7     0         0               0       PY\n",
       "1       2   300        57               0       DL\n",
       "2      15   300        57               0       DL\n",
       "3       6   500        57               0       DL\n",
       "4       3   150        57               0       DL"
      ]
     },
     "execution_count": 110,
     "metadata": {},
     "output_type": "execute_result"
    }
   ],
   "source": [
    "vm_feemast = pd.read_csv(r'C:\\Users\\CDMA\\Downloads\\vm_feemast.csv')\n",
    "vm_feemast=vm_feemast[vm_feemast['pur_cd']==1]\n",
    "vm_feemast=vm_feemast[vm_feemast['state_cd']==state]\n",
    "vm_feemast.head()"
   ]
  },
  {
   "cell_type": "code",
   "execution_count": 29,
   "metadata": {},
   "outputs": [],
   "source": [
    "vm_feemast_catg = pd.read_csv(r'C:\\Users\\CDMA\\Downloads\\vm_feemast_catg.csv')\n",
    "vm_feemast_catg=vm_feemast_catg[vm_feemast_catg['pur_cd']==1]\n",
    "vm_feemast_catg=vm_feemast_catg[vm_feemast_catg['state_cd']=='AS']\n",
    "vm_feemast_catg['vch_catg']=vm_feemast_catg['vch_catg'].str.strip()\n",
    "vm_feemast_catg.head()"
   ]
  },
  {
   "cell_type": "code",
   "execution_count": 116,
   "metadata": {},
   "outputs": [
    {
     "data": {
      "text/html": [
       "<div>\n",
       "<style scoped>\n",
       "    .dataframe tbody tr th:only-of-type {\n",
       "        vertical-align: middle;\n",
       "    }\n",
       "\n",
       "    .dataframe tbody tr th {\n",
       "        vertical-align: top;\n",
       "    }\n",
       "\n",
       "    .dataframe thead th {\n",
       "        text-align: right;\n",
       "    }\n",
       "</style>\n",
       "<table border=\"1\" class=\"dataframe\">\n",
       "  <thead>\n",
       "    <tr style=\"text-align: right;\">\n",
       "      <th></th>\n",
       "      <th>Number of Records</th>\n",
       "      <th>condition_formula</th>\n",
       "      <th>day_from</th>\n",
       "      <th>day_upto</th>\n",
       "      <th>fine_amt</th>\n",
       "      <th>from_dt</th>\n",
       "      <th>grace_days</th>\n",
       "      <th>grace_unit_days</th>\n",
       "      <th>is_percent_rate</th>\n",
       "      <th>max_amount</th>\n",
       "      <th>penalty_mode</th>\n",
       "      <th>per_unit</th>\n",
       "      <th>pur_cd</th>\n",
       "      <th>sr_no</th>\n",
       "      <th>state_cd</th>\n",
       "      <th>upto_dt</th>\n",
       "    </tr>\n",
       "  </thead>\n",
       "  <tbody>\n",
       "    <tr>\n",
       "      <th>0</th>\n",
       "      <td>1</td>\n",
       "      <td>True</td>\n",
       "      <td>0</td>\n",
       "      <td>7</td>\n",
       "      <td>35</td>\n",
       "      <td>1900-01-01</td>\n",
       "      <td>7</td>\n",
       "      <td>0</td>\n",
       "      <td>False</td>\n",
       "      <td>0</td>\n",
       "      <td>F</td>\n",
       "      <td>0</td>\n",
       "      <td>1</td>\n",
       "      <td>1</td>\n",
       "      <td>AS</td>\n",
       "      <td>2100-01-01</td>\n",
       "    </tr>\n",
       "    <tr>\n",
       "      <th>1</th>\n",
       "      <td>1</td>\n",
       "      <td>True</td>\n",
       "      <td>1</td>\n",
       "      <td>9999</td>\n",
       "      <td>5</td>\n",
       "      <td>1900-01-01</td>\n",
       "      <td>7</td>\n",
       "      <td>0</td>\n",
       "      <td>False</td>\n",
       "      <td>0</td>\n",
       "      <td>D</td>\n",
       "      <td>1</td>\n",
       "      <td>1</td>\n",
       "      <td>2</td>\n",
       "      <td>AS</td>\n",
       "      <td>2100-01-01</td>\n",
       "    </tr>\n",
       "    <tr>\n",
       "      <th>2</th>\n",
       "      <td>1</td>\n",
       "      <td>True</td>\n",
       "      <td>1</td>\n",
       "      <td>9999</td>\n",
       "      <td>50</td>\n",
       "      <td>2016-12-29</td>\n",
       "      <td>0</td>\n",
       "      <td>0</td>\n",
       "      <td>False</td>\n",
       "      <td>0</td>\n",
       "      <td>D</td>\n",
       "      <td>1</td>\n",
       "      <td>2</td>\n",
       "      <td>1</td>\n",
       "      <td>AS</td>\n",
       "      <td>2100-01-01</td>\n",
       "    </tr>\n",
       "  </tbody>\n",
       "</table>\n",
       "</div>"
      ],
      "text/plain": [
       "   Number of Records  condition_formula  day_from  day_upto  fine_amt  \\\n",
       "0                  1               True         0         7        35   \n",
       "1                  1               True         1      9999         5   \n",
       "2                  1               True         1      9999        50   \n",
       "\n",
       "     from_dt  grace_days  grace_unit_days  is_percent_rate  max_amount  \\\n",
       "0 1900-01-01           7                0            False           0   \n",
       "1 1900-01-01           7                0            False           0   \n",
       "2 2016-12-29           0                0            False           0   \n",
       "\n",
       "  penalty_mode  per_unit  pur_cd  sr_no state_cd    upto_dt  \n",
       "0            F         0       1      1       AS 2100-01-01  \n",
       "1            D         1       1      2       AS 2100-01-01  \n",
       "2            D         1       2      1       AS 2100-01-01  "
      ]
     },
     "execution_count": 116,
     "metadata": {},
     "output_type": "execute_result"
    }
   ],
   "source": [
    "vm_feemast_penalty = pd.read_csv(r'C:\\Users\\CDMA\\Downloads\\vm_feemast_penalty.csv')\n",
    "vm_feemast_penalty['from_dt'] = vm_feemast_penalty['from_dt'].astype('datetime64[ns]')\n",
    "vm_feemast_penalty['upto_dt'] = vm_feemast_penalty['upto_dt'].astype('datetime64[ns]')\n",
    "vm_feemast_penalty.reset_index(drop=True, inplace=True)\n",
    "vm_feemast_penalty.head()"
   ]
  },
  {
   "cell_type": "code",
   "execution_count": 58,
   "metadata": {},
   "outputs": [],
   "source": [
    "conn_string = 'postgresql://{user}:{pwd}@{host}:{port}/{db}'.format(user='postgres',\n",
    "                                                                     pwd='123',\n",
    "                                                                     host='localhost',\n",
    "                                                                     port='5432',\n",
    "                                                                     db='postgres'\n",
    "                                                                     )\n",
    "engine = create_engine(conn_string, paramstyle='format', isolation_level=\"READ UNCOMMITTED\")"
   ]
  },
  {
   "cell_type": "code",
   "execution_count": 164,
   "metadata": {},
   "outputs": [
    {
     "name": "stdout",
     "output_type": "stream",
     "text": [
      "No Info in vt_owner AS01EF1565 2019-09-28 00:00:00\n",
      "No Info in vt_owner NEW 2019-10-01 00:00:00\n",
      "No Info in vt_owner AS01LC6515 2019-09-20 00:00:00\n",
      "Matched AS01EE4198 2019-09-10 2019-08-20 1 2WN true [] 50 50 2019-09-03 00:00:00\n",
      "No Info in vt_owner AS01EF2073 2019-09-30 00:00:00\n",
      "No Info in vt_owner NEW 2019-09-28 00:00:00\n",
      "No Info in vt_owner NEW 2019-09-28 00:00:00\n",
      "Matched AS01EE4270 2019-09-03 2019-09-03 1 2WN true [] 50 50 2019-09-03 00:00:00\n",
      "No Info in vt_owner AS01EF2037 2019-09-30 00:00:00\n",
      "Matched AS01EE4236 2019-09-03 2019-09-03 1 2WN true [] 50 50 2019-09-03 00:00:00\n",
      "No Info in vt_owner AS01EF1498 2019-09-28 00:00:00\n",
      "No Info in vt_owner AS01EF1509 2019-09-28 00:00:00\n",
      "No Info in vt_owner AS01EF1513 2019-09-28 00:00:00\n",
      "Matched AS01EE6005 2019-09-03 2019-09-03 7 LMV true [] 600 600 2019-09-10 00:00:00\n",
      "Matched AS01EE4165 2019-09-10 2019-09-10 1 2WN true [] 50 50 2019-09-03 00:00:00\n",
      "No Info in vt_owner AS01EF1595 2019-09-28 00:00:00\n",
      "No Info in vt_owner AS01EE9048 2019-09-20 00:00:00\n",
      "No Info in vt_owner AS01EF2147 2019-09-30 00:00:00\n",
      "Matched AS01EE5725 2019-09-03 2019-09-03 1 2WN true [] 50 50 2019-09-09 00:00:00\n",
      "Matched AS01EE5722 2019-09-09 2019-09-09 1 2WN true [] 50 50 2019-09-09 00:00:00\n",
      "Matched AS01EE5717 2019-09-09 2019-09-09 7 LMV true [] 600 600 2019-09-09 00:00:00\n",
      "Matched AS01EE5687 2019-09-09 2019-09-09 7 LMV true [] 600 600 2019-09-09 00:00:00\n",
      "Matched AS01EE3975 2019-09-09 2019-09-09 7 LMV true [] 600 600 2019-09-02 00:00:00\n",
      "Matched AS01EE9116 2019-09-02 2019-09-02 7 LMV true [] 600 600 2019-09-20 00:00:00\n",
      "Days Delayed 3 Fine 35\n",
      "Matched AS01EE5936 2019-09-20 2019-09-17 1 2WN true [] 50 50 2019-09-10 00:00:00\n",
      "Days Delayed 8 Fine 40\n",
      "Matched AS01EE5727 2019-09-10 2019-09-02 7 LMV true [] 600 600 2019-09-09 00:00:00\n",
      "Matched AS01EE9092 2019-09-09 2019-09-09 7 LMV true [] 600 600 2019-09-20 00:00:00\n",
      "Matched AS01EE4330 2019-09-20 2019-09-20 1 2WN true [] 50 50 2019-09-03 00:00:00\n",
      "No Info in vt_owner AS01EE9103 2019-09-20 00:00:00\n",
      "Matched AS01EE8510 2019-09-03 2019-09-03 1 2WN true [] 50 50 2019-09-19 00:00:00\n",
      "Matched AS01EE4331 2019-09-19 2019-09-19 1 2WN true [] 50 50 2019-09-03 00:00:00\n",
      "Matched AS01EE5942 2019-09-03 2019-09-03 1 2WN true [] 50 50 2019-09-10 00:00:00\n",
      "Days Delayed 8 Fine 40\n",
      "Matched AS01EE6411 2019-09-10 2019-09-02 7 LMV true [] 600 600 2019-09-11 00:00:00\n",
      "No Info in vt_owner AS01EF2479 2019-10-01 00:00:00\n",
      "Matched AS01EE5947 2019-09-11 2019-09-11 1 2WN true [] 50 50 2019-09-10 00:00:00\n",
      "Days Delayed 8 Fine 40\n",
      "Matched AS01EE6687 2019-09-10 2019-09-02 7 LMV true [] 600 600 2019-09-12 00:00:00\n",
      "Matched AS01EE6963 2019-09-12 2019-09-12 1 2WN true [] 50 50 2019-09-13 00:00:00\n",
      "No Info in vt_owner AS01EE9663 2019-09-23 00:00:00\n",
      "Matched AS01EE4055 2019-09-13 2019-09-13 1 2WN true [] 50 50 2019-09-02 00:00:00\n",
      "No Info in vt_owner AS01EF2496 2019-10-01 00:00:00\n",
      "Matched AS01EE4053 2019-09-02 2019-09-02 1 2WN true [] 50 50 2019-09-02 00:00:00\n",
      "Matched AS01EE4028 2019-09-02 2019-09-02 1 2WN true [] 50 50 2019-09-02 00:00:00\n",
      "Matched AS01EE5961 2019-09-02 2019-09-02 1 2WN true [] 50 50 2019-09-10 00:00:00\n",
      "Days Delayed 4 Fine 35\n",
      "Matched AS01EE6001 2019-09-10 2019-09-06 7 LMV true [] 600 600 2019-09-10 00:00:00\n",
      "Matched AS01EE4058 2019-09-10 2019-09-10 1 2WN true [] 50 50 2019-09-02 00:00:00\n",
      "Matched AS01EE5952 2019-09-02 2019-09-02 1 2WN true [] 50 50 2019-09-10 00:00:00\n",
      "Days Delayed 17 Fine 85\n",
      "Matched AS01EE6406 2019-09-10 2019-08-24 1 2WN true [] 50 50 2019-09-11 00:00:00\n",
      "No Info in vt_owner AS01EF3045 2019-10-02 00:00:00\n",
      "Matched AS01EE4269 2019-09-11 2019-09-11 1 2WN true [] 50 50 2019-09-03 00:00:00\n",
      "Matched AS01EE5943 2019-09-03 2019-09-03 1 2WN true [] 50 50 2019-09-10 00:00:00\n",
      "Days Delayed 21 Fine 105\n"
     ]
    }
   ],
   "source": [
    "actual_fee = []\n",
    "for i in range(0,50):     \n",
    "    regn_no = vt_fee_1['Regn No'].to_list()[i] \n",
    "    \n",
    "    state_cd = vt_fee_1['State Cd'].to_list()[i]\n",
    "    fee_paid = vt_fee_1['Fees'].to_list()[i]\n",
    "    fine_paid = vt_fee_1['Fine'].to_list()[i]\n",
    "    rcpt_dt = datetime.strptime(vt_fee_1['Rcpt Dt'].to_list()[i][:11],'%d-%b-%Y')\n",
    "    \n",
    "    vt_owner_nw = vt_owner[vt_owner['Regn No']==regn_no]\n",
    "    #print(vt_owner_nw)\n",
    "    vh_class = vt_owner_nw['Vh Class'].to_list()\n",
    "    if len(vh_class)>0:\n",
    "        vh_class = vh_class[0]\n",
    "    else:\n",
    "        print('No Info in vt_owner',regn_no,rcpt_dt)\n",
    "        continue\n",
    "    vch_catg = vt_owner_nw['Vch Catg'].to_list()[0]\n",
    "    feemast_catg = vm_feemast_catg[vm_feemast_catg['vch_catg']==vch_catg]\n",
    "    cf_params = []\n",
    "    for k in re.split(r'[()\\*\\s]\\s*',cf):\n",
    "        if '<' in k and '>' in k:\n",
    "            cf_params.append(k[k.find('<'):(k.find('>')+1)])\n",
    "    cf_params = list(set(cf_params))\n",
    "    c_formula = feemast_catg['condition_formula'].to_list()[0]\n",
    "    for j in cf_params:\n",
    "        if j==94:\n",
    "            p_value = vt_fee_1[vt_fee_1['Regn No']==regn_no]['Off Cd'].to_list()[0]\n",
    "        elif j==38:\n",
    "            p_value = vch_catg\n",
    "        elif j ==3:\n",
    "            p_value = vh_class\n",
    "        elif j ==28:\n",
    "            p_value = vt_permit['pmt_catg'].to_list()[0]\n",
    "        elif j ==20:\n",
    "            p_value = vt_owner_nw['Owner Cd'].to_list()[0]\n",
    "        c_formula = c_formula.replace(str(m),str(p_value))\n",
    "    cf_result = pd.read_sql_query(repr('select '+c_formula)[1:-1],con=engine)\n",
    "    #print(cf_result)\n",
    "    cf_result = cf_result.loc[0,'bool']\n",
    "    if cf_result==True:\n",
    "        fee_act = feemast_catg['fees'].to_list()[0]\n",
    "    if fee_paid==fee_act:\n",
    "        print('Matched',regn_no,str(regn_dt)[:10],str(purchase_dt)[:10],vh_class,vch_catg,cf,cf_params,fee_paid,fee_act,rcpt_dt)\n",
    "    else:\n",
    "        print('Mismatch',regn_no,regn_dt,purchase_dt,vh_class,vch_catg,cf,cf_params,fee_paid,fee_act,rcpt_dt)\n",
    "    \n",
    "    purchase_dt = datetime.strptime(vt_owner_nw['Purchase Dt'].to_list()[0][:11],'%d-%b-%Y')\n",
    "    regn_dt = vt_owner_nw['Regn Dt'].to_list()[0]\n",
    "    delay =  relativedelta(regn_dt, purchase_dt)\n",
    "    delay = delay.years * 365 + delay.months * 30 + delay.days\n",
    "    if delay>0:\n",
    "        feemast_penalty = vm_feemast_penalty[(vm_feemast_penalty['state_cd']==state_cd) & (vm_feemast_penalty['from_dt'] < rcpt_dt) & (vm_feemast_penalty['upto_dt'] > rcpt_dt) & (vm_feemast_penalty['pur_cd']==1) & (vm_feemast_penalty['day_upto'] > delay) ]\n",
    "        if len(feemast_penalty)>1:\n",
    "            ds = min(feemast_penalty['day_upto'].to_list())\n",
    "            feemast_penalty = feemast_penalty[feemast_penalty['day_upto']==ds]\n",
    "        if feemast_penalty['penalty_mode'].to_list()[0]=='F':\n",
    "            rate = feemast_penalty['fine_amt'].to_list()[0]\n",
    "        else:\n",
    "            rate = feemast_penalty['fine_amt'].to_list()[0]* delay\n",
    "\n",
    "        print('Days Delayed',delay,'Fine',rate)\n",
    "\n",
    "\n",
    "\n"
   ]
  },
  {
   "cell_type": "code",
   "execution_count": 138,
   "metadata": {},
   "outputs": [],
   "source": []
  },
  {
   "cell_type": "code",
   "execution_count": 120,
   "metadata": {},
   "outputs": [
    {
     "data": {
      "text/plain": [
       "Series([], Name: Purchase Dt, dtype: object)"
      ]
     },
     "execution_count": 120,
     "metadata": {},
     "output_type": "execute_result"
    }
   ],
   "source": [
    "vt_owner[vt_owner['Regn No']=='AS01EF1565']['Purchase Dt']"
   ]
  },
  {
   "cell_type": "code",
   "execution_count": 108,
   "metadata": {},
   "outputs": [],
   "source": [
    "vt_owner['Regn Dt'] = vt_owner.loc[:,'Regn Dt'].apply(lambda x: datetime.strptime(x[:11], '%d-%b-%Y'))"
   ]
  },
  {
   "cell_type": "code",
   "execution_count": 105,
   "metadata": {},
   "outputs": [
    {
     "data": {
      "text/plain": [
       "2218843    LMV\n",
       "Name: Vch Catg, dtype: object"
      ]
     },
     "execution_count": 105,
     "metadata": {},
     "output_type": "execute_result"
    }
   ],
   "source": [
    "vt_owner[vt_owner['Regn No']=='AS01EE6081']['Vch Catg']"
   ]
  },
  {
   "cell_type": "code",
   "execution_count": 79,
   "metadata": {},
   "outputs": [
    {
     "data": {
      "text/html": [
       "<div>\n",
       "<style scoped>\n",
       "    .dataframe tbody tr th:only-of-type {\n",
       "        vertical-align: middle;\n",
       "    }\n",
       "\n",
       "    .dataframe tbody tr th {\n",
       "        vertical-align: top;\n",
       "    }\n",
       "\n",
       "    .dataframe thead th {\n",
       "        text-align: right;\n",
       "    }\n",
       "</style>\n",
       "<table border=\"1\" class=\"dataframe\">\n",
       "  <thead>\n",
       "    <tr style=\"text-align: right;\">\n",
       "      <th></th>\n",
       "      <th>Number of Records</th>\n",
       "      <th>Collected By</th>\n",
       "      <th>Fees</th>\n",
       "      <th>Fine</th>\n",
       "      <th>Flag</th>\n",
       "      <th>Off Cd</th>\n",
       "      <th>Payment Mode</th>\n",
       "      <th>Pur Cd</th>\n",
       "      <th>Rcpt Dt</th>\n",
       "      <th>Rcpt No</th>\n",
       "      <th>Regn No</th>\n",
       "      <th>State Cd</th>\n",
       "    </tr>\n",
       "  </thead>\n",
       "  <tbody>\n",
       "    <tr>\n",
       "      <th>8396189</th>\n",
       "      <td>1</td>\n",
       "      <td>1702029843</td>\n",
       "      <td>600</td>\n",
       "      <td>0</td>\n",
       "      <td>NaN</td>\n",
       "      <td>1</td>\n",
       "      <td>I</td>\n",
       "      <td>1</td>\n",
       "      <td>11-Sep-2019 13:17:49</td>\n",
       "      <td>AS1D190900002500</td>\n",
       "      <td>AS01EE6081</td>\n",
       "      <td>AS</td>\n",
       "    </tr>\n",
       "  </tbody>\n",
       "</table>\n",
       "</div>"
      ],
      "text/plain": [
       "         Number of Records Collected By  Fees  Fine  Flag  Off Cd  \\\n",
       "8396189                  1   1702029843   600     0   NaN       1   \n",
       "\n",
       "        Payment Mode  Pur Cd               Rcpt Dt           Rcpt No  \\\n",
       "8396189            I       1  11-Sep-2019 13:17:49  AS1D190900002500   \n",
       "\n",
       "            Regn No State Cd  \n",
       "8396189  AS01EE6081       AS  "
      ]
     },
     "execution_count": 79,
     "metadata": {},
     "output_type": "execute_result"
    }
   ],
   "source": [
    "vt_fee_1[vt_fee_1['Regn No']=='AS01EE6081'] "
   ]
  },
  {
   "cell_type": "code",
   "execution_count": 78,
   "metadata": {},
   "outputs": [
    {
     "data": {
      "text/plain": [
       "2215712    02-Sep-2019\n",
       "Name: Regn Dt, dtype: object"
      ]
     },
     "execution_count": 78,
     "metadata": {},
     "output_type": "execute_result"
    }
   ],
   "source": [
    "vt_owner[vt_owner['Regn No']=='AS01EE3643']['Regn Dt']"
   ]
  },
  {
   "cell_type": "code",
   "execution_count": 87,
   "metadata": {},
   "outputs": [],
   "source": [
    "dt = datetime.strptime('01-Sep-2019', '%d-%b-%Y')\n",
    "#vt_fee_1.dtypes"
   ]
  },
  {
   "cell_type": "code",
   "execution_count": 102,
   "metadata": {},
   "outputs": [],
   "source": [
    "df = pd.read_csv"
   ]
  },
  {
   "cell_type": "code",
   "execution_count": 103,
   "metadata": {},
   "outputs": [],
   "source": [
    "vt_fee_2 = vt_fee_1\n",
    "vt_fee_1 = fee_df"
   ]
  },
  {
   "cell_type": "code",
   "execution_count": 134,
   "metadata": {},
   "outputs": [
    {
     "data": {
      "text/plain": [
       "(10, 13)"
      ]
     },
     "execution_count": 134,
     "metadata": {},
     "output_type": "execute_result"
    }
   ],
   "source": [
    "vt_fee_1.shape"
   ]
  },
  {
   "cell_type": "code",
   "execution_count": 166,
   "metadata": {},
   "outputs": [],
   "source": [
    "df= pd.read_csv(r'C:\\Users\\CDMA\\Downloads\\DOB DISTINCT VALUES.csv')"
   ]
  },
  {
   "cell_type": "code",
   "execution_count": 168,
   "metadata": {},
   "outputs": [
    {
     "data": {
      "text/plain": [
       "Index(['01/06/1987'], dtype='object')"
      ]
     },
     "execution_count": 168,
     "metadata": {},
     "output_type": "execute_result"
    }
   ],
   "source": [
    "df.columns"
   ]
  },
  {
   "cell_type": "code",
   "execution_count": null,
   "metadata": {},
   "outputs": [],
   "source": [
    "import re"
   ]
  },
  {
   "cell_type": "code",
   "execution_count": null,
   "metadata": {},
   "outputs": [],
   "source": [
    "for i in df['01/06/1987']:\n",
    "re.findall(i,''"
   ]
  }
 ],
 "metadata": {
  "kernelspec": {
   "display_name": "Python 3",
   "language": "python",
   "name": "python3"
  },
  "language_info": {
   "codemirror_mode": {
    "name": "ipython",
    "version": 3
   },
   "file_extension": ".py",
   "mimetype": "text/x-python",
   "name": "python",
   "nbconvert_exporter": "python",
   "pygments_lexer": "ipython3",
   "version": "3.7.6"
  }
 },
 "nbformat": 4,
 "nbformat_minor": 4
}
