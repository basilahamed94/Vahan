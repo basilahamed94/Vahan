{
 "cells": [
  {
   "cell_type": "code",
   "execution_count": 1,
   "metadata": {},
   "outputs": [],
   "source": [
    "import pandas as pd\n",
    "import math\n",
    "from dateutil.relativedelta import relativedelta\n",
    "from datetime import datetime\n",
    "import re\n",
    "import copy"
   ]
  },
  {
   "cell_type": "code",
   "execution_count": 2,
   "metadata": {},
   "outputs": [],
   "source": [
    "slab_fields = pd.read_excel(r'C:\\Users\\CDMA\\Downloads\\slab_fields_prep_v2.xlsx',sheet_name = 'slab_fields_prep')"
   ]
  },
  {
   "cell_type": "code",
   "execution_count": 3,
   "metadata": {},
   "outputs": [],
   "source": [
    "slab_new = pd.read_csv(r'C:\\Users\\CDMA\\Downloads\\vm_tax_slab_new_transformed.csv')\n",
    "slab_new = slab_new[slab_new['state_cd']=='AS']"
   ]
  },
  {
   "cell_type": "code",
   "execution_count": 1,
   "metadata": {},
   "outputs": [
    {
     "ename": "NameError",
     "evalue": "name 'slab_new' is not defined",
     "output_type": "error",
     "traceback": [
      "\u001b[1;31m---------------------------------------------------------------------------\u001b[0m",
      "\u001b[1;31mNameError\u001b[0m                                 Traceback (most recent call last)",
      "\u001b[1;32m<ipython-input-1-e5d70d7268f7>\u001b[0m in \u001b[0;36m<module>\u001b[1;34m\u001b[0m\n\u001b[1;32m----> 1\u001b[1;33m \u001b[0mslab_new\u001b[0m\u001b[1;33m[\u001b[0m\u001b[1;34m'date_from'\u001b[0m\u001b[1;33m]\u001b[0m \u001b[1;33m=\u001b[0m \u001b[0mslab_new\u001b[0m\u001b[1;33m[\u001b[0m\u001b[1;34m'date_from'\u001b[0m\u001b[1;33m]\u001b[0m\u001b[1;33m.\u001b[0m\u001b[0mastype\u001b[0m\u001b[1;33m(\u001b[0m\u001b[1;34m'datetime64[ns]'\u001b[0m\u001b[1;33m)\u001b[0m\u001b[1;33m\u001b[0m\u001b[1;33m\u001b[0m\u001b[0m\n\u001b[0m\u001b[0;32m      2\u001b[0m \u001b[0mslab_new\u001b[0m\u001b[1;33m[\u001b[0m\u001b[1;34m'date_to'\u001b[0m\u001b[1;33m]\u001b[0m \u001b[1;33m=\u001b[0m \u001b[0mslab_new\u001b[0m\u001b[1;33m[\u001b[0m\u001b[1;34m'date_to'\u001b[0m\u001b[1;33m]\u001b[0m\u001b[1;33m.\u001b[0m\u001b[0mastype\u001b[0m\u001b[1;33m(\u001b[0m\u001b[1;34m'datetime64[ns]'\u001b[0m\u001b[1;33m)\u001b[0m\u001b[1;33m\u001b[0m\u001b[1;33m\u001b[0m\u001b[0m\n",
      "\u001b[1;31mNameError\u001b[0m: name 'slab_new' is not defined"
     ]
    }
   ],
   "source": [
    "slab_new['date_from'] = slab_new['date_from'].astype('datetime64[ns]')\n",
    "slab_new['date_to'] = slab_new['date_to'].astype('datetime64[ns]')"
   ]
  },
  {
   "cell_type": "code",
   "execution_count": 5,
   "metadata": {},
   "outputs": [],
   "source": [
    "slab_add_new = pd.read_csv(r'D:\\Jharkhand python\\vm_tax_slab_add_new.csv')"
   ]
  },
  {
   "cell_type": "code",
   "execution_count": 6,
   "metadata": {},
   "outputs": [
    {
     "ename": "FileNotFoundError",
     "evalue": "[Errno 2] File D:\\AS\\va_details.csv does not exist: 'D:\\\\AS\\\\va_details.csv'",
     "output_type": "error",
     "traceback": [
      "\u001b[1;31m---------------------------------------------------------------------------\u001b[0m",
      "\u001b[1;31mFileNotFoundError\u001b[0m                         Traceback (most recent call last)",
      "\u001b[1;32m<ipython-input-6-ad4626d0e893>\u001b[0m in \u001b[0;36m<module>\u001b[1;34m\u001b[0m\n\u001b[1;32m----> 1\u001b[1;33m \u001b[0mva_details\u001b[0m \u001b[1;33m=\u001b[0m \u001b[0mpd\u001b[0m\u001b[1;33m.\u001b[0m\u001b[0mread_csv\u001b[0m\u001b[1;33m(\u001b[0m\u001b[1;34mr'D:\\AS\\va_details.csv'\u001b[0m\u001b[1;33m)\u001b[0m\u001b[1;33m\u001b[0m\u001b[1;33m\u001b[0m\u001b[0m\n\u001b[0m",
      "\u001b[1;32m~\\anaconda3\\lib\\site-packages\\pandas\\io\\parsers.py\u001b[0m in \u001b[0;36mparser_f\u001b[1;34m(filepath_or_buffer, sep, delimiter, header, names, index_col, usecols, squeeze, prefix, mangle_dupe_cols, dtype, engine, converters, true_values, false_values, skipinitialspace, skiprows, skipfooter, nrows, na_values, keep_default_na, na_filter, verbose, skip_blank_lines, parse_dates, infer_datetime_format, keep_date_col, date_parser, dayfirst, cache_dates, iterator, chunksize, compression, thousands, decimal, lineterminator, quotechar, quoting, doublequote, escapechar, comment, encoding, dialect, error_bad_lines, warn_bad_lines, delim_whitespace, low_memory, memory_map, float_precision)\u001b[0m\n\u001b[0;32m    674\u001b[0m         )\n\u001b[0;32m    675\u001b[0m \u001b[1;33m\u001b[0m\u001b[0m\n\u001b[1;32m--> 676\u001b[1;33m         \u001b[1;32mreturn\u001b[0m \u001b[0m_read\u001b[0m\u001b[1;33m(\u001b[0m\u001b[0mfilepath_or_buffer\u001b[0m\u001b[1;33m,\u001b[0m \u001b[0mkwds\u001b[0m\u001b[1;33m)\u001b[0m\u001b[1;33m\u001b[0m\u001b[1;33m\u001b[0m\u001b[0m\n\u001b[0m\u001b[0;32m    677\u001b[0m \u001b[1;33m\u001b[0m\u001b[0m\n\u001b[0;32m    678\u001b[0m     \u001b[0mparser_f\u001b[0m\u001b[1;33m.\u001b[0m\u001b[0m__name__\u001b[0m \u001b[1;33m=\u001b[0m \u001b[0mname\u001b[0m\u001b[1;33m\u001b[0m\u001b[1;33m\u001b[0m\u001b[0m\n",
      "\u001b[1;32m~\\anaconda3\\lib\\site-packages\\pandas\\io\\parsers.py\u001b[0m in \u001b[0;36m_read\u001b[1;34m(filepath_or_buffer, kwds)\u001b[0m\n\u001b[0;32m    446\u001b[0m \u001b[1;33m\u001b[0m\u001b[0m\n\u001b[0;32m    447\u001b[0m     \u001b[1;31m# Create the parser.\u001b[0m\u001b[1;33m\u001b[0m\u001b[1;33m\u001b[0m\u001b[1;33m\u001b[0m\u001b[0m\n\u001b[1;32m--> 448\u001b[1;33m     \u001b[0mparser\u001b[0m \u001b[1;33m=\u001b[0m \u001b[0mTextFileReader\u001b[0m\u001b[1;33m(\u001b[0m\u001b[0mfp_or_buf\u001b[0m\u001b[1;33m,\u001b[0m \u001b[1;33m**\u001b[0m\u001b[0mkwds\u001b[0m\u001b[1;33m)\u001b[0m\u001b[1;33m\u001b[0m\u001b[1;33m\u001b[0m\u001b[0m\n\u001b[0m\u001b[0;32m    449\u001b[0m \u001b[1;33m\u001b[0m\u001b[0m\n\u001b[0;32m    450\u001b[0m     \u001b[1;32mif\u001b[0m \u001b[0mchunksize\u001b[0m \u001b[1;32mor\u001b[0m \u001b[0miterator\u001b[0m\u001b[1;33m:\u001b[0m\u001b[1;33m\u001b[0m\u001b[1;33m\u001b[0m\u001b[0m\n",
      "\u001b[1;32m~\\anaconda3\\lib\\site-packages\\pandas\\io\\parsers.py\u001b[0m in \u001b[0;36m__init__\u001b[1;34m(self, f, engine, **kwds)\u001b[0m\n\u001b[0;32m    878\u001b[0m             \u001b[0mself\u001b[0m\u001b[1;33m.\u001b[0m\u001b[0moptions\u001b[0m\u001b[1;33m[\u001b[0m\u001b[1;34m\"has_index_names\"\u001b[0m\u001b[1;33m]\u001b[0m \u001b[1;33m=\u001b[0m \u001b[0mkwds\u001b[0m\u001b[1;33m[\u001b[0m\u001b[1;34m\"has_index_names\"\u001b[0m\u001b[1;33m]\u001b[0m\u001b[1;33m\u001b[0m\u001b[1;33m\u001b[0m\u001b[0m\n\u001b[0;32m    879\u001b[0m \u001b[1;33m\u001b[0m\u001b[0m\n\u001b[1;32m--> 880\u001b[1;33m         \u001b[0mself\u001b[0m\u001b[1;33m.\u001b[0m\u001b[0m_make_engine\u001b[0m\u001b[1;33m(\u001b[0m\u001b[0mself\u001b[0m\u001b[1;33m.\u001b[0m\u001b[0mengine\u001b[0m\u001b[1;33m)\u001b[0m\u001b[1;33m\u001b[0m\u001b[1;33m\u001b[0m\u001b[0m\n\u001b[0m\u001b[0;32m    881\u001b[0m \u001b[1;33m\u001b[0m\u001b[0m\n\u001b[0;32m    882\u001b[0m     \u001b[1;32mdef\u001b[0m \u001b[0mclose\u001b[0m\u001b[1;33m(\u001b[0m\u001b[0mself\u001b[0m\u001b[1;33m)\u001b[0m\u001b[1;33m:\u001b[0m\u001b[1;33m\u001b[0m\u001b[1;33m\u001b[0m\u001b[0m\n",
      "\u001b[1;32m~\\anaconda3\\lib\\site-packages\\pandas\\io\\parsers.py\u001b[0m in \u001b[0;36m_make_engine\u001b[1;34m(self, engine)\u001b[0m\n\u001b[0;32m   1112\u001b[0m     \u001b[1;32mdef\u001b[0m \u001b[0m_make_engine\u001b[0m\u001b[1;33m(\u001b[0m\u001b[0mself\u001b[0m\u001b[1;33m,\u001b[0m \u001b[0mengine\u001b[0m\u001b[1;33m=\u001b[0m\u001b[1;34m\"c\"\u001b[0m\u001b[1;33m)\u001b[0m\u001b[1;33m:\u001b[0m\u001b[1;33m\u001b[0m\u001b[1;33m\u001b[0m\u001b[0m\n\u001b[0;32m   1113\u001b[0m         \u001b[1;32mif\u001b[0m \u001b[0mengine\u001b[0m \u001b[1;33m==\u001b[0m \u001b[1;34m\"c\"\u001b[0m\u001b[1;33m:\u001b[0m\u001b[1;33m\u001b[0m\u001b[1;33m\u001b[0m\u001b[0m\n\u001b[1;32m-> 1114\u001b[1;33m             \u001b[0mself\u001b[0m\u001b[1;33m.\u001b[0m\u001b[0m_engine\u001b[0m \u001b[1;33m=\u001b[0m \u001b[0mCParserWrapper\u001b[0m\u001b[1;33m(\u001b[0m\u001b[0mself\u001b[0m\u001b[1;33m.\u001b[0m\u001b[0mf\u001b[0m\u001b[1;33m,\u001b[0m \u001b[1;33m**\u001b[0m\u001b[0mself\u001b[0m\u001b[1;33m.\u001b[0m\u001b[0moptions\u001b[0m\u001b[1;33m)\u001b[0m\u001b[1;33m\u001b[0m\u001b[1;33m\u001b[0m\u001b[0m\n\u001b[0m\u001b[0;32m   1115\u001b[0m         \u001b[1;32melse\u001b[0m\u001b[1;33m:\u001b[0m\u001b[1;33m\u001b[0m\u001b[1;33m\u001b[0m\u001b[0m\n\u001b[0;32m   1116\u001b[0m             \u001b[1;32mif\u001b[0m \u001b[0mengine\u001b[0m \u001b[1;33m==\u001b[0m \u001b[1;34m\"python\"\u001b[0m\u001b[1;33m:\u001b[0m\u001b[1;33m\u001b[0m\u001b[1;33m\u001b[0m\u001b[0m\n",
      "\u001b[1;32m~\\anaconda3\\lib\\site-packages\\pandas\\io\\parsers.py\u001b[0m in \u001b[0;36m__init__\u001b[1;34m(self, src, **kwds)\u001b[0m\n\u001b[0;32m   1889\u001b[0m         \u001b[0mkwds\u001b[0m\u001b[1;33m[\u001b[0m\u001b[1;34m\"usecols\"\u001b[0m\u001b[1;33m]\u001b[0m \u001b[1;33m=\u001b[0m \u001b[0mself\u001b[0m\u001b[1;33m.\u001b[0m\u001b[0musecols\u001b[0m\u001b[1;33m\u001b[0m\u001b[1;33m\u001b[0m\u001b[0m\n\u001b[0;32m   1890\u001b[0m \u001b[1;33m\u001b[0m\u001b[0m\n\u001b[1;32m-> 1891\u001b[1;33m         \u001b[0mself\u001b[0m\u001b[1;33m.\u001b[0m\u001b[0m_reader\u001b[0m \u001b[1;33m=\u001b[0m \u001b[0mparsers\u001b[0m\u001b[1;33m.\u001b[0m\u001b[0mTextReader\u001b[0m\u001b[1;33m(\u001b[0m\u001b[0msrc\u001b[0m\u001b[1;33m,\u001b[0m \u001b[1;33m**\u001b[0m\u001b[0mkwds\u001b[0m\u001b[1;33m)\u001b[0m\u001b[1;33m\u001b[0m\u001b[1;33m\u001b[0m\u001b[0m\n\u001b[0m\u001b[0;32m   1892\u001b[0m         \u001b[0mself\u001b[0m\u001b[1;33m.\u001b[0m\u001b[0munnamed_cols\u001b[0m \u001b[1;33m=\u001b[0m \u001b[0mself\u001b[0m\u001b[1;33m.\u001b[0m\u001b[0m_reader\u001b[0m\u001b[1;33m.\u001b[0m\u001b[0munnamed_cols\u001b[0m\u001b[1;33m\u001b[0m\u001b[1;33m\u001b[0m\u001b[0m\n\u001b[0;32m   1893\u001b[0m \u001b[1;33m\u001b[0m\u001b[0m\n",
      "\u001b[1;32mpandas\\_libs\\parsers.pyx\u001b[0m in \u001b[0;36mpandas._libs.parsers.TextReader.__cinit__\u001b[1;34m()\u001b[0m\n",
      "\u001b[1;32mpandas\\_libs\\parsers.pyx\u001b[0m in \u001b[0;36mpandas._libs.parsers.TextReader._setup_parser_source\u001b[1;34m()\u001b[0m\n",
      "\u001b[1;31mFileNotFoundError\u001b[0m: [Errno 2] File D:\\AS\\va_details.csv does not exist: 'D:\\\\AS\\\\va_details.csv'"
     ]
    }
   ],
   "source": [
    "va_details = pd.read_csv(r'D:\\AS\\va_details.csv')"
   ]
  },
  {
   "cell_type": "code",
   "execution_count": 21,
   "metadata": {},
   "outputs": [],
   "source": [
    "vt_tax_exem = pd.read_csv(r'D:\\AS\\vt_tax_exem.csv')\n",
    "vt_tax_exem['Perm Dt'] = vt_tax_exem.loc[:,'Perm Dt'].apply(lambda x: datetime.strptime(x[:11], '%d-%b-%Y'))"
   ]
  },
  {
   "cell_type": "code",
   "execution_count": 12,
   "metadata": {},
   "outputs": [],
   "source": [
    "vt_tax_based_on = pd.read_csv(r'D:\\AS\\vt_tax_based_on.csv')\n",
    "#vt_tax_based_on_permit_info = pd.read_csv(r'D:\\Jharkhand python\\vt_tax_based_on_permit_info.csv')"
   ]
  },
  {
   "cell_type": "code",
   "execution_count": 11,
   "metadata": {},
   "outputs": [],
   "source": [
    "vt_tax = pd.read_csv(r'D:\\AS\\vt_tax.csv',nrows=1000)\n",
    "vt_tax = vt_tax[vt_tax['Pur Cd']==58]\n",
    "vt_tax = vt_tax[vt_tax['Tax Mode']!='B']\n",
    "vt_tax=vt_tax[vt_tax['Collected By']!='VAHAN2']\n",
    "vt_tax.reset_index(drop=True, inplace=True)"
   ]
  },
  {
   "cell_type": "code",
   "execution_count": 13,
   "metadata": {},
   "outputs": [
    {
     "name": "stderr",
     "output_type": "stream",
     "text": [
      "C:\\Users\\CDMA\\anaconda3\\lib\\site-packages\\IPython\\core\\interactiveshell.py:3063: DtypeWarning: Columns (20) have mixed types.Specify dtype option on import or set low_memory=False.\n",
      "  interactivity=interactivity, compiler=compiler, result=result)\n"
     ]
    }
   ],
   "source": [
    "vt_owner = pd.read_csv(r'D:\\AS\\vt_owner.csv')"
   ]
  },
  {
   "cell_type": "code",
   "execution_count": 12,
   "metadata": {},
   "outputs": [
    {
     "name": "stderr",
     "output_type": "stream",
     "text": [
      "C:\\Users\\CDMA\\anaconda3\\lib\\site-packages\\IPython\\core\\interactiveshell.py:3063: DtypeWarning: Columns (10) have mixed types.Specify dtype option on import or set low_memory=False.\n",
      "  interactivity=interactivity, compiler=compiler, result=result)\n"
     ]
    }
   ],
   "source": [
    "vp_appl_rcpt_mapping = pd.read_csv(r'D:\\Jharkhand python\\vp_appl_rcpt_mapping.csv')"
   ]
  },
  {
   "cell_type": "code",
   "execution_count": 14,
   "metadata": {
    "scrolled": true
   },
   "outputs": [
    {
     "data": {
      "text/plain": [
       "<bound method Series.unique of 0     AS\n",
       "1     AS\n",
       "2     AS\n",
       "3     AS\n",
       "4     AS\n",
       "5     AS\n",
       "6     AS\n",
       "7     AS\n",
       "8     AS\n",
       "9     AS\n",
       "10    AS\n",
       "11    AS\n",
       "12    AS\n",
       "13    AS\n",
       "14    AS\n",
       "15    AS\n",
       "16    AS\n",
       "17    AS\n",
       "18    AS\n",
       "19    AS\n",
       "20    AS\n",
       "21    AS\n",
       "22    AS\n",
       "23    AS\n",
       "24    AS\n",
       "25    AS\n",
       "26    AS\n",
       "27    AS\n",
       "28    AS\n",
       "29    AS\n",
       "Name: State Cd, dtype: object>"
      ]
     },
     "execution_count": 14,
     "metadata": {},
     "output_type": "execute_result"
    }
   ],
   "source": [
    "tm_office = pd.read_csv(r'D:\\AS\\tm_office.csv')\n",
    "tm_office['State Cd'].unique"
   ]
  },
  {
   "cell_type": "code",
   "execution_count": 15,
   "metadata": {},
   "outputs": [],
   "source": [
    "def condition_form_convert(cf_params,params_info, c_formula):\n",
    "    for m in cf_params:\n",
    "        if m != '<>':\n",
    "            val = str(params_info[params_info['code']==m]['P_value'].to_list()[0])\n",
    "            # Change '' to \\'\\' in case of string val\n",
    "            if val.isdigit()==False:\n",
    "                if '.' in val:\n",
    "                    v = val.replace('.','')\n",
    "                    if v.isdigit():\n",
    "                        val=val\n",
    "                    else:\n",
    "                        val=repr(val)\n",
    "                else:\n",
    "                    val=repr(val)\n",
    "            else:\n",
    "                val=val\n",
    "            c_formula = c_formula.replace(str(m),val)\n",
    "        else:\n",
    "            c_formula = c_formula.replace('<>','!=')\n",
    "\n",
    "    # Change '=' to '=='\n",
    "    if '<=' in c_formula:\n",
    "        c_formula=c_formula.replace('<=','@')\n",
    "    if '>=' in c_formula:\n",
    "        c_formula=c_formula.replace('>=',';')\n",
    "    if '!=' in c_formula:\n",
    "        c_formula=c_formula.replace('!=','?')\n",
    "    if '=' in c_formula:\n",
    "        c_formula = c_formula.replace('=','==')\n",
    "    if '@' in c_formula:\n",
    "        c_formula=c_formula.replace('@','<=')\n",
    "    if ';' in c_formula:\n",
    "        c_formula=c_formula.replace(';','>=')\n",
    "    if '?' in c_formula:\n",
    "        c_formula = c_formula.replace('?','!=')\n",
    "    return c_formula"
   ]
  },
  {
   "cell_type": "code",
   "execution_count": 17,
   "metadata": {
    "scrolled": false
   },
   "outputs": [
    {
     "ename": "ValueError",
     "evalue": "time data '23-Dec-201' does not match format '%Y-%m-%d'",
     "output_type": "error",
     "traceback": [
      "\u001b[1;31m---------------------------------------------------------------------------\u001b[0m",
      "\u001b[1;31mValueError\u001b[0m                                Traceback (most recent call last)",
      "\u001b[1;32m<ipython-input-17-b9c431a23d04>\u001b[0m in \u001b[0;36m<module>\u001b[1;34m\u001b[0m\n\u001b[0;32m     13\u001b[0m     \u001b[0mrcpt_dt\u001b[0m \u001b[1;33m=\u001b[0m \u001b[0mvt_tax\u001b[0m\u001b[1;33m[\u001b[0m\u001b[1;34m'Rcpt Dt'\u001b[0m\u001b[1;33m]\u001b[0m\u001b[1;33m.\u001b[0m\u001b[0mto_list\u001b[0m\u001b[1;33m(\u001b[0m\u001b[1;33m)\u001b[0m\u001b[1;33m[\u001b[0m\u001b[0mi\u001b[0m\u001b[1;33m]\u001b[0m\u001b[1;33m\u001b[0m\u001b[1;33m\u001b[0m\u001b[0m\n\u001b[0;32m     14\u001b[0m \u001b[1;33m\u001b[0m\u001b[0m\n\u001b[1;32m---> 15\u001b[1;33m     \u001b[1;32mif\u001b[0m \u001b[0mrelativedelta\u001b[0m\u001b[1;33m(\u001b[0m\u001b[0mdatetime\u001b[0m\u001b[1;33m.\u001b[0m\u001b[0mstrptime\u001b[0m\u001b[1;33m(\u001b[0m\u001b[0mrcpt_dt\u001b[0m\u001b[1;33m[\u001b[0m\u001b[1;33m:\u001b[0m\u001b[1;36m10\u001b[0m\u001b[1;33m]\u001b[0m\u001b[1;33m,\u001b[0m \u001b[0mdate_format\u001b[0m\u001b[1;33m)\u001b[0m\u001b[1;33m,\u001b[0m \u001b[0mdatetime\u001b[0m\u001b[1;33m.\u001b[0m\u001b[0mstrptime\u001b[0m\u001b[1;33m(\u001b[0m\u001b[0mtm_office\u001b[0m\u001b[1;33m[\u001b[0m\u001b[1;33m(\u001b[0m\u001b[0mtm_office\u001b[0m\u001b[1;33m[\u001b[0m\u001b[1;34m'Off Cd'\u001b[0m\u001b[1;33m]\u001b[0m\u001b[1;33m==\u001b[0m\u001b[0moff_cd\u001b[0m\u001b[1;33m)\u001b[0m \u001b[1;33m&\u001b[0m \u001b[1;33m(\u001b[0m\u001b[0mtm_office\u001b[0m\u001b[1;33m[\u001b[0m\u001b[1;34m'State Cd'\u001b[0m\u001b[1;33m]\u001b[0m\u001b[1;33m==\u001b[0m\u001b[0mstate_cd\u001b[0m\u001b[1;33m)\u001b[0m\u001b[1;33m]\u001b[0m\u001b[1;33m[\u001b[0m\u001b[1;34m'Vow4'\u001b[0m\u001b[1;33m]\u001b[0m\u001b[1;33m.\u001b[0m\u001b[0mto_list\u001b[0m\u001b[1;33m(\u001b[0m\u001b[1;33m)\u001b[0m\u001b[1;33m[\u001b[0m\u001b[1;36m0\u001b[0m\u001b[1;33m]\u001b[0m\u001b[1;33m,\u001b[0m\u001b[1;34m'%d-%b-%Y'\u001b[0m\u001b[1;33m)\u001b[0m\u001b[1;33m)\u001b[0m\u001b[1;33m.\u001b[0m\u001b[0mdays\u001b[0m \u001b[1;33m<\u001b[0m\u001b[1;36m0\u001b[0m \u001b[1;33m:\u001b[0m\u001b[1;33m\u001b[0m\u001b[1;33m\u001b[0m\u001b[0m\n\u001b[0m\u001b[0;32m     16\u001b[0m         \u001b[0mprint\u001b[0m\u001b[1;33m(\u001b[0m\u001b[0mi\u001b[0m\u001b[1;33m,\u001b[0m\u001b[1;34m'Legacy receipt '\u001b[0m\u001b[1;33m,\u001b[0m \u001b[0mrcpt_no\u001b[0m\u001b[1;33m,\u001b[0m\u001b[1;34m'('\u001b[0m\u001b[1;33m,\u001b[0m\u001b[0mrcpt_dt\u001b[0m\u001b[1;33m,\u001b[0m\u001b[1;34m') Regn No'\u001b[0m\u001b[1;33m,\u001b[0m\u001b[0mregn_no\u001b[0m\u001b[1;33m,\u001b[0m\u001b[1;34m' collected by'\u001b[0m\u001b[1;33m,\u001b[0m\u001b[0mvt_tax\u001b[0m\u001b[1;33m[\u001b[0m\u001b[1;34m'Collected By'\u001b[0m\u001b[1;33m]\u001b[0m\u001b[1;33m.\u001b[0m\u001b[0mto_list\u001b[0m\u001b[1;33m(\u001b[0m\u001b[1;33m)\u001b[0m\u001b[1;33m[\u001b[0m\u001b[0mi\u001b[0m\u001b[1;33m]\u001b[0m\u001b[1;33m)\u001b[0m\u001b[1;33m\u001b[0m\u001b[1;33m\u001b[0m\u001b[0m\n\u001b[0;32m     17\u001b[0m         \u001b[1;32mcontinue\u001b[0m\u001b[1;33m\u001b[0m\u001b[1;33m\u001b[0m\u001b[0m\n",
      "\u001b[1;32m~\\anaconda3\\lib\\_strptime.py\u001b[0m in \u001b[0;36m_strptime_datetime\u001b[1;34m(cls, data_string, format)\u001b[0m\n\u001b[0;32m    575\u001b[0m     \"\"\"Return a class cls instance based on the input string and the\n\u001b[0;32m    576\u001b[0m     format string.\"\"\"\n\u001b[1;32m--> 577\u001b[1;33m     \u001b[0mtt\u001b[0m\u001b[1;33m,\u001b[0m \u001b[0mfraction\u001b[0m\u001b[1;33m,\u001b[0m \u001b[0mgmtoff_fraction\u001b[0m \u001b[1;33m=\u001b[0m \u001b[0m_strptime\u001b[0m\u001b[1;33m(\u001b[0m\u001b[0mdata_string\u001b[0m\u001b[1;33m,\u001b[0m \u001b[0mformat\u001b[0m\u001b[1;33m)\u001b[0m\u001b[1;33m\u001b[0m\u001b[1;33m\u001b[0m\u001b[0m\n\u001b[0m\u001b[0;32m    578\u001b[0m     \u001b[0mtzname\u001b[0m\u001b[1;33m,\u001b[0m \u001b[0mgmtoff\u001b[0m \u001b[1;33m=\u001b[0m \u001b[0mtt\u001b[0m\u001b[1;33m[\u001b[0m\u001b[1;33m-\u001b[0m\u001b[1;36m2\u001b[0m\u001b[1;33m:\u001b[0m\u001b[1;33m]\u001b[0m\u001b[1;33m\u001b[0m\u001b[1;33m\u001b[0m\u001b[0m\n\u001b[0;32m    579\u001b[0m     \u001b[0margs\u001b[0m \u001b[1;33m=\u001b[0m \u001b[0mtt\u001b[0m\u001b[1;33m[\u001b[0m\u001b[1;33m:\u001b[0m\u001b[1;36m6\u001b[0m\u001b[1;33m]\u001b[0m \u001b[1;33m+\u001b[0m \u001b[1;33m(\u001b[0m\u001b[0mfraction\u001b[0m\u001b[1;33m,\u001b[0m\u001b[1;33m)\u001b[0m\u001b[1;33m\u001b[0m\u001b[1;33m\u001b[0m\u001b[0m\n",
      "\u001b[1;32m~\\anaconda3\\lib\\_strptime.py\u001b[0m in \u001b[0;36m_strptime\u001b[1;34m(data_string, format)\u001b[0m\n\u001b[0;32m    357\u001b[0m     \u001b[1;32mif\u001b[0m \u001b[1;32mnot\u001b[0m \u001b[0mfound\u001b[0m\u001b[1;33m:\u001b[0m\u001b[1;33m\u001b[0m\u001b[1;33m\u001b[0m\u001b[0m\n\u001b[0;32m    358\u001b[0m         raise ValueError(\"time data %r does not match format %r\" %\n\u001b[1;32m--> 359\u001b[1;33m                          (data_string, format))\n\u001b[0m\u001b[0;32m    360\u001b[0m     \u001b[1;32mif\u001b[0m \u001b[0mlen\u001b[0m\u001b[1;33m(\u001b[0m\u001b[0mdata_string\u001b[0m\u001b[1;33m)\u001b[0m \u001b[1;33m!=\u001b[0m \u001b[0mfound\u001b[0m\u001b[1;33m.\u001b[0m\u001b[0mend\u001b[0m\u001b[1;33m(\u001b[0m\u001b[1;33m)\u001b[0m\u001b[1;33m:\u001b[0m\u001b[1;33m\u001b[0m\u001b[1;33m\u001b[0m\u001b[0m\n\u001b[0;32m    361\u001b[0m         raise ValueError(\"unconverted data remains: %s\" %\n",
      "\u001b[1;31mValueError\u001b[0m: time data '23-Dec-201' does not match format '%Y-%m-%d'"
     ]
    }
   ],
   "source": [
    "#Based on vt_tax, vt_owner, vt_tax_based_on, vt_tax_based_on_permit_info, va_details\n",
    "\n",
    "date_format = \"%d-%b-%Y\"\n",
    "for i in range(0, 21):\n",
    "    #print(i)\n",
    "    final_rate=0\n",
    "    regn_no = vt_tax['Regn No'].to_list()[i]\n",
    "    state_cd = vt_tax['State Cd'].to_list()[i]\n",
    "    off_cd = vt_tax['Off Cd'].to_list()[i]\n",
    "    rcpt_no = vt_tax['Rcpt No'].to_list()[i]\n",
    "    #print(regn_no,rcpt_no)\n",
    "    tax_amt = vt_tax['Tax Amt'].to_list()[i]\n",
    "    rcpt_dt = vt_tax['Rcpt Dt'].to_list()[i]\n",
    "    \n",
    "    if relativedelta(datetime.strptime(rcpt_dt[:11], date_format), datetime.strptime(tm_office[(tm_office['Off Cd']==off_cd) & (tm_office['State Cd']==state_cd)]['Vow4'].to_list()[0],'%d-%b-%Y')).days <0 :\n",
    "        print(i,'Legacy receipt ', rcpt_no,'(',rcpt_dt,') Regn No',regn_no,' collected by',vt_tax['Collected By'].to_list()[i])\n",
    "        continue\n",
    "    \n",
    "    if len(vt_owner[vt_owner['Regn No']==regn_no])>0:\n",
    "        vh_class = vt_owner[vt_owner['Regn No']==regn_no]['Vh Class'].to_list()[0]\n",
    "    else:\n",
    "        print(i,'NO INFO IN VT_OWNER',regn_no)\n",
    "        continue\n",
    "    tax_mode = vt_tax['Tax Mode'].to_list()[i]\n",
    "    tm_flag='y'\n",
    "    if tax_mode == 'Q':\n",
    "        tm_flag = 'q'\n",
    "        tax_mode= 'Y'\n",
    "    state_cd = vt_tax['State Cd'].to_list()[i]\n",
    "    pur_cd = vt_tax['Pur Cd'].to_list()[i]\n",
    "    tax_from = vt_tax['Tax From'].to_list()[i]\n",
    "    tax_upto = vt_tax['Tax Upto'].to_list()[i]\n",
    "    \n",
    "    slab_codes = slab_new[(slab_new['vh_class']==vh_class) & (slab_new['pur_cd']==pur_cd) & (slab_new['tax_mode']==tax_mode) & (slab_new['state_cd']==state_cd) & (slab_new['date_from']<datetime.strptime(rcpt_dt[:11], '%d-%b-%Y')) & (slab_new['date_to']>datetime.strptime(rcpt_dt[:11], '%d-%b-%Y')) ]['slab_code'].to_list()\n",
    "    #print('Slab Codes Applicable:',slab_codes)\n",
    "    if len(slab_codes)==0:\n",
    "        print(i,'Missed',rcpt_no,regn_no,'vh_class',vh_class)\n",
    "        continue\n",
    "    formula_df = slab_add_new.loc[(slab_add_new['slab_code'].isin(slab_codes)) & (slab_add_new['state_cd']==state_cd)]\n",
    "    if (state_cd == 'JH') & (30 in slab_codes) | (84 in slab_codes):\n",
    "        #print(i,'Type flag \\'T\\' is changed to \\'R\\'')\n",
    "        if (30 in slab_codes):\n",
    "            formula_df.loc[(formula_df.slab_code==30) & (formula_df.rate_formula.str.contains('<581>')),'type_flag']='R'\n",
    "        else:\n",
    "            formula_df.loc[(formula_df.slab_code==84) & (formula_df.rate_formula.str.contains('<581>')),'type_flag']='R'\n",
    "\n",
    "    \n",
    "    #Identify the parameters required for calculating the formulas\n",
    "    params = []\n",
    "    for j in range(len(formula_df)):\n",
    "        formula = formula_df['condition_formula'].to_list()[j] +' '+formula_df['rate_formula'].to_list()[j]\n",
    "        for k in re.split(r'[()\\*\\s]\\s*',formula):\n",
    "            if '<' in k and '>' in k:\n",
    "                params.append(k[k.find('<'):(k.find('>')+1)])\n",
    "    params = list(set(params))\n",
    "    #print('Required Parameters :',params)\n",
    "    params_info = slab_fields.loc[slab_fields['code'].isin(params)]\n",
    "    params_info = params_info.reindex(columns = params_info.columns.tolist() + ['P_value'])\n",
    "    param_info_tbo = params_info[params_info['table - slab_field']=='vt_tax_based_on']\n",
    "    param_info_tbopi = params_info[params_info['table - slab_field']=='vt_tax_based_on_permit_info']\n",
    "    #param_info_misc = params_info[(params_info['table - slab_field']!='vt_tax_based_on_permit_info') & (params_info['table - slab_field']!='vt_tax_based_on')]\n",
    "    \n",
    "    # Extract parameters from the TBO table\n",
    "    if len(param_info_tbo)>0:\n",
    "        tbo_df = vt_tax_based_on[vt_tax_based_on['regn_no']==regn_no]\n",
    "        tbo_df= copy.deepcopy(tbo_df)\n",
    "        if len(tbo_df)==0:\n",
    "            print(i,'NO INFO IN VT_TBO',rcpt_no,' Regn No:',regn_no)\n",
    "            continue\n",
    "        tbo_df['op_dt'] = tbo_df.loc[:,'op_dt'].apply(lambda x: datetime.strptime(x[:11], '%d-%m-%Y'))\n",
    "        tbo_df = tbo_df.sort_values(by='op_dt', ascending=False)\n",
    "        #print(tbo_df['op_dt'])\n",
    "        #Identify the last receipt details in TBO                                                                                                                            \n",
    "        for n in range(len(tbo_df)):\n",
    "            x = relativedelta(datetime.strptime(rcpt_dt[:11], '%d-%b-%Y'), datetime.strptime(str(tbo_df['op_dt'].to_list()[n])[:10],'%Y-%m-%d'))\n",
    "            x = x.years*365 + x.months*30 + x.days\n",
    "            if x>=0:\n",
    "                last_rcpt = tbo_df['rcpt_no'].to_list()[n]\n",
    "                break\n",
    "            last_rcpt=''\n",
    "        if last_rcpt=='':\n",
    "            print(i,'No prior receipt info!!! Rcpt:',rcpt_no,' Regn No:',regn_no)\n",
    "            continue\n",
    "\n",
    "        for pi in range(len(param_info_tbo)):\n",
    "            col = param_info_tbo['column_name'].to_list()[pi][1:-2]\n",
    "            par = param_info_tbo['column - slab_field'].to_list()[pi]\n",
    "            code = param_info_tbo['code'].to_list()[pi]\n",
    "            p_value = ''\n",
    "            if par=='vch_age':\n",
    "                p_value = relativedelta(datetime.strptime(rcpt_dt[:11], date_format), datetime.strptime(vt_owner[vt_owner['Regn No']==regn_no]['Purchase Dt'].to_list()[0],date_format))\n",
    "                p_value = p_value.years\n",
    "            elif par=='vch_age_months':\n",
    "                p_value = relativedelta(datetime.strptime(rcpt_dt[:10], date_format), datetime.strptime(vt_owner[vt_owner['Regn No']==regn_no]['Purchase Dt'].to_list()[0],date_format))\n",
    "                p_value = (p_value.years *12) + p_value.months\n",
    "            elif par=='purchase_dt_vch_age':\n",
    "                p_value = relativedelta(datetime.strptime(rcpt_dt[:10], date_format), datetime.strptime(tbo_df[tbo_df['rcpt_no']==last_rcpt]['purchase_dt'].to_list()[0],'%d-%m-%Y'))\n",
    "                p_value = p_value.years\n",
    "            elif par=='tax_month_duration':\n",
    "                p_value = relativedelta(datetime.strptime(tax_upto, date_format), datetime.strptime(tax_from, date_format))\n",
    "                p_value = p_value.years *12 + p_value.months\n",
    "            elif par=='distance_run_in_month':\n",
    "                p_value = vt_tax_based_on['distance_run_in_quarter']/4\n",
    "            elif par=='transaction_pur_cd':\n",
    "                appl_no = vp_appl_rcpt_mapping[vp_appl_rcpt_mapping['rcpt_no']==rcpt_no]['appl_no'].to_list()[0]\n",
    "                if len(va_details[va_details['appl_no']==appl_no][col].to_list())==0:\n",
    "                    print(i,'No pur_cd available in va_details')\n",
    "                    print('Appl no',appl_no,' !!! Rcpt:',rcpt_no,' Regn No:',regn_no,'vh_class',vh_class)\n",
    "                    continue\n",
    "                else:\n",
    "                    p_value = va_details[va_details['appl_no']==appl_no][col].to_list()[0]\n",
    "                #print(p_value)\n",
    "            elif par=='vch_type':\n",
    "                p_value = vm_vh_class[vm_vh_class['vh_class']==vh_class]['Class Type'].to_list()[0]\n",
    "            elif par=='new_vch':\n",
    "                p_value = vt_owner[vt_owner['Regn No']==regn_no]['Status'].to_list()[0]\n",
    "            elif par=='tax_mode':\n",
    "                p_value = tax_mode\n",
    "            elif par=='delay_days':\n",
    "                #print(rcpt_dt[:10],' ',tax_from)\n",
    "                p_value = relativedelta(datetime.strptime(rcpt_dt[:11], '%d-%b-%Y'),datetime.strptime(tax_from, date_format))\n",
    "                if p_value.days > 0:\n",
    "                    p_value = p_value.days\n",
    "                elif p_value.days == 0:\n",
    "                    p_value = 1\n",
    "                else:\n",
    "                    p_value = 0\n",
    "                #print(p_value)\n",
    "            else:\n",
    "                p_value = tbo_df[tbo_df['rcpt_no']==last_rcpt][col].to_list()[0]\n",
    "            #print(col,' ',par,' ',code,' ',p_value)\n",
    "            #print(p_value)\n",
    "            params_info.loc[params_info.index[params_info['code'] == code].tolist()[0],'P_value']=p_value\n",
    "    #print(params_info)\n",
    "    #Calculate parameters from TBOPI\n",
    "    if len(param_info_tbopi)>0:\n",
    "        tbopi_df = vt_tax_based_on_permit_info[vt_tax_based_on_permit_info['regn_no']==regn_no]\n",
    "        tbopi_df = tbopi_df.sort_values(by='op_dt', ascending=False)\n",
    "\n",
    "        for n in range(len(tbopi_df)):\n",
    "            if rcpt_dt  > tbopi_df['op_dt'][n]:\n",
    "                last_rcpt = tbopi_df['rcpt_no'][n]\n",
    "                break\n",
    "        for pi in range(len(param_info_tbopi)):\n",
    "            p_value = tbopi_df[tbopi_df['rcpt_no']==last_rcpt][params_info_tbo['column_name']]\n",
    "            params_info['P_value']=p_value                                                                              \n",
    "    elif 'service_type' in params_info['column - slab_field'].to_list():\n",
    "        params_info[params_info['column - slab_field']=='service_type']['P_value']=0\n",
    "\n",
    "    #Calculate the Formula one by one\n",
    "    ind=[]\n",
    "    reb_df = formula_df[formula_df['type_flag']=='R']\n",
    "    for l in range(len(formula_df)):\n",
    "        condition_formula = formula_df['condition_formula'].to_list()[l]\n",
    "        if '\\r' in condition_formula:\n",
    "            condition_formula = condition_formula.replace('\\r','')\n",
    "        if '\\n' in condition_formula:\n",
    "            condition_formula = condition_formula.replace('\\n','')\n",
    "\n",
    "        cf_params = []\n",
    "        for k in re.split(r'[()\\*\\s]\\s*',condition_formula):\n",
    "            if '<' in k and '>' in k:\n",
    "                cf_params.append(k[k.find('<'):(k.find('>')+1)])\n",
    "        cf_params = list(set(cf_params))\n",
    "        c_formula = condition_formula\n",
    "        c_formula = condition_form_convert(cf_params,params_info, c_formula)\n",
    "        if c_formula.lower() != 'false' and formula_df['type_flag'].to_list()[l] != 'R':\n",
    "            #print(c_formula)\n",
    "            cf_result = eval(c_formula.lower())\n",
    "        else:\n",
    "            cf_result = False\n",
    "        if cf_result==True:\n",
    "            ind.append(l)\n",
    "    formula_df.reset_index(drop=True, inplace=True)\n",
    "    \n",
    "    #Module for calculation of rates for true conditions\n",
    "    true_df = formula_df.loc[ind,:]\n",
    "    true_df.reset_index(drop=True, inplace=True)\n",
    "    t_params = []\n",
    "    for q in range(len(true_df)):\n",
    "        r_formula = true_df['rate_formula'].to_list()[q]\n",
    "        for k in re.split(r'[()\\*\\s]\\s*',r_formula):\n",
    "            if '<' in k and '>' in k:\n",
    "                t_params.append(k[k.find('<'):(k.find('>')+1)])\n",
    "\n",
    "    t_params = list(set(t_params))\n",
    "    rates=[]\n",
    "    for q in range(len(true_df)):\n",
    "        r_formula = true_df['rate_formula'].to_list()[q]\n",
    "        for m in t_params:\n",
    "            r_formula = r_formula.replace(str(m),str(params_info[params_info['code']==m]['P_value'].to_list()[0]))\n",
    "        if 'CEILING' in r_formula: r_formula.replace('CEIL','math.ceil')\n",
    "        if 'CEIL' in r_formula: r_formula = r_formula.replace('CEIL','math.ceil')\n",
    "        rate = eval(r_formula.lower())\n",
    "        rates.append(rate)\n",
    "        \n",
    "    true_df['Rate']=rates\n",
    "    \n",
    "    #Module for dealing Minimum M and Amount T \n",
    "    if len(set(true_df['condition_formula'].to_list()))>1:\n",
    "        true_df = true_df[true_df['condition_formula']!='1=1']\n",
    "        if len({'T','M'} - set(true_df['type_flag'].to_list()))==0:\n",
    "            if true_df[true_df['type_flag']=='T']['Rate'].to_list()[0]> true_df[true_df['type_flag']=='M']['Rate'].to_list()[0]:\n",
    "                final_rate = true_df[true_df['type_flag']=='T']['Rate'].to_list()[0]\n",
    "            else:\n",
    "                final_rate = true_df[true_df['type_flag']=='M']['Rate'].to_list()[0]\n",
    "    else:\n",
    "        final_rate = true_df['Rate'].to_list()[0] \n",
    "        \n",
    "    #Module for Rebate\n",
    "    if len(reb_df)>0 and tm_flag !='q':\n",
    "        reb_params = []\n",
    "        for q in range(len(reb_df)):\n",
    "            reb_formula = reb_df['condition_formula'].to_list()[q] +' '+reb_df['rate_formula'].to_list()[q]\n",
    "            for k in re.split(r'[()\\*\\s]\\s*',reb_formula):\n",
    "                if '<' in k and '>' in k:\n",
    "                    reb_params.append(k[k.find('<'):(k.find('>')+1)])\n",
    "        #print(reb_params)\n",
    "        for e in reb_params:\n",
    "            if e=='<581>':\n",
    "                p_value = final_rate\n",
    "                params_info.loc[params_info['code'] == e,'P_value']=p_value\n",
    "        for f in reb_df['condition_formula'].to_list():\n",
    "            r_formula = f\n",
    "            rr_formula = reb_df[reb_df['condition_formula']==f]['rate_formula'].to_list()[0]\n",
    "            r_formula = condition_form_convert(reb_params,params_info,r_formula)\n",
    "            reb_result = eval(r_formula.lower())\n",
    "            if reb_result == True:\n",
    "                ra_formula = condition_form_convert(reb_params,params_info,rr_formula)\n",
    "                reb_rate_result = eval(ra_formula.lower())              \n",
    "                final_rate = final_rate - reb_rate_result\n",
    "            \n",
    "    #Modeule for Tax Mode Remaining years\n",
    "    '''\n",
    "    if tax_mode in ['Y15','Y10','Y12','Y20']:\n",
    "        tax_period = relativedelta(datetime.strptime(tax_upto, date_format), datetime.strptime(tax_from, date_format))\n",
    "        tax_period = tax_period.years*365 + tax_period.months*30 + tax_period.days\n",
    "        veh_age = relativedelta(datetime.strptime(tax_from, date_format), datetime.strptime(vt_owner[vt_owner['Regn No']==regn_no]['Purchase Dt'].to_list()[0],'%Y-%m-%d'))\n",
    "        tax_from_slab_codes = slab_new[(slab_new['vh_class']==vh_class) & (slab_new['pur_cd']==pur_cd) & (slab_new['tax_mode']==tax_mode) & (slab_new['state_cd']==state_cd) & (slab_new['date_from']<datetime.strptime(tax_from, date_format)) & (slab_new['date_to']>datetime.strptime(tax_from, date_format)) ]['slab_code'].to_list()\n",
    "        if len(set(slab_codes)-set(tax_from_slab_codes))!=0:\n",
    "            \n",
    "        \n",
    "        else:\n",
    "            if tax_mode=='Y10':\n",
    "                days_rem = 3652 - ((veh_age.years * 365) + (veh_age.months * 30) + veh_age.days)\n",
    "                final_rate = (final_rate/3652)*days_rem\n",
    "            if tax_mode=='Y12':\n",
    "                days_rem = 4383 - ((veh_age.years * 365) + (veh_age.months * 30) + veh_age.days)\n",
    "                #print('Days remaining in ',tax_mode,'=',days_rem,'days')\n",
    "                final_rate = (final_rate/4383)*days_rem\n",
    "            if tax_mode=='Y15':\n",
    "                days_rem = 5478 - ((veh_age.years * 365) + (veh_age.months * 30) + veh_age.days)\n",
    "                final_rate = (final_rate/5478)*days_rem\n",
    "    '''                            \n",
    "    #Module for Quarterly Mode    \n",
    "    if tm_flag=='q':\n",
    "        tax_period = relativedelta(datetime.strptime(tax_upto, date_format), datetime.strptime(tax_from, date_format))\n",
    "        years_q = math.ceil(tax_period.years * 4)\n",
    "        #tax_period = tax_period.years*12 + tax_period.months\n",
    "        if tax_period.months <=3:\n",
    "            months_q = 1\n",
    "        elif tax_period.months <=6:\n",
    "            months_q = 2\n",
    "        elif tax_period.months <=9:\n",
    "            months_q = 3\n",
    "        else:\n",
    "            months_q = 4\n",
    "        n_quart = years_q + months_q\n",
    "        final_rate = (final_rate/4)*n_quart\n",
    "\n",
    "    #Display Calculated Amount\n",
    "    if int(tax_amt) - int(math.ceil(final_rate)) > 1 or int(tax_amt) - int(math.ceil(final_rate)) < -1:\n",
    "        print(i,'MISMATCH!!! Rcpt:',rcpt_no,' Regn No:',regn_no,'vh_class',vh_class)\n",
    "        print('Tax Amt: Rs',tax_amt,' Calculated: Rs',int(math.ceil(final_rate)))\n",
    "    else:\n",
    "        print(rcpt_no,'Tax Amt: Rs',tax_amt,' Calculated: Rs',int(math.ceil(final_rate)))"
   ]
  },
  {
   "cell_type": "code",
   "execution_count": 23,
   "metadata": {},
   "outputs": [
    {
     "data": {
      "text/plain": [
       "0    08-02-2017 08:52:18\n",
       "1    01-01-2019 17:58:21\n",
       "2    20-07-2019 19:18:36\n",
       "3    29-03-2017 13:16:45\n",
       "4    09-11-2017 17:57:17\n",
       "Name: op_dt, dtype: object"
      ]
     },
     "execution_count": 23,
     "metadata": {},
     "output_type": "execute_result"
    }
   ],
   "source": [
    "vt_tax_based_on['op_dt'].head(5)"
   ]
  },
  {
   "cell_type": "code",
   "execution_count": 19,
   "metadata": {},
   "outputs": [
    {
     "data": {
      "text/html": [
       "<div>\n",
       "<style scoped>\n",
       "    .dataframe tbody tr th:only-of-type {\n",
       "        vertical-align: middle;\n",
       "    }\n",
       "\n",
       "    .dataframe tbody tr th {\n",
       "        vertical-align: top;\n",
       "    }\n",
       "\n",
       "    .dataframe thead th {\n",
       "        text-align: right;\n",
       "    }\n",
       "</style>\n",
       "<table border=\"1\" class=\"dataframe\">\n",
       "  <thead>\n",
       "    <tr style=\"text-align: right;\">\n",
       "      <th></th>\n",
       "      <th>add_code</th>\n",
       "      <th>condition_formula</th>\n",
       "      <th>emp_cd</th>\n",
       "      <th>op_dt</th>\n",
       "      <th>rate_formula</th>\n",
       "      <th>slab_code</th>\n",
       "      <th>state_cd</th>\n",
       "      <th>type_flag</th>\n",
       "    </tr>\n",
       "  </thead>\n",
       "  <tbody>\n",
       "    <tr>\n",
       "      <th>0</th>\n",
       "      <td>1</td>\n",
       "      <td>&lt;2&gt;&lt;=500</td>\n",
       "      <td>200020</td>\n",
       "      <td>17-03-2015 10:21</td>\n",
       "      <td>298.5</td>\n",
       "      <td>4</td>\n",
       "      <td>JH</td>\n",
       "      <td>T</td>\n",
       "    </tr>\n",
       "    <tr>\n",
       "      <th>1</th>\n",
       "      <td>2</td>\n",
       "      <td>&lt;2&gt;&gt;500 AND &lt;2&gt;&lt;=2000</td>\n",
       "      <td>200020</td>\n",
       "      <td>02-07-2015 14:46</td>\n",
       "      <td>298.50+(CEIL((&lt;2&gt;-500)/250.0)*34)</td>\n",
       "      <td>4</td>\n",
       "      <td>JH</td>\n",
       "      <td>T</td>\n",
       "    </tr>\n",
       "    <tr>\n",
       "      <th>2</th>\n",
       "      <td>3</td>\n",
       "      <td>&lt;2&gt;&gt;2000 AND &lt;2&gt;&lt;=4000</td>\n",
       "      <td>200020</td>\n",
       "      <td>02-07-2015 14:45</td>\n",
       "      <td>502.50+(CEIL((&lt;2&gt;-2000)/250.0)*42)</td>\n",
       "      <td>4</td>\n",
       "      <td>JH</td>\n",
       "      <td>T</td>\n",
       "    </tr>\n",
       "    <tr>\n",
       "      <th>3</th>\n",
       "      <td>4</td>\n",
       "      <td>&lt;2&gt;&gt;4000 AND &lt;2&gt;&lt;=8000</td>\n",
       "      <td>200020</td>\n",
       "      <td>02-07-2015 14:45</td>\n",
       "      <td>838.50+(CEIL((&lt;2&gt;-4000)/250.0)*51.50)</td>\n",
       "      <td>4</td>\n",
       "      <td>JH</td>\n",
       "      <td>T</td>\n",
       "    </tr>\n",
       "    <tr>\n",
       "      <th>4</th>\n",
       "      <td>5</td>\n",
       "      <td>&lt;2&gt;&gt;8000</td>\n",
       "      <td>200020</td>\n",
       "      <td>02-07-2015 14:41</td>\n",
       "      <td>1662.50+(CEIL((&lt;2&gt;-8000)/250.00)*136.50)</td>\n",
       "      <td>4</td>\n",
       "      <td>JH</td>\n",
       "      <td>T</td>\n",
       "    </tr>\n",
       "    <tr>\n",
       "      <th>5</th>\n",
       "      <td>6</td>\n",
       "      <td>&lt;59&gt;='Y' AND &lt;57&gt; =0</td>\n",
       "      <td>200020</td>\n",
       "      <td>16-09-2015 15:07</td>\n",
       "      <td>&lt;581&gt; *0.05</td>\n",
       "      <td>4</td>\n",
       "      <td>JH</td>\n",
       "      <td>R</td>\n",
       "    </tr>\n",
       "  </tbody>\n",
       "</table>\n",
       "</div>"
      ],
      "text/plain": [
       "   add_code       condition_formula  emp_cd             op_dt  \\\n",
       "0         1                <2><=500  200020  17-03-2015 10:21   \n",
       "1         2   <2>>500 AND <2><=2000  200020  02-07-2015 14:46   \n",
       "2         3  <2>>2000 AND <2><=4000  200020  02-07-2015 14:45   \n",
       "3         4  <2>>4000 AND <2><=8000  200020  02-07-2015 14:45   \n",
       "4         5                <2>>8000  200020  02-07-2015 14:41   \n",
       "5         6    <59>='Y' AND <57> =0  200020  16-09-2015 15:07   \n",
       "\n",
       "                               rate_formula  slab_code state_cd type_flag  \n",
       "0                                     298.5          4       JH         T  \n",
       "1         298.50+(CEIL((<2>-500)/250.0)*34)          4       JH         T  \n",
       "2        502.50+(CEIL((<2>-2000)/250.0)*42)          4       JH         T  \n",
       "3     838.50+(CEIL((<2>-4000)/250.0)*51.50)          4       JH         T  \n",
       "4  1662.50+(CEIL((<2>-8000)/250.00)*136.50)          4       JH         T  \n",
       "5                               <581> *0.05          4       JH         R  "
      ]
     },
     "execution_count": 19,
     "metadata": {},
     "output_type": "execute_result"
    }
   ],
   "source": [
    "formula_df"
   ]
  },
  {
   "cell_type": "code",
   "execution_count": 24,
   "metadata": {},
   "outputs": [
    {
     "data": {
      "text/html": [
       "<div>\n",
       "<style scoped>\n",
       "    .dataframe tbody tr th:only-of-type {\n",
       "        vertical-align: middle;\n",
       "    }\n",
       "\n",
       "    .dataframe tbody tr th {\n",
       "        vertical-align: top;\n",
       "    }\n",
       "\n",
       "    .dataframe thead th {\n",
       "        text-align: right;\n",
       "    }\n",
       "</style>\n",
       "<table border=\"1\" class=\"dataframe\">\n",
       "  <thead>\n",
       "    <tr style=\"text-align: right;\">\n",
       "      <th></th>\n",
       "      <th>add_code</th>\n",
       "      <th>condition_formula</th>\n",
       "      <th>emp_cd</th>\n",
       "      <th>op_dt</th>\n",
       "      <th>rate_formula</th>\n",
       "      <th>slab_code</th>\n",
       "      <th>state_cd</th>\n",
       "      <th>type_flag</th>\n",
       "      <th>Rate</th>\n",
       "    </tr>\n",
       "  </thead>\n",
       "  <tbody>\n",
       "    <tr>\n",
       "      <th>0</th>\n",
       "      <td>4</td>\n",
       "      <td>&lt;2&gt;&gt;4000 AND &lt;2&gt;&lt;=8000</td>\n",
       "      <td>200020</td>\n",
       "      <td>02-07-2015 14:45</td>\n",
       "      <td>838.50+(CEIL((&lt;2&gt;-4000)/250.0)*51.50)</td>\n",
       "      <td>4</td>\n",
       "      <td>JH</td>\n",
       "      <td>T</td>\n",
       "      <td>941.5</td>\n",
       "    </tr>\n",
       "  </tbody>\n",
       "</table>\n",
       "</div>"
      ],
      "text/plain": [
       "   add_code       condition_formula  emp_cd             op_dt  \\\n",
       "0         4  <2>>4000 AND <2><=8000  200020  02-07-2015 14:45   \n",
       "\n",
       "                            rate_formula  slab_code state_cd type_flag   Rate  \n",
       "0  838.50+(CEIL((<2>-4000)/250.0)*51.50)          4       JH         T  941.5  "
      ]
     },
     "execution_count": 24,
     "metadata": {},
     "output_type": "execute_result"
    }
   ],
   "source": [
    "true_df"
   ]
  },
  {
   "cell_type": "code",
   "execution_count": 25,
   "metadata": {},
   "outputs": [
    {
     "data": {
      "text/plain": [
       "894.425"
      ]
     },
     "execution_count": 25,
     "metadata": {},
     "output_type": "execute_result"
    }
   ],
   "source": [
    "final_rate"
   ]
  },
  {
   "cell_type": "code",
   "execution_count": 26,
   "metadata": {},
   "outputs": [
    {
     "data": {
      "text/html": [
       "<div>\n",
       "<style scoped>\n",
       "    .dataframe tbody tr th:only-of-type {\n",
       "        vertical-align: middle;\n",
       "    }\n",
       "\n",
       "    .dataframe tbody tr th {\n",
       "        vertical-align: top;\n",
       "    }\n",
       "\n",
       "    .dataframe thead th {\n",
       "        text-align: right;\n",
       "    }\n",
       "</style>\n",
       "<table border=\"1\" class=\"dataframe\">\n",
       "  <thead>\n",
       "    <tr style=\"text-align: right;\">\n",
       "      <th></th>\n",
       "      <th>add_code</th>\n",
       "      <th>condition_formula</th>\n",
       "      <th>emp_cd</th>\n",
       "      <th>op_dt</th>\n",
       "      <th>rate_formula</th>\n",
       "      <th>slab_code</th>\n",
       "      <th>state_cd</th>\n",
       "      <th>type_flag</th>\n",
       "    </tr>\n",
       "  </thead>\n",
       "  <tbody>\n",
       "    <tr>\n",
       "      <th>9946</th>\n",
       "      <td>6</td>\n",
       "      <td>&lt;59&gt;='Y' AND &lt;57&gt; =0</td>\n",
       "      <td>200020</td>\n",
       "      <td>16-09-2015 15:07</td>\n",
       "      <td>&lt;581&gt; *0.05</td>\n",
       "      <td>4</td>\n",
       "      <td>JH</td>\n",
       "      <td>R</td>\n",
       "    </tr>\n",
       "  </tbody>\n",
       "</table>\n",
       "</div>"
      ],
      "text/plain": [
       "      add_code     condition_formula  emp_cd             op_dt rate_formula  \\\n",
       "9946         6  <59>='Y' AND <57> =0  200020  16-09-2015 15:07  <581> *0.05   \n",
       "\n",
       "      slab_code state_cd type_flag  \n",
       "9946          4       JH         R  "
      ]
     },
     "execution_count": 26,
     "metadata": {},
     "output_type": "execute_result"
    }
   ],
   "source": [
    "reb_df"
   ]
  },
  {
   "cell_type": "code",
   "execution_count": 22,
   "metadata": {},
   "outputs": [
    {
     "data": {
      "text/plain": [
       "[4]"
      ]
     },
     "execution_count": 22,
     "metadata": {},
     "output_type": "execute_result"
    }
   ],
   "source": [
    "slab_codes"
   ]
  },
  {
   "cell_type": "code",
   "execution_count": 44,
   "metadata": {},
   "outputs": [
    {
     "data": {
      "text/html": [
       "<div>\n",
       "<style scoped>\n",
       "    .dataframe tbody tr th:only-of-type {\n",
       "        vertical-align: middle;\n",
       "    }\n",
       "\n",
       "    .dataframe tbody tr th {\n",
       "        vertical-align: top;\n",
       "    }\n",
       "\n",
       "    .dataframe thead th {\n",
       "        text-align: right;\n",
       "    }\n",
       "</style>\n",
       "<table border=\"1\" class=\"dataframe\">\n",
       "  <thead>\n",
       "    <tr style=\"text-align: right;\">\n",
       "      <th></th>\n",
       "      <th>Regn No</th>\n",
       "      <th>Tax Mode</th>\n",
       "      <th>Payment Mode</th>\n",
       "      <th>Tax Amt</th>\n",
       "      <th>Tax Fine</th>\n",
       "      <th>Rcpt No</th>\n",
       "      <th>Rcpt Dt</th>\n",
       "      <th>Tax From</th>\n",
       "      <th>Tax Upto</th>\n",
       "      <th>Pur Cd</th>\n",
       "      <th>Flag</th>\n",
       "      <th>Collected By</th>\n",
       "      <th>State Cd</th>\n",
       "      <th>Off Cd</th>\n",
       "    </tr>\n",
       "  </thead>\n",
       "  <tbody>\n",
       "    <tr>\n",
       "      <th>42</th>\n",
       "      <td>JH05BQ1717</td>\n",
       "      <td>Y15</td>\n",
       "      <td>I</td>\n",
       "      <td>7647</td>\n",
       "      <td>675</td>\n",
       "      <td>JH190928C2114771</td>\n",
       "      <td>2019-09-28 19:26:37.629217</td>\n",
       "      <td>2019-02-21</td>\n",
       "      <td>2031-11-18</td>\n",
       "      <td>58</td>\n",
       "      <td>NaN</td>\n",
       "      <td>ONLINE TAX</td>\n",
       "      <td>JH</td>\n",
       "      <td>5</td>\n",
       "    </tr>\n",
       "  </tbody>\n",
       "</table>\n",
       "</div>"
      ],
      "text/plain": [
       "       Regn No Tax Mode Payment Mode  Tax Amt  Tax Fine           Rcpt No  \\\n",
       "42  JH05BQ1717      Y15            I     7647       675  JH190928C2114771   \n",
       "\n",
       "                       Rcpt Dt    Tax From    Tax Upto  Pur Cd  Flag  \\\n",
       "42  2019-09-28 19:26:37.629217  2019-02-21  2031-11-18      58   NaN   \n",
       "\n",
       "   Collected By State Cd  Off Cd  \n",
       "42   ONLINE TAX       JH       5  "
      ]
     },
     "execution_count": 44,
     "metadata": {},
     "output_type": "execute_result"
    }
   ],
   "source": [
    "vt_tax[vt_tax['Regn No']=='JH05BQ1717']"
   ]
  },
  {
   "cell_type": "code",
   "execution_count": null,
   "metadata": {},
   "outputs": [],
   "source": [
    "vt_tax[vt_tax['Regn No']=='JH05AF9610']"
   ]
  },
  {
   "cell_type": "code",
   "execution_count": 31,
   "metadata": {},
   "outputs": [
    {
     "data": {
      "text/plain": [
       "2895238    57\n",
       "Name: Vh Class, dtype: int64"
      ]
     },
     "execution_count": 31,
     "metadata": {},
     "output_type": "execute_result"
    }
   ],
   "source": [
    "vt_owner[vt_owner['Regn No']=='JH02U7130']['Vh Class']"
   ]
  },
  {
   "cell_type": "code",
   "execution_count": 465,
   "metadata": {},
   "outputs": [
    {
     "data": {
      "text/html": [
       "<div>\n",
       "<style scoped>\n",
       "    .dataframe tbody tr th:only-of-type {\n",
       "        vertical-align: middle;\n",
       "    }\n",
       "\n",
       "    .dataframe tbody tr th {\n",
       "        vertical-align: top;\n",
       "    }\n",
       "\n",
       "    .dataframe thead th {\n",
       "        text-align: right;\n",
       "    }\n",
       "</style>\n",
       "<table border=\"1\" class=\"dataframe\">\n",
       "  <thead>\n",
       "    <tr style=\"text-align: right;\">\n",
       "      <th></th>\n",
       "      <th>state_cd</th>\n",
       "      <th>off_cd</th>\n",
       "      <th>appl_no</th>\n",
       "      <th>rcpt_no</th>\n",
       "      <th>owner_name</th>\n",
       "      <th>chasi_no</th>\n",
       "      <th>vh_class</th>\n",
       "      <th>instrument_cd</th>\n",
       "      <th>excess_amt</th>\n",
       "      <th>cash_amt</th>\n",
       "      <th>remarks</th>\n",
       "    </tr>\n",
       "  </thead>\n",
       "  <tbody>\n",
       "    <tr>\n",
       "      <th>3843801</th>\n",
       "      <td>JH</td>\n",
       "      <td>5.0</td>\n",
       "      <td>JH190928V1951379</td>\n",
       "      <td>JH190928C2114771</td>\n",
       "      <td>MD.SALAUDDIN</td>\n",
       "      <td>MCG000GP4J1649965</td>\n",
       "      <td>57.0</td>\n",
       "      <td>NaN</td>\n",
       "      <td>0.0</td>\n",
       "      <td>8322.0</td>\n",
       "      <td>NaN</td>\n",
       "    </tr>\n",
       "  </tbody>\n",
       "</table>\n",
       "</div>"
      ],
      "text/plain": [
       "        state_cd  off_cd           appl_no           rcpt_no    owner_name  \\\n",
       "3843801       JH     5.0  JH190928V1951379  JH190928C2114771  MD.SALAUDDIN   \n",
       "\n",
       "                  chasi_no  vh_class  instrument_cd  excess_amt  cash_amt  \\\n",
       "3843801  MCG000GP4J1649965      57.0            NaN         0.0    8322.0   \n",
       "\n",
       "        remarks  \n",
       "3843801     NaN  "
      ]
     },
     "execution_count": 465,
     "metadata": {},
     "output_type": "execute_result"
    }
   ],
   "source": [
    "vp_appl_rcpt_mapping[vp_appl_rcpt_mapping['rcpt_no']==rcpt_no]\n",
    "#p_value = va_details[va_details['appl_no']==appl_no][col].to_list()[0]"
   ]
  },
  {
   "cell_type": "code",
   "execution_count": 45,
   "metadata": {},
   "outputs": [
    {
     "data": {
      "text/plain": [
       "4370206    2011-01-14\n",
       "Name: Purchase Dt, dtype: object"
      ]
     },
     "execution_count": 45,
     "metadata": {},
     "output_type": "execute_result"
    }
   ],
   "source": [
    "vt_owner[vt_owner['Regn No']==regn_no]['Purchase Dt']"
   ]
  },
  {
   "cell_type": "code",
   "execution_count": 23,
   "metadata": {
    "scrolled": true
   },
   "outputs": [
    {
     "data": {
      "text/html": [
       "<div>\n",
       "<style scoped>\n",
       "    .dataframe tbody tr th:only-of-type {\n",
       "        vertical-align: middle;\n",
       "    }\n",
       "\n",
       "    .dataframe tbody tr th {\n",
       "        vertical-align: top;\n",
       "    }\n",
       "\n",
       "    .dataframe thead th {\n",
       "        text-align: right;\n",
       "    }\n",
       "</style>\n",
       "<table border=\"1\" class=\"dataframe\">\n",
       "  <thead>\n",
       "    <tr style=\"text-align: right;\">\n",
       "      <th></th>\n",
       "      <th>Condition Formula</th>\n",
       "      <th>Condition Result</th>\n",
       "      <th>Result</th>\n",
       "      <th>Rate Formula</th>\n",
       "    </tr>\n",
       "  </thead>\n",
       "  <tbody>\n",
       "    <tr>\n",
       "      <th>0</th>\n",
       "      <td>&lt;2&gt;&lt;=500</td>\n",
       "      <td>4450.0&lt;=500</td>\n",
       "      <td>False</td>\n",
       "      <td>298.5</td>\n",
       "    </tr>\n",
       "    <tr>\n",
       "      <th>1</th>\n",
       "      <td>&lt;2&gt;&gt;500 AND &lt;2&gt;&lt;=2000</td>\n",
       "      <td>4450.0&gt;500 AND 4450.0&lt;=2000</td>\n",
       "      <td>False</td>\n",
       "      <td>298.50+(CEIL((&lt;2&gt;-500)/250.0)*34)</td>\n",
       "    </tr>\n",
       "    <tr>\n",
       "      <th>2</th>\n",
       "      <td>&lt;2&gt;&gt;2000 AND &lt;2&gt;&lt;=4000</td>\n",
       "      <td>4450.0&gt;2000 AND 4450.0&lt;=4000</td>\n",
       "      <td>False</td>\n",
       "      <td>502.50+(CEIL((&lt;2&gt;-2000)/250.0)*42)</td>\n",
       "    </tr>\n",
       "    <tr>\n",
       "      <th>3</th>\n",
       "      <td>&lt;2&gt;&gt;4000 AND &lt;2&gt;&lt;=8000</td>\n",
       "      <td>4450.0&gt;4000 AND 4450.0&lt;=8000</td>\n",
       "      <td>True</td>\n",
       "      <td>838.50+(CEIL((&lt;2&gt;-4000)/250.0)*51.50)</td>\n",
       "    </tr>\n",
       "    <tr>\n",
       "      <th>4</th>\n",
       "      <td>&lt;2&gt;&gt;8000</td>\n",
       "      <td>4450.0&gt;8000</td>\n",
       "      <td>False</td>\n",
       "      <td>1662.50+(CEIL((&lt;2&gt;-8000)/250.00)*136.50)</td>\n",
       "    </tr>\n",
       "    <tr>\n",
       "      <th>5</th>\n",
       "      <td>&lt;59&gt;='Y' AND &lt;57&gt; =0</td>\n",
       "      <td>'Y'=='Y' AND 0 ==0</td>\n",
       "      <td>False</td>\n",
       "      <td>&lt;581&gt; *0.05</td>\n",
       "    </tr>\n",
       "  </tbody>\n",
       "</table>\n",
       "</div>"
      ],
      "text/plain": [
       "        Condition Formula              Condition Result  Result  \\\n",
       "0                <2><=500                   4450.0<=500   False   \n",
       "1   <2>>500 AND <2><=2000   4450.0>500 AND 4450.0<=2000   False   \n",
       "2  <2>>2000 AND <2><=4000  4450.0>2000 AND 4450.0<=4000   False   \n",
       "3  <2>>4000 AND <2><=8000  4450.0>4000 AND 4450.0<=8000    True   \n",
       "4                <2>>8000                   4450.0>8000   False   \n",
       "5    <59>='Y' AND <57> =0            'Y'=='Y' AND 0 ==0   False   \n",
       "\n",
       "                               Rate Formula  \n",
       "0                                     298.5  \n",
       "1         298.50+(CEIL((<2>-500)/250.0)*34)  \n",
       "2        502.50+(CEIL((<2>-2000)/250.0)*42)  \n",
       "3     838.50+(CEIL((<2>-4000)/250.0)*51.50)  \n",
       "4  1662.50+(CEIL((<2>-8000)/250.00)*136.50)  \n",
       "5                               <581> *0.05  "
      ]
     },
     "execution_count": 23,
     "metadata": {},
     "output_type": "execute_result"
    }
   ],
   "source": [
    "#Output Dataframe\n",
    "cff_formula = []\n",
    "cc_formula=[]\n",
    "ccf_result=[]\n",
    "cr_rate=[]\n",
    "c_add_code=[]\n",
    "for l in range(len(formula_df)):\n",
    "    condition_formula = formula_df['condition_formula'].to_list()[l]\n",
    "    if '\\r' in condition_formula:\n",
    "        condition_formula = condition_formula.replace('\\r','')\n",
    "    if '\\n' in condition_formula:\n",
    "        condition_formula = condition_formula.replace('\\n','')\n",
    "\n",
    "    cf_params = []\n",
    "    for k in re.split(r'[()\\*\\s]\\s*',condition_formula):\n",
    "        if '<' in k and '>' in k:\n",
    "            cf_params.append(k[k.find('<'):(k.find('>')+1)])\n",
    "    cf_params = list(set(cf_params))\n",
    "    c_formula = condition_formula\n",
    "    c_formula = condition_form_convert(cf_params,params_info, c_formula)\n",
    "    if c_formula.lower() != 'false' and formula_df['type_flag'].to_list()[l] != 'R':\n",
    "        #print(c_formula)\n",
    "        cf_result = eval(c_formula.lower())\n",
    "    else:\n",
    "        cf_result = False\n",
    "    if cf_result==True:\n",
    "        ind.append(l)\n",
    "    #print(c_formula,cf_result,formula_df.loc[:,'rate_formula'].to_list()[l])\n",
    "    #if cf_result==True:\n",
    "    #    ind = l\n",
    "    cff_formula.append(condition_formula)\n",
    "    cc_formula.append(c_formula)\n",
    "    ccf_result.append(cf_result)\n",
    "    cr_rate.append(formula_df.loc[:,'rate_formula'].to_list()[l])\n",
    "    #c_add_code.append(add_code)\n",
    "    #print(c_formula,cf_result,formula_df.loc[:,'rate_formula'].to_list()[l])\n",
    "#print('Identified Parameters: ',params_info)\n",
    "df = pd.DataFrame(list(zip(cff_formula,cc_formula, ccf_result,cr_rate)), columns =['Condition Formula', 'Condition Result','Result','Rate Formula']) \n",
    "df"
   ]
  },
  {
   "cell_type": "code",
   "execution_count": 516,
   "metadata": {},
   "outputs": [
    {
     "data": {
      "text/html": [
       "<div>\n",
       "<style scoped>\n",
       "    .dataframe tbody tr th:only-of-type {\n",
       "        vertical-align: middle;\n",
       "    }\n",
       "\n",
       "    .dataframe tbody tr th {\n",
       "        vertical-align: top;\n",
       "    }\n",
       "\n",
       "    .dataframe thead th {\n",
       "        text-align: right;\n",
       "    }\n",
       "</style>\n",
       "<table border=\"1\" class=\"dataframe\">\n",
       "  <thead>\n",
       "    <tr style=\"text-align: right;\">\n",
       "      <th></th>\n",
       "      <th>add_code</th>\n",
       "      <th>condition_formula</th>\n",
       "      <th>emp_cd</th>\n",
       "      <th>op_dt</th>\n",
       "      <th>rate_formula</th>\n",
       "      <th>slab_code</th>\n",
       "      <th>state_cd</th>\n",
       "      <th>type_flag</th>\n",
       "      <th>Rate</th>\n",
       "    </tr>\n",
       "  </thead>\n",
       "  <tbody>\n",
       "    <tr>\n",
       "      <th>0</th>\n",
       "      <td>1</td>\n",
       "      <td>&lt;5&gt; &gt;0</td>\n",
       "      <td>200120</td>\n",
       "      <td>03-01-2019 11:44</td>\n",
       "      <td>&lt;5&gt;*0.07</td>\n",
       "      <td>43</td>\n",
       "      <td>JH</td>\n",
       "      <td>T</td>\n",
       "      <td>13440.0</td>\n",
       "    </tr>\n",
       "  </tbody>\n",
       "</table>\n",
       "</div>"
      ],
      "text/plain": [
       "   add_code condition_formula  emp_cd             op_dt rate_formula  \\\n",
       "0         1            <5> >0  200120  03-01-2019 11:44     <5>*0.07   \n",
       "\n",
       "   slab_code state_cd type_flag     Rate  \n",
       "0         43       JH         T  13440.0  "
      ]
     },
     "execution_count": 516,
     "metadata": {},
     "output_type": "execute_result"
    }
   ],
   "source": [
    "true_df"
   ]
  }
 ],
 "metadata": {
  "kernelspec": {
   "display_name": "Python 3",
   "language": "python",
   "name": "python3"
  },
  "language_info": {
   "codemirror_mode": {
    "name": "ipython",
    "version": 3
   },
   "file_extension": ".py",
   "mimetype": "text/x-python",
   "name": "python",
   "nbconvert_exporter": "python",
   "pygments_lexer": "ipython3",
   "version": "3.7.6"
  }
 },
 "nbformat": 4,
 "nbformat_minor": 4
}
